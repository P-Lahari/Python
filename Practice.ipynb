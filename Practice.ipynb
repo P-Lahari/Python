{
 "cells": [
  {
   "cell_type": "code",
   "execution_count": 1,
   "metadata": {},
   "outputs": [
    {
     "name": "stdout",
     "output_type": "stream",
     "text": [
      "['False', 'None', 'True', 'and', 'as', 'assert', 'async', 'await', 'break', 'class', 'continue', 'def', 'del', 'elif', 'else', 'except', 'finally', 'for', 'from', 'global', 'if', 'import', 'in', 'is', 'lambda', 'nonlocal', 'not', 'or', 'pass', 'raise', 'return', 'try', 'while', 'with', 'yield']\n"
     ]
    }
   ],
   "source": [
    "import keyword\n",
    "print(keyword.kwlist)"
   ]
  },
  {
   "cell_type": "code",
   "execution_count": 1,
   "metadata": {},
   "outputs": [
    {
     "data": {
      "text/plain": [
       "'C:\\\\Users\\\\lahari'"
      ]
     },
     "execution_count": 1,
     "metadata": {},
     "output_type": "execute_result"
    }
   ],
   "source": [
    "pwd"
   ]
  },
  {
   "cell_type": "code",
   "execution_count": 4,
   "metadata": {},
   "outputs": [
    {
     "name": "stdout",
     "output_type": "stream",
     "text": [
      "one two\n",
      " 12\n"
     ]
    }
   ],
   "source": [
    "def f(s):\n",
    "    l=list(s.split())\n",
    "    l1=\" \"\n",
    "    for i in l:\n",
    "        if i=='one':\n",
    "            l1+='1'\n",
    "        elif i=='two':\n",
    "            l1+='2'\n",
    "        elif i=='three':\n",
    "            l1+='3'\n",
    "        elif i=='four':\n",
    "            l1+='4'\n",
    "        elif i=='five':\n",
    "            l1+='5'\n",
    "        elif i=='six':\n",
    "            l1+='6'\n",
    "        elif i=='seven':\n",
    "            l1+='7'\n",
    "        elif i=='eight':\n",
    "            l1+='8'\n",
    "        elif i=='nine':\n",
    "            l1+='9'\n",
    "        else:\n",
    "            l1+='0'\n",
    "    print(l1)\n",
    "s=input()\n",
    "f(s)"
   ]
  },
  {
   "cell_type": "code",
   "execution_count": 4,
   "metadata": {},
   "outputs": [
    {
     "name": "stdout",
     "output_type": "stream",
     "text": [
      "[9, 8]\n"
     ]
    }
   ],
   "source": [
    "x=[9,4,8,2,3]\n",
    "y=[]\n",
    "for i in range(len(x)-1):\n",
    "    if x[i]>max(x[i+1:]):\n",
    "        y.append(x[i])\n",
    "print(y)"
   ]
  },
  {
   "cell_type": "code",
   "execution_count": null,
   "metadata": {},
   "outputs": [],
   "source": [
    "x=[89,2,34,5,7,8]\n",
    "l=[]\n",
    "for i in range(len(x)-1):\n",
    "    if x[i]>max(x[i+1:]):\n",
    "        l.append(x[i])\n",
    "l.append(x[-1])\n",
    "print(l)"
   ]
  },
  {
   "cell_type": "code",
   "execution_count": 7,
   "metadata": {},
   "outputs": [
    {
     "name": "stdout",
     "output_type": "stream",
     "text": [
      "72\n",
      "pronic no\n"
     ]
    }
   ],
   "source": [
    "n=int(input())\n",
    "for i in range(n):\n",
    "    if i*(i+1)==n:\n",
    "        print('pronic no')\n",
    "        break\n",
    "else:\n",
    "    print('not')"
   ]
  },
  {
   "cell_type": "code",
   "execution_count": 2,
   "metadata": {},
   "outputs": [],
   "source": [
    "x=y=[1,2,3]\n",
    "x=[4,5,6]"
   ]
  },
  {
   "cell_type": "code",
   "execution_count": 3,
   "metadata": {},
   "outputs": [
    {
     "name": "stdout",
     "output_type": "stream",
     "text": [
      "[4, 5, 6]\n"
     ]
    }
   ],
   "source": [
    "print(x)"
   ]
  },
  {
   "cell_type": "code",
   "execution_count": 4,
   "metadata": {},
   "outputs": [],
   "source": [
    "x[0]=7"
   ]
  },
  {
   "cell_type": "code",
   "execution_count": null,
   "metadata": {},
   "outputs": [],
   "source": []
  },
  {
   "cell_type": "code",
   "execution_count": 5,
   "metadata": {},
   "outputs": [
    {
     "name": "stdout",
     "output_type": "stream",
     "text": [
      "[1, 2, 3]\n"
     ]
    }
   ],
   "source": [
    "print(y)"
   ]
  },
  {
   "cell_type": "code",
   "execution_count": 7,
   "metadata": {},
   "outputs": [
    {
     "name": "stdout",
     "output_type": "stream",
     "text": [
      "[13, 8, 7]\n"
     ]
    }
   ],
   "source": [
    "x=y=[9,8,7]\n",
    "x[0]=13\n",
    "print(y)"
   ]
  },
  {
   "cell_type": "code",
   "execution_count": 8,
   "metadata": {},
   "outputs": [
    {
     "name": "stdout",
     "output_type": "stream",
     "text": [
      "2\n"
     ]
    }
   ],
   "source": [
    "def my_function():    # This is a function definition. Note the colon (:)\n",
    " a = 2                # This line belongs to the function because it's indented\n",
    " return a             # This line also belongs to the same function\n",
    "print(my_function())  #this line is out of fn"
   ]
  },
  {
   "cell_type": "code",
   "execution_count": 9,
   "metadata": {},
   "outputs": [
    {
     "name": "stdout",
     "output_type": "stream",
     "text": [
      "3\n"
     ]
    }
   ],
   "source": [
    "a=2\n",
    "b=3\n",
    "if a>b: print(a)\n",
    "else:print(b)"
   ]
  },
  {
   "cell_type": "code",
   "execution_count": 10,
   "metadata": {},
   "outputs": [
    {
     "name": "stdout",
     "output_type": "stream",
     "text": [
      "<reversed object at 0x00000211E33137F0>\n"
     ]
    }
   ],
   "source": [
    "l=\"neeraj\"\n",
    "print(reversed(l))"
   ]
  },
  {
   "cell_type": "code",
   "execution_count": 11,
   "metadata": {},
   "outputs": [
    {
     "name": "stdout",
     "output_type": "stream",
     "text": [
      "<reversed object at 0x00000211E3313EB0>\n"
     ]
    }
   ],
   "source": [
    "a=reversed(\"hello\")\n",
    "print(a)"
   ]
  },
  {
   "cell_type": "code",
   "execution_count": null,
   "metadata": {},
   "outputs": [],
   "source": [
    "a = (1, 2, 3)\n",
    "b = ('a', 1, 'python', (1, 2))\n",
    "print(b(2))"
   ]
  },
  {
   "cell_type": "code",
   "execution_count": 2,
   "metadata": {},
   "outputs": [
    {
     "name": "stdout",
     "output_type": "stream",
     "text": [
      "8\n"
     ]
    }
   ],
   "source": [
    "a=7\n",
    "if isinstance(a,int):\n",
    "    a+=1\n",
    "elif isinstance(a,str):\n",
    "    a=int(a)\n",
    "    a+=1\n",
    "print(a)"
   ]
  },
  {
   "cell_type": "code",
   "execution_count": 3,
   "metadata": {},
   "outputs": [
    {
     "data": {
      "text/plain": [
       "b'foo bar'"
      ]
     },
     "execution_count": 3,
     "metadata": {},
     "output_type": "execute_result"
    }
   ],
   "source": [
    "b'foo bar'"
   ]
  },
  {
   "cell_type": "code",
   "execution_count": 4,
   "metadata": {},
   "outputs": [
    {
     "data": {
      "text/plain": [
       "'foo bar'"
      ]
     },
     "execution_count": 4,
     "metadata": {},
     "output_type": "execute_result"
    }
   ],
   "source": [
    "u'foo bar'"
   ]
  },
  {
   "cell_type": "code",
   "execution_count": 5,
   "metadata": {},
   "outputs": [
    {
     "data": {
      "text/plain": [
       "'foo bar'"
      ]
     },
     "execution_count": 5,
     "metadata": {},
     "output_type": "execute_result"
    }
   ],
   "source": [
    "r'foo bar'"
   ]
  },
  {
   "cell_type": "code",
   "execution_count": 7,
   "metadata": {},
   "outputs": [
    {
     "name": "stdout",
     "output_type": "stream",
     "text": [
      "foo\\nbar\n"
     ]
    }
   ],
   "source": [
    "print('foo\\\\nbar')"
   ]
  },
  {
   "cell_type": "code",
   "execution_count": 8,
   "metadata": {},
   "outputs": [
    {
     "name": "stdout",
     "output_type": "stream",
     "text": [
      "foo\\\\nbar\n"
     ]
    }
   ],
   "source": [
    "print(r'foo\\\\nbar')"
   ]
  },
  {
   "cell_type": "code",
   "execution_count": 9,
   "metadata": {},
   "outputs": [
    {
     "name": "stdout",
     "output_type": "stream",
     "text": [
      "foo\n",
      "bar\n"
     ]
    }
   ],
   "source": [
    "print('foo\\nbar')"
   ]
  },
  {
   "cell_type": "code",
   "execution_count": 11,
   "metadata": {},
   "outputs": [
    {
     "data": {
      "text/plain": [
       "False"
      ]
     },
     "execution_count": 11,
     "metadata": {},
     "output_type": "execute_result"
    }
   ],
   "source": [
    "def f(m):\n",
    " m.append(3) # adds a number to the list. This is a mutation.\n",
    "x = [1, 2]\n",
    "f(x)\n",
    "x==[1,2]"
   ]
  },
  {
   "cell_type": "code",
   "execution_count": 13,
   "metadata": {},
   "outputs": [
    {
     "name": "stdout",
     "output_type": "stream",
     "text": [
      "[4, 3, 2, 1]\n"
     ]
    }
   ],
   "source": [
    "a=[1,2,3,4]\n",
    "a.reverse()\n",
    "print(a)"
   ]
  },
  {
   "cell_type": "code",
   "execution_count": 25,
   "metadata": {},
   "outputs": [
    {
     "name": "stdout",
     "output_type": "stream",
     "text": [
      "k format is1\n",
      "h format is2\n",
      "a format is3\n",
      "r format is4\n"
     ]
    }
   ],
   "source": [
    "a={'1':'k','2':'h','3':'a','4':'r'}\n",
    "for x in a:\n",
    "    print('{} format is{}'.format(a[x],x))"
   ]
  },
  {
   "cell_type": "code",
   "execution_count": 23,
   "metadata": {},
   "outputs": [
    {
     "name": "stdout",
     "output_type": "stream",
     "text": [
      "Little Rock is the capital of Arkansas\n",
      "Denver is the capital of Colorado\n",
      "Sacramento is the capital of California\n",
      "Atlanta is the capital of Georgia\n"
     ]
    }
   ],
   "source": [
    "state_capitals = {\n",
    " 'Arkansas': 'Little Rock',\n",
    " 'Colorado': 'Denver',\n",
    " 'California': 'Sacramento',\n",
    " 'Georgia': 'Atlanta'\n",
    "}\n",
    "for k in state_capitals.keys():\n",
    "    print('{} is the capital of {}'.format(state_capitals[k],k))"
   ]
  },
  {
   "cell_type": "code",
   "execution_count": 26,
   "metadata": {},
   "outputs": [
    {
     "data": {
      "text/plain": [
       "['ArithmeticError',\n",
       " 'AssertionError',\n",
       " 'AttributeError',\n",
       " 'BaseException',\n",
       " 'BlockingIOError',\n",
       " 'BrokenPipeError',\n",
       " 'BufferError',\n",
       " 'BytesWarning',\n",
       " 'ChildProcessError',\n",
       " 'ConnectionAbortedError',\n",
       " 'ConnectionError',\n",
       " 'ConnectionRefusedError',\n",
       " 'ConnectionResetError',\n",
       " 'DeprecationWarning',\n",
       " 'EOFError',\n",
       " 'Ellipsis',\n",
       " 'EnvironmentError',\n",
       " 'Exception',\n",
       " 'False',\n",
       " 'FileExistsError',\n",
       " 'FileNotFoundError',\n",
       " 'FloatingPointError',\n",
       " 'FutureWarning',\n",
       " 'GeneratorExit',\n",
       " 'IOError',\n",
       " 'ImportError',\n",
       " 'ImportWarning',\n",
       " 'IndentationError',\n",
       " 'IndexError',\n",
       " 'InterruptedError',\n",
       " 'IsADirectoryError',\n",
       " 'KeyError',\n",
       " 'KeyboardInterrupt',\n",
       " 'LookupError',\n",
       " 'MemoryError',\n",
       " 'ModuleNotFoundError',\n",
       " 'NameError',\n",
       " 'None',\n",
       " 'NotADirectoryError',\n",
       " 'NotImplemented',\n",
       " 'NotImplementedError',\n",
       " 'OSError',\n",
       " 'OverflowError',\n",
       " 'PendingDeprecationWarning',\n",
       " 'PermissionError',\n",
       " 'ProcessLookupError',\n",
       " 'RecursionError',\n",
       " 'ReferenceError',\n",
       " 'ResourceWarning',\n",
       " 'RuntimeError',\n",
       " 'RuntimeWarning',\n",
       " 'StopAsyncIteration',\n",
       " 'StopIteration',\n",
       " 'SyntaxError',\n",
       " 'SyntaxWarning',\n",
       " 'SystemError',\n",
       " 'SystemExit',\n",
       " 'TabError',\n",
       " 'TimeoutError',\n",
       " 'True',\n",
       " 'TypeError',\n",
       " 'UnboundLocalError',\n",
       " 'UnicodeDecodeError',\n",
       " 'UnicodeEncodeError',\n",
       " 'UnicodeError',\n",
       " 'UnicodeTranslateError',\n",
       " 'UnicodeWarning',\n",
       " 'UserWarning',\n",
       " 'ValueError',\n",
       " 'Warning',\n",
       " 'WindowsError',\n",
       " 'ZeroDivisionError',\n",
       " '__IPYTHON__',\n",
       " '__build_class__',\n",
       " '__debug__',\n",
       " '__doc__',\n",
       " '__import__',\n",
       " '__loader__',\n",
       " '__name__',\n",
       " '__package__',\n",
       " '__spec__',\n",
       " 'abs',\n",
       " 'all',\n",
       " 'any',\n",
       " 'ascii',\n",
       " 'bin',\n",
       " 'bool',\n",
       " 'breakpoint',\n",
       " 'bytearray',\n",
       " 'bytes',\n",
       " 'callable',\n",
       " 'chr',\n",
       " 'classmethod',\n",
       " 'compile',\n",
       " 'complex',\n",
       " 'copyright',\n",
       " 'credits',\n",
       " 'delattr',\n",
       " 'dict',\n",
       " 'dir',\n",
       " 'display',\n",
       " 'divmod',\n",
       " 'enumerate',\n",
       " 'eval',\n",
       " 'exec',\n",
       " 'filter',\n",
       " 'float',\n",
       " 'format',\n",
       " 'frozenset',\n",
       " 'get_ipython',\n",
       " 'getattr',\n",
       " 'globals',\n",
       " 'hasattr',\n",
       " 'hash',\n",
       " 'help',\n",
       " 'hex',\n",
       " 'id',\n",
       " 'input',\n",
       " 'int',\n",
       " 'isinstance',\n",
       " 'issubclass',\n",
       " 'iter',\n",
       " 'len',\n",
       " 'license',\n",
       " 'list',\n",
       " 'locals',\n",
       " 'map',\n",
       " 'max',\n",
       " 'memoryview',\n",
       " 'min',\n",
       " 'next',\n",
       " 'object',\n",
       " 'oct',\n",
       " 'open',\n",
       " 'ord',\n",
       " 'pow',\n",
       " 'print',\n",
       " 'property',\n",
       " 'range',\n",
       " 'repr',\n",
       " 'reversed',\n",
       " 'round',\n",
       " 'set',\n",
       " 'setattr',\n",
       " 'slice',\n",
       " 'sorted',\n",
       " 'staticmethod',\n",
       " 'str',\n",
       " 'sum',\n",
       " 'super',\n",
       " 'tuple',\n",
       " 'type',\n",
       " 'vars',\n",
       " 'zip']"
      ]
     },
     "execution_count": 26,
     "metadata": {},
     "output_type": "execute_result"
    }
   ],
   "source": [
    "dir(__builtins__)"
   ]
  },
  {
   "cell_type": "code",
   "execution_count": 27,
   "metadata": {},
   "outputs": [
    {
     "name": "stdout",
     "output_type": "stream",
     "text": [
      "Help on class SyntaxError in module builtins:\n",
      "\n",
      "class SyntaxError(Exception)\n",
      " |  Invalid syntax.\n",
      " |  \n",
      " |  Method resolution order:\n",
      " |      SyntaxError\n",
      " |      Exception\n",
      " |      BaseException\n",
      " |      object\n",
      " |  \n",
      " |  Built-in subclasses:\n",
      " |      IndentationError\n",
      " |  \n",
      " |  Methods defined here:\n",
      " |  \n",
      " |  __init__(self, /, *args, **kwargs)\n",
      " |      Initialize self.  See help(type(self)) for accurate signature.\n",
      " |  \n",
      " |  __str__(self, /)\n",
      " |      Return str(self).\n",
      " |  \n",
      " |  ----------------------------------------------------------------------\n",
      " |  Data descriptors defined here:\n",
      " |  \n",
      " |  filename\n",
      " |      exception filename\n",
      " |  \n",
      " |  lineno\n",
      " |      exception lineno\n",
      " |  \n",
      " |  msg\n",
      " |      exception msg\n",
      " |  \n",
      " |  offset\n",
      " |      exception offset\n",
      " |  \n",
      " |  print_file_and_line\n",
      " |      exception print_file_and_line\n",
      " |  \n",
      " |  text\n",
      " |      exception text\n",
      " |  \n",
      " |  ----------------------------------------------------------------------\n",
      " |  Static methods inherited from Exception:\n",
      " |  \n",
      " |  __new__(*args, **kwargs) from builtins.type\n",
      " |      Create and return a new object.  See help(type) for accurate signature.\n",
      " |  \n",
      " |  ----------------------------------------------------------------------\n",
      " |  Methods inherited from BaseException:\n",
      " |  \n",
      " |  __delattr__(self, name, /)\n",
      " |      Implement delattr(self, name).\n",
      " |  \n",
      " |  __getattribute__(self, name, /)\n",
      " |      Return getattr(self, name).\n",
      " |  \n",
      " |  __reduce__(...)\n",
      " |      Helper for pickle.\n",
      " |  \n",
      " |  __repr__(self, /)\n",
      " |      Return repr(self).\n",
      " |  \n",
      " |  __setattr__(self, name, value, /)\n",
      " |      Implement setattr(self, name, value).\n",
      " |  \n",
      " |  __setstate__(...)\n",
      " |  \n",
      " |  with_traceback(...)\n",
      " |      Exception.with_traceback(tb) --\n",
      " |      set self.__traceback__ to tb and return self.\n",
      " |  \n",
      " |  ----------------------------------------------------------------------\n",
      " |  Data descriptors inherited from BaseException:\n",
      " |  \n",
      " |  __cause__\n",
      " |      exception cause\n",
      " |  \n",
      " |  __context__\n",
      " |      exception context\n",
      " |  \n",
      " |  __dict__\n",
      " |  \n",
      " |  __suppress_context__\n",
      " |  \n",
      " |  __traceback__\n",
      " |  \n",
      " |  args\n",
      "\n"
     ]
    }
   ],
   "source": [
    "help(SyntaxError)"
   ]
  },
  {
   "cell_type": "code",
   "execution_count": 28,
   "metadata": {},
   "outputs": [
    {
     "name": "stdout",
     "output_type": "stream",
     "text": [
      "Help on built-in function max in module builtins:\n",
      "\n",
      "max(...)\n",
      "    max(iterable, *[, default=obj, key=func]) -> value\n",
      "    max(arg1, arg2, *args, *[, key=func]) -> value\n",
      "    \n",
      "    With a single iterable argument, return its biggest item. The\n",
      "    default keyword-only argument specifies an object to return if\n",
      "    the provided iterable is empty.\n",
      "    With two or more arguments, return the largest argument.\n",
      "\n"
     ]
    }
   ],
   "source": [
    "help(max)"
   ]
  },
  {
   "cell_type": "code",
   "execution_count": 29,
   "metadata": {},
   "outputs": [
    {
     "data": {
      "text/plain": [
       "['__doc__',\n",
       " '__loader__',\n",
       " '__name__',\n",
       " '__package__',\n",
       " '__spec__',\n",
       " 'acos',\n",
       " 'acosh',\n",
       " 'asin',\n",
       " 'asinh',\n",
       " 'atan',\n",
       " 'atan2',\n",
       " 'atanh',\n",
       " 'ceil',\n",
       " 'comb',\n",
       " 'copysign',\n",
       " 'cos',\n",
       " 'cosh',\n",
       " 'degrees',\n",
       " 'dist',\n",
       " 'e',\n",
       " 'erf',\n",
       " 'erfc',\n",
       " 'exp',\n",
       " 'expm1',\n",
       " 'fabs',\n",
       " 'factorial',\n",
       " 'floor',\n",
       " 'fmod',\n",
       " 'frexp',\n",
       " 'fsum',\n",
       " 'gamma',\n",
       " 'gcd',\n",
       " 'hypot',\n",
       " 'inf',\n",
       " 'isclose',\n",
       " 'isfinite',\n",
       " 'isinf',\n",
       " 'isnan',\n",
       " 'isqrt',\n",
       " 'ldexp',\n",
       " 'lgamma',\n",
       " 'log',\n",
       " 'log10',\n",
       " 'log1p',\n",
       " 'log2',\n",
       " 'modf',\n",
       " 'nan',\n",
       " 'perm',\n",
       " 'pi',\n",
       " 'pow',\n",
       " 'prod',\n",
       " 'radians',\n",
       " 'remainder',\n",
       " 'sin',\n",
       " 'sinh',\n",
       " 'sqrt',\n",
       " 'tan',\n",
       " 'tanh',\n",
       " 'tau',\n",
       " 'trunc']"
      ]
     },
     "execution_count": 29,
     "metadata": {},
     "output_type": "execute_result"
    }
   ],
   "source": [
    "import math\n",
    "dir(math)"
   ]
  },
  {
   "cell_type": "code",
   "execution_count": 35,
   "metadata": {},
   "outputs": [
    {
     "ename": "ModuleNotFoundError",
     "evalue": "No module named 'hello'",
     "output_type": "error",
     "traceback": [
      "\u001b[1;31m---------------------------------------------------------------------------\u001b[0m",
      "\u001b[1;31mModuleNotFoundError\u001b[0m                       Traceback (most recent call last)",
      "\u001b[1;32m<ipython-input-35-c3b0ac996802>\u001b[0m in \u001b[0;36m<module>\u001b[1;34m\u001b[0m\n\u001b[1;32m----> 1\u001b[1;33m \u001b[1;32mimport\u001b[0m \u001b[0mhello\u001b[0m\u001b[1;33m.\u001b[0m\u001b[0mtxt\u001b[0m\u001b[1;33m\u001b[0m\u001b[1;33m\u001b[0m\u001b[0m\n\u001b[0m\u001b[0;32m      2\u001b[0m \u001b[0mhello\u001b[0m\u001b[1;33m.\u001b[0m\u001b[0mtxt\u001b[0m\u001b[1;33m.\u001b[0m\u001b[0msay_hello\u001b[0m\u001b[1;33m(\u001b[0m\u001b[1;33m)\u001b[0m\u001b[1;33m\u001b[0m\u001b[1;33m\u001b[0m\u001b[0m\n",
      "\u001b[1;31mModuleNotFoundError\u001b[0m: No module named 'hello'"
     ]
    }
   ],
   "source": [
    "import hello.txt\n",
    "hello.txt.say_hello()"
   ]
  },
  {
   "cell_type": "code",
   "execution_count": 1,
   "metadata": {},
   "outputs": [
    {
     "name": "stdout",
     "output_type": "stream",
     "text": [
      "'wow'\n"
     ]
    }
   ],
   "source": [
    "s=\"wow\"\n",
    "print(repr(s))"
   ]
  },
  {
   "cell_type": "code",
   "execution_count": 1,
   "metadata": {},
   "outputs": [
    {
     "name": "stdout",
     "output_type": "stream",
     "text": [
      "wow\n"
     ]
    }
   ],
   "source": [
    "s=\"wow\"\n",
    "print(s)"
   ]
  },
  {
   "cell_type": "code",
   "execution_count": 2,
   "metadata": {},
   "outputs": [
    {
     "name": "stdout",
     "output_type": "stream",
     "text": [
      "True\n"
     ]
    }
   ],
   "source": [
    "print(eval(repr(s))==s)"
   ]
  },
  {
   "cell_type": "code",
   "execution_count": 3,
   "metadata": {},
   "outputs": [
    {
     "name": "stdout",
     "output_type": "stream",
     "text": [
      "wow\n"
     ]
    }
   ],
   "source": [
    "print(str(s))"
   ]
  },
  {
   "cell_type": "code",
   "execution_count": 4,
   "metadata": {},
   "outputs": [
    {
     "ename": "NameError",
     "evalue": "name 'wow' is not defined",
     "output_type": "error",
     "traceback": [
      "\u001b[1;31m---------------------------------------------------------------------------\u001b[0m",
      "\u001b[1;31mNameError\u001b[0m                                 Traceback (most recent call last)",
      "\u001b[1;32m<ipython-input-4-f0f1d28e33ea>\u001b[0m in \u001b[0;36m<module>\u001b[1;34m\u001b[0m\n\u001b[1;32m----> 1\u001b[1;33m \u001b[0mprint\u001b[0m\u001b[1;33m(\u001b[0m\u001b[0meval\u001b[0m\u001b[1;33m(\u001b[0m\u001b[0mstr\u001b[0m\u001b[1;33m(\u001b[0m\u001b[0ms\u001b[0m\u001b[1;33m)\u001b[0m\u001b[1;33m)\u001b[0m\u001b[1;33m==\u001b[0m\u001b[0ms\u001b[0m\u001b[1;33m)\u001b[0m\u001b[1;33m\u001b[0m\u001b[1;33m\u001b[0m\u001b[0m\n\u001b[0m",
      "\u001b[1;32m<string>\u001b[0m in \u001b[0;36m<module>\u001b[1;34m\u001b[0m\n",
      "\u001b[1;31mNameError\u001b[0m: name 'wow' is not defined"
     ]
    }
   ],
   "source": [
    "print(eval(str(s))==s)"
   ]
  },
  {
   "cell_type": "code",
   "execution_count": 6,
   "metadata": {},
   "outputs": [
    {
     "data": {
      "text/plain": [
       "'2021-05-31 20:56:11.612027'"
      ]
     },
     "execution_count": 6,
     "metadata": {},
     "output_type": "execute_result"
    }
   ],
   "source": [
    "import datetime\n",
    "today = datetime.datetime.now()\n",
    "str(today) \n"
   ]
  },
  {
   "cell_type": "code",
   "execution_count": 7,
   "metadata": {},
   "outputs": [
    {
     "data": {
      "text/plain": [
       "'datetime.datetime(2021, 5, 31, 20, 56, 11, 612027)'"
      ]
     },
     "execution_count": 7,
     "metadata": {},
     "output_type": "execute_result"
    }
   ],
   "source": [
    "repr(today)"
   ]
  },
  {
   "cell_type": "code",
   "execution_count": 14,
   "metadata": {},
   "outputs": [
    {
     "name": "stdout",
     "output_type": "stream",
     "text": [
      "i miss u neeraj\n"
     ]
    }
   ],
   "source": [
    "def greet(name,greeting):\n",
    "    print(\"{}{}\".format(greeting,name))\n",
    "name=\"neeraj\"\n",
    "greeting=\"i miss u \"\n",
    "greet(name,greeting)"
   ]
  },
  {
   "cell_type": "code",
   "execution_count": 16,
   "metadata": {},
   "outputs": [
    {
     "name": "stdout",
     "output_type": "stream",
     "text": [
      "hello thanu\n"
     ]
    }
   ],
   "source": [
    "def greeting(name):\n",
    "    print(\"hello \"+name)\n",
    "name=\"thanu\"\n",
    "greeting(name)"
   ]
  },
  {
   "cell_type": "code",
   "execution_count": 4,
   "metadata": {},
   "outputs": [
    {
     "name": "stdout",
     "output_type": "stream",
     "text": [
      "45621\n",
      "[4, 5, 6, 2, 1]\n"
     ]
    }
   ],
   "source": [
    "n=int(input())\n",
    "x=[int(a) for a in str(n)]\n",
    "print(x)\n",
    "sum=0\n",
    "for i in x:\n",
    "    if i%2==0:\n",
    "        sum=sum+i\n",
    "print(sum)"
   ]
  },
  {
   "cell_type": "code",
   "execution_count": 12,
   "metadata": {},
   "outputs": [
    {
     "name": "stdout",
     "output_type": "stream",
     "text": [
      "45621\n",
      "12\n"
     ]
    }
   ],
   "source": [
    "n=input()\n",
    "sum=0\n",
    "for i in x:\n",
    "    if i%2==0:\n",
    "        sum=sum+i\n",
    "print(sum)   "
   ]
  },
  {
   "cell_type": "code",
   "execution_count": 13,
   "metadata": {},
   "outputs": [
    {
     "name": "stdout",
     "output_type": "stream",
     "text": [
      "12344587\n",
      "1348"
     ]
    }
   ],
   "source": [
    "n=int(input())\n",
    "n=str(n)\n",
    "for i in range(len(n)):\n",
    "    if i%2==0:\n",
    "        print(n[i],end=\"\")"
   ]
  },
  {
   "cell_type": "code",
   "execution_count": 11,
   "metadata": {},
   "outputs": [
    {
     "name": "stdout",
     "output_type": "stream",
     "text": [
      "12378\n",
      "34215\n",
      "123"
     ]
    }
   ],
   "source": [
    "n1=input()\n",
    "n2=input()\n",
    "for i in n1:\n",
    "    for j in n2:\n",
    "        if(i==j):\n",
    "            print(i,end=\"\")"
   ]
  },
  {
   "cell_type": "code",
   "execution_count": 16,
   "metadata": {},
   "outputs": [
    {
     "name": "stdout",
     "output_type": "stream",
     "text": [
      "123\n",
      "not palindrome\n"
     ]
    }
   ],
   "source": [
    "n=input()\n",
    "if n==n[::-1]:\n",
    "    print(\"palindrome\",n)\n",
    "else:\n",
    "    print(\"not palindrome\")     "
   ]
  },
  {
   "cell_type": "code",
   "execution_count": 18,
   "metadata": {},
   "outputs": [
    {
     "name": "stdout",
     "output_type": "stream",
     "text": [
      "1 2 3 4\n",
      "[1, 2, 3, 4]\n"
     ]
    }
   ],
   "source": [
    "x=list(map(int,input().split()))\n",
    "print(x)"
   ]
  },
  {
   "cell_type": "code",
   "execution_count": 25,
   "metadata": {},
   "outputs": [
    {
     "name": "stdout",
     "output_type": "stream",
     "text": [
      "1\n",
      "2\n",
      "3]\n",
      "4\n",
      "5\n",
      "6\n",
      "7\n",
      "8\n",
      "9\n",
      "0\n",
      "['1', '2', '3]', '4', '5', '6', '7', '8', '9', '0']\n"
     ]
    }
   ],
   "source": [
    "l=[]\n",
    "for i in range(10):\n",
    "    x=input()\n",
    "    l.append(x)\n",
    "print(l)"
   ]
  },
  {
   "cell_type": "code",
   "execution_count": 6,
   "metadata": {},
   "outputs": [
    {
     "name": "stdout",
     "output_type": "stream",
     "text": [
      "aaaa\n",
      "a\n",
      "aa\n",
      "aaa\n",
      "aaaa\n",
      "a\n",
      "aa\n",
      "aaa\n",
      "a\n",
      "aa\n",
      "a\n",
      "10\n"
     ]
    }
   ],
   "source": [
    "class Sol:\n",
    "    def countsubstrings(self,s):\n",
    "        count=0\n",
    "        for i in range(len(s)):\n",
    "            for j in range(i+1,len(s)+1):\n",
    "                temp=s[i:j]\n",
    "                if temp==temp[::-1]:\n",
    "                    count+=1\n",
    "                    print(temp)\n",
    "        return count\n",
    "obj1=Sol()\n",
    "string=input()\n",
    "print(obj1.countsubstrings(string))"
   ]
  },
  {
   "cell_type": "code",
   "execution_count": 7,
   "metadata": {},
   "outputs": [
    {
     "name": "stdout",
     "output_type": "stream",
     "text": [
      "3\n",
      "3\n",
      "1\n",
      "2\n",
      "3\n",
      "4\n",
      "5\n",
      "6\n",
      "7\n",
      "8\n",
      "9\n"
     ]
    },
    {
     "ename": "AttributeError",
     "evalue": "'list' object has no attribute 'diagonal'",
     "output_type": "error",
     "traceback": [
      "\u001b[1;31m---------------------------------------------------------------------------\u001b[0m",
      "\u001b[1;31mAttributeError\u001b[0m                            Traceback (most recent call last)",
      "\u001b[1;32m<ipython-input-7-7e6f23001717>\u001b[0m in \u001b[0;36m<module>\u001b[1;34m\u001b[0m\n\u001b[0;32m      7\u001b[0m              \u001b[0mrow\u001b[0m\u001b[1;33m.\u001b[0m\u001b[0mappend\u001b[0m\u001b[1;33m(\u001b[0m\u001b[0mint\u001b[0m\u001b[1;33m(\u001b[0m\u001b[0minput\u001b[0m\u001b[1;33m(\u001b[0m\u001b[1;33m)\u001b[0m\u001b[1;33m)\u001b[0m\u001b[1;33m)\u001b[0m\u001b[1;33m\u001b[0m\u001b[1;33m\u001b[0m\u001b[0m\n\u001b[0;32m      8\u001b[0m         \u001b[0mmatrix\u001b[0m\u001b[1;33m.\u001b[0m\u001b[0mappend\u001b[0m\u001b[1;33m(\u001b[0m\u001b[0mrow\u001b[0m\u001b[1;33m)\u001b[0m\u001b[1;33m\u001b[0m\u001b[1;33m\u001b[0m\u001b[0m\n\u001b[1;32m----> 9\u001b[1;33m \u001b[0mprint\u001b[0m\u001b[1;33m(\u001b[0m\u001b[0mmatrix\u001b[0m\u001b[1;33m.\u001b[0m\u001b[0mdiagonal\u001b[0m\u001b[1;33m(\u001b[0m\u001b[1;33m)\u001b[0m\u001b[1;33m)\u001b[0m\u001b[1;33m\u001b[0m\u001b[1;33m\u001b[0m\u001b[0m\n\u001b[0m",
      "\u001b[1;31mAttributeError\u001b[0m: 'list' object has no attribute 'diagonal'"
     ]
    }
   ],
   "source": [
    "m=int(input())\n",
    "n=int(input())\n",
    "matrix=[]\n",
    "for i in range(m):\n",
    "        row=[]\n",
    "        for j in range(n):\n",
    "             row.append(int(input()))\n",
    "        matrix.append(row)\n",
    "print(matrix.diagonal())"
   ]
  },
  {
   "cell_type": "code",
   "execution_count": 8,
   "metadata": {},
   "outputs": [
    {
     "name": "stdout",
     "output_type": "stream",
     "text": [
      " Matrix a :  [[0 1 2]\n",
      " [3 4 5]\n",
      " [6 7 8]]\n",
      "Diagonal of Matrix a :  [0 4 8]\n"
     ]
    }
   ],
   "source": [
    "import numpy as np\n",
    "a = np.arange(9).reshape((3,3))\n",
    "\n",
    "print(' Matrix a : ', a)\n",
    "print('Diagonal of Matrix a : ', np.diag(a))"
   ]
  },
  {
   "cell_type": "code",
   "execution_count": 9,
   "metadata": {},
   "outputs": [
    {
     "name": "stdout",
     "output_type": "stream",
     "text": [
      "[2, 4, 6] [0, 4, 8]\n"
     ]
    }
   ],
   "source": [
    "lis = []\n",
    "lis2 = []\n",
    "count = len(a)-1\n",
    "count2 = 0\n",
    "for i in range(len(a)):\n",
    "    lis.append(a[count2][count])\n",
    "    count-=1\n",
    "    count2+=1\n",
    "for i in range(len(a)):\n",
    "    lis2.append(a[i][i])\n",
    "\n",
    "print(lis,lis2)"
   ]
  },
  {
   "cell_type": "code",
   "execution_count": 13,
   "metadata": {},
   "outputs": [
    {
     "name": "stdout",
     "output_type": "stream",
     "text": [
      "how are you thanu\n",
      "['how', 'are', 'you', 'thanu']\n",
      "4 words\n"
     ]
    }
   ],
   "source": [
    "string=input().split()\n",
    "print(string)\n",
    "print(len(string),\"words\")"
   ]
  },
  {
   "cell_type": "code",
   "execution_count": 15,
   "metadata": {},
   "outputs": [
    {
     "name": "stdout",
     "output_type": "stream",
     "text": [
      "how are you thanu\n",
      "4 words\n"
     ]
    }
   ],
   "source": [
    "def count_string(string):\n",
    "    count=0\n",
    "    for i in string:\n",
    "        count+=1\n",
    "    return count\n",
    "string=input().split()\n",
    "print(count_string(string),\"words\")"
   ]
  },
  {
   "cell_type": "code",
   "execution_count": 31,
   "metadata": {},
   "outputs": [
    {
     "name": "stdout",
     "output_type": "stream",
     "text": [
      "hai hello how r u\n",
      "['#', 'a', 'i', '#', '#', 'e', '#', '#', 'o', '#', '#', 'o', '#', '#', '#', '#', 'u']\n"
     ]
    }
   ],
   "source": [
    "string=input()\n",
    "vowels=[]\n",
    "for i in string:\n",
    "    if i=='a' or i=='e' or i=='i' or i=='o' or i=='u':\n",
    "        vowels.append(i)\n",
    "    else:\n",
    "        vowels.append(\"#\")\n",
    "print(vowels)"
   ]
  },
  {
   "cell_type": "code",
   "execution_count": 28,
   "metadata": {},
   "outputs": [
    {
     "name": "stdout",
     "output_type": "stream",
     "text": [
      "hai hello how r u\n",
      "['a', 'i', 'e', 'o', 'o', 'u']\n"
     ]
    }
   ],
   "source": [
    "string=input()\n",
    "vowels=[i for i in string if i=='a' or i=='e' or i=='i' or i=='o' or i=='u']\n",
    "print(vowels)"
   ]
  },
  {
   "cell_type": "code",
   "execution_count": 34,
   "metadata": {},
   "outputs": [
    {
     "name": "stdout",
     "output_type": "stream",
     "text": [
      "hai hello how r u\n",
      "#ai##e##o##o####u"
     ]
    }
   ],
   "source": [
    "string=input()\n",
    "for i in string:\n",
    "    if i=='a' or i=='e' or i=='i' or i=='o' or i=='u':\n",
    "        print(i,end=\"\")\n",
    "    else:\n",
    "        print(\"#\",end=\"\")"
   ]
  },
  {
   "cell_type": "code",
   "execution_count": 40,
   "metadata": {},
   "outputs": [
    {
     "name": "stdout",
     "output_type": "stream",
     "text": [
      "Madam\n",
      "Madam is not palindrome\n"
     ]
    }
   ],
   "source": [
    "string=input()\n",
    "if(string==string[::-1]):\n",
    "    print(string,\"is palindrome\")\n",
    "else:\n",
    "    print(string,\"is not palindrome\")"
   ]
  },
  {
   "cell_type": "markdown",
   "metadata": {},
   "source": [
    "print Madam is a palindrome"
   ]
  },
  {
   "cell_type": "code",
   "execution_count": 41,
   "metadata": {},
   "outputs": [
    {
     "name": "stdout",
     "output_type": "stream",
     "text": [
      "Madam\n",
      "MADAM is palindrome\n"
     ]
    }
   ],
   "source": [
    "string=input()\n",
    "string=string.upper()\n",
    "if(string==string[::-1]):\n",
    "    print(string,\"is palindrome\")\n",
    "else:\n",
    "    print(string,\"is not palindrome\")"
   ]
  },
  {
   "cell_type": "markdown",
   "metadata": {},
   "source": [
    "1.Read a string check it is palindrome or not\n",
    "2.if it is palindrome divide string into parts\n",
    "3.check each part is palindrome or not.if both parts are palindrome we can print string is complete palindrome\n",
    "4.if not print not a palindrome"
   ]
  },
  {
   "cell_type": "code",
   "execution_count": 4,
   "metadata": {},
   "outputs": [
    {
     "name": "stdout",
     "output_type": "stream",
     "text": [
      "mmmm\n",
      "2\n",
      "mmm\n",
      "complete palindrome\n"
     ]
    }
   ],
   "source": [
    "string=input()\n",
    "if string==string[::-1]:\n",
    "    x=len(string)//2\n",
    "    print(x)\n",
    "    new_string=string[:x]+string[x+1:]\n",
    "    print(new_string)\n",
    "    if(new_string==new_string[::-1]):\n",
    "        print(\"complete palindrome\")\n",
    "else:\n",
    "    print(\"not a palindrome\")"
   ]
  },
  {
   "cell_type": "markdown",
   "metadata": {},
   "source": [
    "read a no(5676544)\n",
    "sum of sum of digits of a no\n",
    "(5+6+7+6+5+4+4)+(6+7+6+5+4+4)+(7+6+5+4+4)+(6+5+4+4)+(5+4+4)+(4+4)+4=139"
   ]
  },
  {
   "cell_type": "code",
   "execution_count": 5,
   "metadata": {},
   "outputs": [
    {
     "data": {
      "text/plain": [
       "139"
      ]
     },
     "execution_count": 5,
     "metadata": {},
     "output_type": "execute_result"
    }
   ],
   "source": [
    "(5+6+7+6+5+4+4)+(6+7+6+5+4+4)+(7+6+5+4+4)+(6+5+4+4)+(5+4+4)+(4+4)+4"
   ]
  },
  {
   "cell_type": "code",
   "execution_count": 12,
   "metadata": {},
   "outputs": [
    {
     "name": "stdout",
     "output_type": "stream",
     "text": [
      "5676544\n",
      "37\n"
     ]
    }
   ],
   "source": [
    "n=int(input())\n",
    "r=n\n",
    "while(r!=0):\n",
    "    rem=r%10\n",
    "    rev=rev*10+r\n",
    "    r=r/10\n",
    "for i in num\n",
    "while(rev!=0):\n",
    "    rem=rev%10\n",
    "    r1=r1*10+rem\n",
    "    sum=sum+rem   "
   ]
  },
  {
   "cell_type": "markdown",
   "metadata": {},
   "source": [
    "i/p-hollow\n",
    "0/p-h,w"
   ]
  },
  {
   "cell_type": "code",
   "execution_count": 7,
   "metadata": {},
   "outputs": [
    {
     "ename": "KeyboardInterrupt",
     "evalue": "Interrupted by user",
     "output_type": "error",
     "traceback": [
      "\u001b[1;31m---------------------------------------------------------------------------\u001b[0m",
      "\u001b[1;31mKeyboardInterrupt\u001b[0m                         Traceback (most recent call last)",
      "\u001b[1;32m<ipython-input-7-da5320d01fdb>\u001b[0m in \u001b[0;36m<module>\u001b[1;34m\u001b[0m\n\u001b[1;32m----> 1\u001b[1;33m \u001b[0mstring\u001b[0m\u001b[1;33m=\u001b[0m\u001b[0minput\u001b[0m\u001b[1;33m(\u001b[0m\u001b[1;33m)\u001b[0m\u001b[1;33m.\u001b[0m\u001b[0msplit\u001b[0m\u001b[1;33m(\u001b[0m\u001b[1;34m','\u001b[0m\u001b[1;33m)\u001b[0m\u001b[1;33m\u001b[0m\u001b[1;33m\u001b[0m\u001b[0m\n\u001b[0m\u001b[0;32m      2\u001b[0m \u001b[0mstring\u001b[0m\u001b[1;33m=\u001b[0m\u001b[0mset\u001b[0m\u001b[1;33m(\u001b[0m\u001b[0mstring\u001b[0m\u001b[1;33m)\u001b[0m\u001b[1;33m\u001b[0m\u001b[1;33m\u001b[0m\u001b[0m\n\u001b[0;32m      3\u001b[0m \u001b[0mprint\u001b[0m\u001b[1;33m(\u001b[0m\u001b[0mstring\u001b[0m\u001b[1;33m)\u001b[0m\u001b[1;33m\u001b[0m\u001b[1;33m\u001b[0m\u001b[0m\n\u001b[0;32m      4\u001b[0m \u001b[0mstring1\u001b[0m\u001b[1;33m=\u001b[0m\u001b[0mlist\u001b[0m\u001b[1;33m(\u001b[0m\u001b[0mset\u001b[0m\u001b[1;33m(\u001b[0m\u001b[0mstring\u001b[0m\u001b[1;33m)\u001b[0m\u001b[1;33m)\u001b[0m\u001b[1;33m\u001b[0m\u001b[1;33m\u001b[0m\u001b[0m\n\u001b[0;32m      5\u001b[0m \u001b[0mprint\u001b[0m\u001b[1;33m(\u001b[0m\u001b[0mstring1\u001b[0m\u001b[1;33m)\u001b[0m\u001b[1;33m\u001b[0m\u001b[1;33m\u001b[0m\u001b[0m\n",
      "\u001b[1;32m~\\anaconda3\\lib\\site-packages\\ipykernel\\kernelbase.py\u001b[0m in \u001b[0;36mraw_input\u001b[1;34m(self, prompt)\u001b[0m\n\u001b[0;32m    858\u001b[0m                 \u001b[1;34m\"raw_input was called, but this frontend does not support input requests.\"\u001b[0m\u001b[1;33m\u001b[0m\u001b[1;33m\u001b[0m\u001b[0m\n\u001b[0;32m    859\u001b[0m             )\n\u001b[1;32m--> 860\u001b[1;33m         return self._input_request(str(prompt),\n\u001b[0m\u001b[0;32m    861\u001b[0m             \u001b[0mself\u001b[0m\u001b[1;33m.\u001b[0m\u001b[0m_parent_ident\u001b[0m\u001b[1;33m,\u001b[0m\u001b[1;33m\u001b[0m\u001b[1;33m\u001b[0m\u001b[0m\n\u001b[0;32m    862\u001b[0m             \u001b[0mself\u001b[0m\u001b[1;33m.\u001b[0m\u001b[0m_parent_header\u001b[0m\u001b[1;33m,\u001b[0m\u001b[1;33m\u001b[0m\u001b[1;33m\u001b[0m\u001b[0m\n",
      "\u001b[1;32m~\\anaconda3\\lib\\site-packages\\ipykernel\\kernelbase.py\u001b[0m in \u001b[0;36m_input_request\u001b[1;34m(self, prompt, ident, parent, password)\u001b[0m\n\u001b[0;32m    902\u001b[0m             \u001b[1;32mexcept\u001b[0m \u001b[0mKeyboardInterrupt\u001b[0m\u001b[1;33m:\u001b[0m\u001b[1;33m\u001b[0m\u001b[1;33m\u001b[0m\u001b[0m\n\u001b[0;32m    903\u001b[0m                 \u001b[1;31m# re-raise KeyboardInterrupt, to truncate traceback\u001b[0m\u001b[1;33m\u001b[0m\u001b[1;33m\u001b[0m\u001b[1;33m\u001b[0m\u001b[0m\n\u001b[1;32m--> 904\u001b[1;33m                 \u001b[1;32mraise\u001b[0m \u001b[0mKeyboardInterrupt\u001b[0m\u001b[1;33m(\u001b[0m\u001b[1;34m\"Interrupted by user\"\u001b[0m\u001b[1;33m)\u001b[0m \u001b[1;32mfrom\u001b[0m \u001b[1;32mNone\u001b[0m\u001b[1;33m\u001b[0m\u001b[1;33m\u001b[0m\u001b[0m\n\u001b[0m\u001b[0;32m    905\u001b[0m             \u001b[1;32mexcept\u001b[0m \u001b[0mException\u001b[0m \u001b[1;32mas\u001b[0m \u001b[0me\u001b[0m\u001b[1;33m:\u001b[0m\u001b[1;33m\u001b[0m\u001b[1;33m\u001b[0m\u001b[0m\n\u001b[0;32m    906\u001b[0m                 \u001b[0mself\u001b[0m\u001b[1;33m.\u001b[0m\u001b[0mlog\u001b[0m\u001b[1;33m.\u001b[0m\u001b[0mwarning\u001b[0m\u001b[1;33m(\u001b[0m\u001b[1;34m\"Invalid Message:\"\u001b[0m\u001b[1;33m,\u001b[0m \u001b[0mexc_info\u001b[0m\u001b[1;33m=\u001b[0m\u001b[1;32mTrue\u001b[0m\u001b[1;33m)\u001b[0m\u001b[1;33m\u001b[0m\u001b[1;33m\u001b[0m\u001b[0m\n",
      "\u001b[1;31mKeyboardInterrupt\u001b[0m: Interrupted by user"
     ]
    }
   ],
   "source": [
    "string=input().split(',')\n",
    "string=set(string)\n",
    "print(string)\n",
    "string1=list(set(string))\n",
    "print(string1)\n",
    "print(string-string1)"
   ]
  },
  {
   "cell_type": "code",
   "execution_count": 4,
   "metadata": {},
   "outputs": [
    {
     "name": "stdout",
     "output_type": "stream",
     "text": [
      "madanapalle\n",
      "['m', 'a', 'd', 'a', 'n', 'a', 'p', 'a', 'l', 'l', 'e']\n",
      "['m', 'd', 'n', 'p', 'e']\n",
      " mdnpe\n"
     ]
    }
   ],
   "source": [
    "string=input()\n",
    "l=[]\n",
    "for i in string:\n",
    "    l.append(i)\n",
    "print(l)\n",
    "l2=[]\n",
    "for i in l:\n",
    "    if l.count(i)==1:\n",
    "        l2.append(i)\n",
    "print(l2)\n",
    "str1=\" \"\n",
    "for x in l2:\n",
    "    str1+=x\n",
    "print(str1)"
   ]
  },
  {
   "cell_type": "code",
   "execution_count": 27,
   "metadata": {},
   "outputs": [
    {
     "name": "stdout",
     "output_type": "stream",
     "text": [
      "hai! how r u thanu?\n",
      "6\n",
      "7\n",
      "2\n"
     ]
    }
   ],
   "source": [
    "string=input()\n",
    "string=string.replace(\" \",\"\")\n",
    "c=[]\n",
    "v=[]\n",
    "ss=[]\n",
    "for i in range(len(string)):\n",
    "    if (string[i].isalpha()) and (string[i] == 'a' or string[i]=='e' or string[i]=='i' or string[i]=='o' or string[i]=='u'):\n",
    "           c.append(i)\n",
    "    elif string[i].isalpha():\n",
    "          v.append(i)\n",
    "    else:\n",
    "          ss.append(i)\n",
    "    \n",
    "print(len(c))\n",
    "print(len(v))\n",
    "print(len(ss))"
   ]
  },
  {
   "cell_type": "code",
   "execution_count": 1,
   "metadata": {},
   "outputs": [
    {
     "name": "stdout",
     "output_type": "stream",
     "text": [
      "abcd\n",
      "zyxw\n"
     ]
    }
   ],
   "source": [
    "sss=input()\n",
    "original = 'abcdefghijklmnopqrstuvwxyz'\n",
    "reverse = 'zyxwvutsrqponmlkjihgfedcba'\n",
    "dictChars = dict(zip(original,reverse))\n",
    "mirror=''\n",
    "for i in range(len(sss)):\n",
    "    mirror=mirror+dictChars[sss[i]]\n",
    "print(mirror)                               "
   ]
  },
  {
   "cell_type": "markdown",
   "metadata": {},
   "source": [
    "i/p--> 12345\n",
    "o/p--> (1+2+3+4+5)+("
   ]
  },
  {
   "cell_type": "code",
   "execution_count": 8,
   "metadata": {},
   "outputs": [
    {
     "name": "stdout",
     "output_type": "stream",
     "text": [
      "dcba\n"
     ]
    }
   ],
   "source": [
    "string='abcd'\n",
    "print(string[::-1])"
   ]
  },
  {
   "cell_type": "markdown",
   "metadata": {},
   "source": [
    "find palindromes in list of strings"
   ]
  },
  {
   "cell_type": "code",
   "execution_count": 2,
   "metadata": {},
   "outputs": [
    {
     "name": "stdout",
     "output_type": "stream",
     "text": [
      "thanu madam rrr roopa lahal godog\n",
      "['thanu', 'madam', 'rrr', 'roopa', 'lahal', 'godog']\n",
      "madam\n",
      "rrr\n",
      "lahal\n",
      "godog\n"
     ]
    }
   ],
   "source": [
    "array=list(map(str,input().split()))\n",
    "print(array)\n",
    "for i in array:\n",
    "    if i==i[::-1]:\n",
    "        print(i)"
   ]
  },
  {
   "cell_type": "code",
   "execution_count": 6,
   "metadata": {},
   "outputs": [
    {
     "name": "stdout",
     "output_type": "stream",
     "text": [
      "thanu ruo gyu hyt hjk\n",
      "['gyu', 'hjk', 'hyt', 'ruo', 'thanu']\n"
     ]
    }
   ],
   "source": [
    "array=list(map(str,input().split()))\n",
    "print(sorted(array))"
   ]
  },
  {
   "cell_type": "code",
   "execution_count": 4,
   "metadata": {
    "scrolled": true
   },
   "outputs": [
    {
     "name": "stdout",
     "output_type": "stream",
     "text": [
      "thanu ruo gyu hyt hjk\n",
      "u\n",
      "o\n",
      "u\n",
      "t\n",
      "k\n"
     ]
    }
   ],
   "source": [
    "array=list(map(str,input().split()))\n",
    "for i in array:\n",
    "    print(i[-1])"
   ]
  },
  {
   "cell_type": "code",
   "execution_count": 7,
   "metadata": {
    "scrolled": true
   },
   "outputs": [
    {
     "ename": "SyntaxError",
     "evalue": "invalid syntax (<ipython-input-7-73eac5a1fc4f>, line 2)",
     "output_type": "error",
     "traceback": [
      "\u001b[1;36m  File \u001b[1;32m\"<ipython-input-7-73eac5a1fc4f>\"\u001b[1;36m, line \u001b[1;32m2\u001b[0m\n\u001b[1;33m    public a\u001b[0m\n\u001b[1;37m           ^\u001b[0m\n\u001b[1;31mSyntaxError\u001b[0m\u001b[1;31m:\u001b[0m invalid syntax\n"
     ]
    }
   ],
   "source": [
    "class A:\n",
    "    "
   ]
  },
  {
   "cell_type": "code",
   "execution_count": null,
   "metadata": {},
   "outputs": [],
   "source": [
    "class Abc:\n",
    "    "
   ]
  },
  {
   "cell_type": "code",
   "execution_count": 10,
   "metadata": {},
   "outputs": [
    {
     "name": "stdout",
     "output_type": "stream",
     "text": [
      "hai nhjm\n"
     ]
    }
   ],
   "source": [
    "x=\"hai nhjm\"\n",
    "print(x.strip())"
   ]
  },
  {
   "cell_type": "code",
   "execution_count": 11,
   "metadata": {},
   "outputs": [
    {
     "name": "stdout",
     "output_type": "stream",
     "text": [
      "hainhjm\n"
     ]
    }
   ],
   "source": [
    "print(x.replace(\" \",\"\"))"
   ]
  },
  {
   "cell_type": "code",
   "execution_count": 12,
   "metadata": {},
   "outputs": [
    {
     "name": "stdout",
     "output_type": "stream",
     "text": [
      "hai njm\n"
     ]
    }
   ],
   "source": [
    "x=\"  hai njm\"\n",
    "print(x.strip())"
   ]
  },
  {
   "cell_type": "code",
   "execution_count": 13,
   "metadata": {},
   "outputs": [
    {
     "name": "stdout",
     "output_type": "stream",
     "text": [
      "hai njm\n"
     ]
    }
   ],
   "source": [
    "x=\"hai njm    \"\n",
    "print(x.strip())"
   ]
  },
  {
   "cell_type": "code",
   "execution_count": 8,
   "metadata": {},
   "outputs": [
    {
     "name": "stdout",
     "output_type": "stream",
     "text": [
      "pro$#@gra7m\n",
      "program\n"
     ]
    }
   ],
   "source": [
    "string=input()\n",
    "out=''\n",
    "for i in range(len(string)):\n",
    "    if string[i].isalpha():\n",
    "         out+=string[i]\n",
    "print(out)"
   ]
  },
  {
   "cell_type": "markdown",
   "metadata": {},
   "source": [
    "hello\n",
    "(h-o)+(e-l)+(l)"
   ]
  },
  {
   "cell_type": "code",
   "execution_count": 52,
   "metadata": {},
   "outputs": [
    {
     "name": "stdout",
     "output_type": "stream",
     "text": [
      "hello world\n",
      "hello\n",
      "world\n",
      "[8, 5, 12, 12, 15]\n",
      "[23, 15, 18, 12, 4]\n",
      "7\n"
     ]
    }
   ],
   "source": [
    "alpha={'a':1,'b':2,'c':3,'d':4,'e':5,'f':6,'g':7,'h':8,'i':9,'j':10,'k':11,'l':12,'m':13,'n':14,'o':15,'p':16,'q':17,'r':18,'s':19,'t':20,'u':21,'v':22,'w':23,'x':24,'y':25,'z':26}\n",
    "string=input().split()\n",
    "s1=string[0]\n",
    "s2=string[1]\n",
    "print(s1)\n",
    "print(s2)\n",
    "out1=[]\n",
    "out2=[]\n",
    "for i in s1:\n",
    "    out1.append(alpha.get(i))\n",
    "print(out1)\n",
    "for i in s2:\n",
    "    out2.append(alpha.get(i))\n",
    "print(out2)\n",
    "x=set()\n",
    "for i in range(len(out1)):\n",
    "    x.add(abs(out1[i]-out1[(len(out1)-1)-i]))\n",
    "print(sum(x))    \n",
    "\n",
    "#for i in len(out):\n",
    "    "
   ]
  },
  {
   "cell_type": "code",
   "execution_count": 1,
   "metadata": {},
   "outputs": [
    {
     "name": "stdout",
     "output_type": "stream",
     "text": [
      "1 2 3 4 5\n",
      "[1, 2, 3, 4, 5]\n"
     ]
    }
   ],
   "source": [
    "l=list(map(int,input().split()))\n",
    "print(l)"
   ]
  },
  {
   "cell_type": "code",
   "execution_count": 3,
   "metadata": {},
   "outputs": [
    {
     "name": "stdout",
     "output_type": "stream",
     "text": [
      "[5, 2, 3, 4, 1]\n"
     ]
    }
   ],
   "source": [
    "temp=l[0]\n",
    "l[0]=l[-1]\n",
    "l[-1]=temp\n",
    "print(l)"
   ]
  },
  {
   "cell_type": "code",
   "execution_count": 2,
   "metadata": {},
   "outputs": [
    {
     "name": "stdout",
     "output_type": "stream",
     "text": [
      "40\n",
      "30\n",
      "70\n"
     ]
    }
   ],
   "source": [
    "num1=int(input())\n",
    "num2=int(input())\n",
    "mul=num1*num2\n",
    "if mul>1000:\n",
    "    print(num1+num2)\n",
    "else:\n",
    "    print(mul)"
   ]
  },
  {
   "cell_type": "code",
   "execution_count": 4,
   "metadata": {},
   "outputs": [
    {
     "name": "stdout",
     "output_type": "stream",
     "text": [
      "0\n",
      "1\n",
      "3\n",
      "5\n",
      "7\n",
      "9\n",
      "11\n",
      "13\n",
      "15\n",
      "17\n"
     ]
    }
   ],
   "source": [
    "for i in range(10):\n",
    "    sum=i+(i-1)\n",
    "    if(sum<0):\n",
    "        print(0)\n",
    "    else:\n",
    "        print(sum)"
   ]
  },
  {
   "cell_type": "code",
   "execution_count": 6,
   "metadata": {},
   "outputs": [
    {
     "name": "stdout",
     "output_type": "stream",
     "text": [
      "pynative\n",
      "p\n",
      "n\n",
      "t\n",
      "v\n"
     ]
    }
   ],
   "source": [
    "string=input()\n",
    "for i in range(len(string)):\n",
    "    if(i%2==0):\n",
    "        print(string[i])"
   ]
  },
  {
   "cell_type": "code",
   "execution_count": 2,
   "metadata": {},
   "outputs": [
    {
     "name": "stdout",
     "output_type": "stream",
     "text": [
      "pynative\n",
      "4\n",
      "tive\n"
     ]
    }
   ],
   "source": [
    "string=input()\n",
    "n=int(input())\n",
    "print(string[n:])"
   ]
  },
  {
   "cell_type": "code",
   "execution_count": 8,
   "metadata": {},
   "outputs": [
    {
     "name": "stdout",
     "output_type": "stream",
     "text": [
      "10 2 3 4 5\n",
      "False\n"
     ]
    }
   ],
   "source": [
    "def fun(l):\n",
    "    if l[0]==l[-1]:\n",
    "        return True\n",
    "    else:\n",
    "        return False\n",
    "l=list(map(int,input().split()))\n",
    "print(fun(l))"
   ]
  },
  {
   "cell_type": "code",
   "execution_count": 10,
   "metadata": {},
   "outputs": [
    {
     "name": "stdout",
     "output_type": "stream",
     "text": [
      "10 20 3 4 5 80 85 7 \n",
      "[10, 20, 5, 80, 85]\n"
     ]
    }
   ],
   "source": [
    "l=list(map(int,input().split()))\n",
    "l2=[]\n",
    "for i in l:\n",
    "    if i%5==0:\n",
    "        l2.append(i)\n",
    "print(l2)"
   ]
  },
  {
   "cell_type": "code",
   "execution_count": 11,
   "metadata": {},
   "outputs": [
    {
     "name": "stdout",
     "output_type": "stream",
     "text": [
      "2\n"
     ]
    }
   ],
   "source": [
    "string=\"Emma is good developer. Emma is a writer\"\n",
    "print(string.count(\"Emma\"))"
   ]
  },
  {
   "cell_type": "code",
   "execution_count": 14,
   "metadata": {},
   "outputs": [
    {
     "name": "stdout",
     "output_type": "stream",
     "text": [
      "121\n",
      "num&reverse are same\n"
     ]
    }
   ],
   "source": [
    "num=input()\n",
    "reverse=num[::-1]\n",
    "if num==reverse:\n",
    "    print(\"num&reverse are same\")\n",
    "else:\n",
    "    print(\"num&reverse are not same\")"
   ]
  },
  {
   "cell_type": "code",
   "execution_count": 17,
   "metadata": {},
   "outputs": [
    {
     "name": "stdout",
     "output_type": "stream",
     "text": [
      "10 2 3 4 5 7 9\n",
      "10 2 3 4 5 7 9\n",
      "[3, 5, 7, 9, 10, 2, 4]\n"
     ]
    }
   ],
   "source": [
    "l1=list(map(int,input().split()))\n",
    "l2=list(map(int,input().split()))\n",
    "l3=[]\n",
    "for i in l1:\n",
    "    if i%2==1:\n",
    "        l3.append(i)\n",
    "for j in l2:\n",
    "    if j%2==0:\n",
    "        l3.append(j)\n",
    "print(l3)"
   ]
  },
  {
   "cell_type": "code",
   "execution_count": 19,
   "metadata": {},
   "outputs": [
    {
     "name": "stdout",
     "output_type": "stream",
     "text": [
      "1234\n",
      "4 3 2 1 "
     ]
    }
   ],
   "source": [
    "num=input()\n",
    "for i in num:\n",
    "    rem=int(num)%10\n",
    "    print(rem,end=\" \")\n",
    "    num=int(num)//10\n",
    "    "
   ]
  },
  {
   "cell_type": "code",
   "execution_count": 24,
   "metadata": {},
   "outputs": [
    {
     "name": "stdout",
     "output_type": "stream",
     "text": [
      "10\n",
      "1 2 3 4 5 6 7 8 9 10  \n",
      "2 4 6 8 10 12 14 16 18 20  \n",
      "3 6 9 12 15 18 21 24 27 30  \n",
      "4 8 12 16 20 24 28 32 36 40  \n",
      "5 10 15 20 25 30 35 40 45 50  \n",
      "6 12 18 24 30 36 42 48 54 60  \n",
      "7 14 21 28 35 42 49 56 63 70  \n",
      "8 16 24 32 40 48 56 64 72 80  \n",
      "9 18 27 36 45 54 63 72 81 90  \n",
      "10 20 30 40 50 60 70 80 90 100  \n"
     ]
    }
   ],
   "source": [
    "n=int(input())\n",
    "for i in range(1,n+1):\n",
    "    for j in range(1,11):\n",
    "        print(i*j,end=\" \")\n",
    "    print(\" \")"
   ]
  },
  {
   "cell_type": "code",
   "execution_count": 25,
   "metadata": {},
   "outputs": [
    {
     "name": "stdout",
     "output_type": "stream",
     "text": [
      "2\n",
      "5\n",
      "32\n"
     ]
    }
   ],
   "source": [
    "base=int(input())\n",
    "exp=int(input())\n",
    "print(base**exp)"
   ]
  },
  {
   "cell_type": "markdown",
   "metadata": {},
   "source": [
    "Abstraction\n",
    "-hiding data/implementation and represent the functionality\n",
    "-ex:ATM\n",
    "-keywords: abstract&interface\n",
    "-interface is suffiecient keyword\n",
    "- \n",
    "abstract class A\n",
    "{\n",
    "abstract void add();\n",
    "void sub();\n",
    "{\n",
    "/// concrete methods\n",
    "(in a abstract class there is a method declaration along with definition)\n",
    "}\n",
    "\n",
    "}\n",
    "-abstract class is partially implemented\n",
    "-no,can't create object with abstract class due to partially implemented so we can't know memory required\n",
    "-class is fully implemented we can analyse complete memory required for a class\n",
    "-we use interface(ntg is implemented,everything is hidden) because it is concrete method for fully abstraction\n",
    "-interface:collection of final variables(constant)&abstract methods \n",
    "-interface Abc\n",
    "{\n",
    "int a=30;\n",
    "void add();\n",
    "void sub();\n",
    "}\n",
    "interface Abc\n",
    "{\n",
    "public final static int a=30;\n",
    "public abstract void add();\n",
    "public abstract void sub();\n",
    "}\n",
    "one interface to other class-implementation"
   ]
  },
  {
   "cell_type": "code",
   "execution_count": 4,
   "metadata": {},
   "outputs": [
    {
     "name": "stdout",
     "output_type": "stream",
     "text": [
      "1 2 3 4 6 7\n",
      "1\n",
      "4\n",
      "[1, 6, 3, 4, 2, 7]\n"
     ]
    }
   ],
   "source": [
    "l=list(map(int,input().split()))\n",
    "pos1=int(input())\n",
    "pos2=int(input())\n",
    "if pos1<len(l) and pos2<len(l):\n",
    "    temp=l[pos1]\n",
    "    l[pos1]=l[pos2]\n",
    "    l[pos2]=temp\n",
    "print(l)"
   ]
  },
  {
   "cell_type": "code",
   "execution_count": 5,
   "metadata": {},
   "outputs": [
    {
     "name": "stdout",
     "output_type": "stream",
     "text": [
      "1 2 3 4 5\n",
      "5\n"
     ]
    }
   ],
   "source": [
    "l=list(map(int,input().split()))\n",
    "leng=0\n",
    "for i in l:\n",
    "    leng+=1\n",
    "print(leng)"
   ]
  },
  {
   "cell_type": "code",
   "execution_count": 6,
   "metadata": {},
   "outputs": [
    {
     "name": "stdout",
     "output_type": "stream",
     "text": [
      "1 2 3 4 5\n",
      "5\n"
     ]
    }
   ],
   "source": [
    "l=list(map(int,input().split()))\n",
    "print(len(l))"
   ]
  },
  {
   "cell_type": "code",
   "execution_count": 11,
   "metadata": {},
   "outputs": [
    {
     "name": "stdout",
     "output_type": "stream",
     "text": [
      "1 5 3 9 2\n",
      "9\n"
     ]
    }
   ],
   "source": [
    "l=list(map(int,input().split()))\n",
    "max_=l[0]\n",
    "for i in l:\n",
    "    if i>max_:\n",
    "        max_=i\n",
    "print(max_)"
   ]
  },
  {
   "cell_type": "code",
   "execution_count": 12,
   "metadata": {},
   "outputs": [
    {
     "name": "stdout",
     "output_type": "stream",
     "text": [
      "1 5 3 9 2\n",
      "1\n"
     ]
    }
   ],
   "source": [
    "l=list(map(int,input().split()))\n",
    "min_=l[0]\n",
    "for i in l:\n",
    "    if i<min_:\n",
    "        min_=i\n",
    "print(min_)"
   ]
  },
  {
   "cell_type": "code",
   "execution_count": 26,
   "metadata": {},
   "outputs": [
    {
     "name": "stdout",
     "output_type": "stream",
     "text": [
      "1 2 3 4\n",
      "2\n",
      "exists\n"
     ]
    }
   ],
   "source": [
    "l=list(map(int,input().split()))\n",
    "n=int(input())\n",
    "if n in l:\n",
    "    print(\"exists\")\n",
    "else:\n",
    "    print(\"no\")"
   ]
  },
  {
   "cell_type": "code",
   "execution_count": 31,
   "metadata": {},
   "outputs": [
    {
     "name": "stdout",
     "output_type": "stream",
     "text": [
      "12 5 6\n",
      "[]\n"
     ]
    }
   ],
   "source": [
    "l=list(map(int,input().split()))\n",
    "l.clear()\n",
    "print(l)"
   ]
  },
  {
   "cell_type": "code",
   "execution_count": 36,
   "metadata": {},
   "outputs": [
    {
     "name": "stdout",
     "output_type": "stream",
     "text": [
      "1 32 5 6\n",
      "6 5 32 1 "
     ]
    }
   ],
   "source": [
    "l=list(map(int,input().split()))\n",
    "for x in reversed(l):\n",
    "    print(x,end=\" \")"
   ]
  },
  {
   "cell_type": "code",
   "execution_count": 37,
   "metadata": {},
   "outputs": [
    {
     "name": "stdout",
     "output_type": "stream",
     "text": [
      "7 6 5 4\n",
      "[4, 5, 6, 7]\n"
     ]
    }
   ],
   "source": [
    "l=list(map(int,input().split()))\n",
    "x=[i for i in reversed(l)]\n",
    "print(x)"
   ]
  },
  {
   "cell_type": "code",
   "execution_count": 39,
   "metadata": {},
   "outputs": [
    {
     "name": "stdout",
     "output_type": "stream",
     "text": [
      "9 8 7 6\n",
      "[6, 7, 8, 9]\n"
     ]
    }
   ],
   "source": [
    "l=list(map(int,input().split()))\n",
    "l.reverse()\n",
    "print(l)"
   ]
  },
  {
   "cell_type": "code",
   "execution_count": 40,
   "metadata": {},
   "outputs": [
    {
     "name": "stdout",
     "output_type": "stream",
     "text": [
      "6 5 4 3\n",
      "[3, 4, 5, 6]\n"
     ]
    }
   ],
   "source": [
    "l=list(map(int,input().split()))\n",
    "print(l[::-1])"
   ]
  },
  {
   "cell_type": "code",
   "execution_count": 41,
   "metadata": {},
   "outputs": [
    {
     "name": "stdout",
     "output_type": "stream",
     "text": [
      "1 2 3 4\n",
      "[1, 2, 3, 4]\n"
     ]
    }
   ],
   "source": [
    "l1=list(map(int,input().split()))\n",
    "l2=[]\n",
    "for i in l1:\n",
    "    l2.append(i)\n",
    "print(l2)"
   ]
  },
  {
   "cell_type": "code",
   "execution_count": 42,
   "metadata": {},
   "outputs": [
    {
     "name": "stdout",
     "output_type": "stream",
     "text": [
      "1 2 3 4\n",
      "[1, 2, 3, 4]\n"
     ]
    }
   ],
   "source": [
    "l1=list(map(int,input().split()))\n",
    "l2=l1.copy()\n",
    "print(l2)"
   ]
  },
  {
   "cell_type": "code",
   "execution_count": 43,
   "metadata": {},
   "outputs": [
    {
     "name": "stdout",
     "output_type": "stream",
     "text": [
      "1 2 2 3 4 5\n"
     ]
    },
    {
     "ename": "NameError",
     "evalue": "name 'count' is not defined",
     "output_type": "error",
     "traceback": [
      "\u001b[1;31m---------------------------------------------------------------------------\u001b[0m",
      "\u001b[1;31mNameError\u001b[0m                                 Traceback (most recent call last)",
      "\u001b[1;32m<ipython-input-43-e1f55cca15c1>\u001b[0m in \u001b[0;36m<module>\u001b[1;34m\u001b[0m\n\u001b[0;32m      1\u001b[0m \u001b[0ml\u001b[0m\u001b[1;33m=\u001b[0m\u001b[0mlist\u001b[0m\u001b[1;33m(\u001b[0m\u001b[0mmap\u001b[0m\u001b[1;33m(\u001b[0m\u001b[0mint\u001b[0m\u001b[1;33m,\u001b[0m\u001b[0minput\u001b[0m\u001b[1;33m(\u001b[0m\u001b[1;33m)\u001b[0m\u001b[1;33m.\u001b[0m\u001b[0msplit\u001b[0m\u001b[1;33m(\u001b[0m\u001b[1;33m)\u001b[0m\u001b[1;33m)\u001b[0m\u001b[1;33m)\u001b[0m\u001b[1;33m\u001b[0m\u001b[1;33m\u001b[0m\u001b[0m\n\u001b[0;32m      2\u001b[0m \u001b[1;32mfor\u001b[0m \u001b[0mi\u001b[0m \u001b[1;32min\u001b[0m \u001b[0ml\u001b[0m\u001b[1;33m:\u001b[0m\u001b[1;33m\u001b[0m\u001b[1;33m\u001b[0m\u001b[0m\n\u001b[1;32m----> 3\u001b[1;33m     \u001b[0mprint\u001b[0m\u001b[1;33m(\u001b[0m\u001b[0mcount\u001b[0m\u001b[1;33m(\u001b[0m\u001b[0mi\u001b[0m\u001b[1;33m)\u001b[0m\u001b[1;33m)\u001b[0m\u001b[1;33m\u001b[0m\u001b[1;33m\u001b[0m\u001b[0m\n\u001b[0m",
      "\u001b[1;31mNameError\u001b[0m: name 'count' is not defined"
     ]
    }
   ],
   "source": [
    "l=list(map(int,input().split()))\n",
    "for i in l:\n",
    "    print(count(i))"
   ]
  },
  {
   "cell_type": "code",
   "execution_count": 45,
   "metadata": {},
   "outputs": [
    {
     "name": "stdout",
     "output_type": "stream",
     "text": [
      "1 2 2 2 2\n",
      "2\n",
      "4\n"
     ]
    }
   ],
   "source": [
    "l=list(map(int,input().split()))\n",
    "n=int(input())\n",
    "print(l.count(n))"
   ]
  },
  {
   "cell_type": "code",
   "execution_count": 46,
   "metadata": {},
   "outputs": [
    {
     "name": "stdout",
     "output_type": "stream",
     "text": [
      "1 11 11 111 111 111\n",
      "111\n",
      "3\n"
     ]
    }
   ],
   "source": [
    "l=list(map(int,input().split()))\n",
    "n=int(input())\n",
    "count=0\n",
    "for i in l:\n",
    "    if i==n:\n",
    "        count+=1\n",
    "print(count)"
   ]
  },
  {
   "cell_type": "code",
   "execution_count": 51,
   "metadata": {},
   "outputs": [
    {
     "name": "stdout",
     "output_type": "stream",
     "text": [
      "15 9 55 41 35 20 62 49\n",
      "286\n",
      "35.75\n"
     ]
    }
   ],
   "source": [
    "l=list(map(int,input().split()))\n",
    "sum_=0\n",
    "for i in l:\n",
    "    sum_+=i\n",
    "print(sum_)\n",
    "print(sum_/len(l))"
   ]
  },
  {
   "cell_type": "code",
   "execution_count": 52,
   "metadata": {},
   "outputs": [
    {
     "name": "stdout",
     "output_type": "stream",
     "text": [
      "1 2 3 4\n",
      "24\n"
     ]
    }
   ],
   "source": [
    "l=list(map(int,input().split()))\n",
    "mul=1\n",
    "for i in l:\n",
    "    mul=mul*i\n",
    "print(mul)"
   ]
  },
  {
   "cell_type": "code",
   "execution_count": 53,
   "metadata": {},
   "outputs": [
    {
     "name": "stdout",
     "output_type": "stream",
     "text": [
      "1 6 3 4 2 9\n",
      "6\n"
     ]
    }
   ],
   "source": [
    "l=list(map(int,input().split()))\n",
    "l.sort()\n",
    "print(l[-2])"
   ]
  },
  {
   "cell_type": "code",
   "execution_count": 57,
   "metadata": {},
   "outputs": [
    {
     "name": "stdout",
     "output_type": "stream",
     "text": [
      "1 3 6 8 9 4 \n",
      "[1, 3, 6, 8, 4]\n",
      "8\n"
     ]
    }
   ],
   "source": [
    "l=list(map(int,input().split()))\n",
    "max_=l[0]\n",
    "for i in l:\n",
    "    if i>max_:\n",
    "        max_=i\n",
    "l.remove(max_)\n",
    "print(l)\n",
    "max_=l[0]\n",
    "for i in l:\n",
    "    if i>max_:\n",
    "        max_=i\n",
    "print(max_)"
   ]
  },
  {
   "cell_type": "code",
   "execution_count": 58,
   "metadata": {},
   "outputs": [
    {
     "name": "stdout",
     "output_type": "stream",
     "text": [
      "1 2 3 4 5 6 7\n",
      "1\n",
      "3\n",
      "5\n",
      "7\n"
     ]
    }
   ],
   "source": [
    "l=list(map(int,input().split()))\n",
    "for i in range(len(l)):\n",
    "    if i%2==0:\n",
    "        print(l[i])"
   ]
  },
  {
   "cell_type": "code",
   "execution_count": 59,
   "metadata": {},
   "outputs": [
    {
     "name": "stdout",
     "output_type": "stream",
     "text": [
      "1 2 3 4 5 6 7\n",
      "2\n",
      "4\n",
      "6\n"
     ]
    }
   ],
   "source": [
    "l=list(map(int,input().split()))\n",
    "for i in range(len(l)):\n",
    "    if i%2==1:\n",
    "        print(l[i])"
   ]
  },
  {
   "cell_type": "code",
   "execution_count": 61,
   "metadata": {},
   "outputs": [
    {
     "name": "stdout",
     "output_type": "stream",
     "text": [
      "1 2 3 4 5 6\n",
      "2\n",
      "4\n",
      "6\n"
     ]
    }
   ],
   "source": [
    "l=list(map(int,input().split()))\n",
    "for i in l:\n",
    "    if i%2==0:\n",
    "        print(i)"
   ]
  },
  {
   "cell_type": "code",
   "execution_count": 63,
   "metadata": {},
   "outputs": [
    {
     "name": "stdout",
     "output_type": "stream",
     "text": [
      "1 2 3 4 5 6\n",
      "3\n",
      "3\n"
     ]
    }
   ],
   "source": [
    "l=list(map(int,input().split()))\n",
    "even=0\n",
    "odd=0\n",
    "for i in l:\n",
    "    if i%2==0:\n",
    "        even+=1\n",
    "    else:\n",
    "        odd+=1\n",
    "print(even)\n",
    "print(odd)"
   ]
  },
  {
   "cell_type": "code",
   "execution_count": 65,
   "metadata": {},
   "outputs": [
    {
     "name": "stdout",
     "output_type": "stream",
     "text": [
      "1 2 2 3 3 4 4 5 5\n",
      "[2, 3, 4, 5]\n"
     ]
    }
   ],
   "source": [
    "l=list(map(int,input().split()))\n",
    "l1=[]\n",
    "l2=[]\n",
    "for i in l:\n",
    "    if i not in l1:\n",
    "        l1.append(i)\n",
    "    else:\n",
    "        l2.append(i)\n",
    "print(l2)"
   ]
  },
  {
   "cell_type": "code",
   "execution_count": 69,
   "metadata": {},
   "outputs": [
    {
     "name": "stdout",
     "output_type": "stream",
     "text": [
      "hai how r u\n",
      "u r how hai \n"
     ]
    }
   ],
   "source": [
    "l=list(input().split())\n",
    "l1=l[::-1]\n",
    "s=''\n",
    "for i in l1:\n",
    "    s=s+i+\" \"\n",
    "print(s)"
   ]
  },
  {
   "cell_type": "code",
   "execution_count": 70,
   "metadata": {},
   "outputs": [
    {
     "name": "stdout",
     "output_type": "stream",
     "text": [
      "lahari\n",
      "2\n",
      "laari\n"
     ]
    }
   ],
   "source": [
    "s=input()\n",
    "n=int(input())\n",
    "print(s[:n]+s[n+1:])"
   ]
  },
  {
   "cell_type": "code",
   "execution_count": 73,
   "metadata": {},
   "outputs": [
    {
     "name": "stdout",
     "output_type": "stream",
     "text": [
      "hello\n",
      "5\n"
     ]
    }
   ],
   "source": [
    "s=input()\n",
    "count=0\n",
    "for i in s:\n",
    "    count+=1\n",
    "print(count)"
   ]
  },
  {
   "cell_type": "code",
   "execution_count": 78,
   "metadata": {},
   "outputs": [
    {
     "name": "stdout",
     "output_type": "stream",
     "text": [
      "ha hai ha hai\n",
      "['ha', 'hai', 'ha', 'hai']\n",
      "ha\n",
      "ha\n"
     ]
    }
   ],
   "source": [
    "s=input()\n",
    "l=s.split()\n",
    "print(l)\n",
    "for i in l:\n",
    "    if len(i)%2==0:\n",
    "        print(i)"
   ]
  },
  {
   "cell_type": "code",
   "execution_count": 80,
   "metadata": {},
   "outputs": [
    {
     "name": "stdout",
     "output_type": "stream",
     "text": [
      "hai lahari\n",
      "hailahari\n"
     ]
    }
   ],
   "source": [
    "s=input()\n",
    "s1=s.replace(\" \",\"\")\n",
    "print(s1)"
   ]
  },
  {
   "cell_type": "code",
   "execution_count": 8,
   "metadata": {},
   "outputs": [
    {
     "name": "stdout",
     "output_type": "stream",
     "text": [
      "haigov\n",
      "3\n",
      "haiGOV\n",
      "haigov\n"
     ]
    }
   ],
   "source": [
    "s=input()\n",
    "x=len(s)//2\n",
    "print(x)\n",
    "print(s[:x]+s[x:].upper())\n",
    "print(s)"
   ]
  },
  {
   "cell_type": "code",
   "execution_count": 86,
   "metadata": {},
   "outputs": [
    {
     "name": "stdout",
     "output_type": "stream",
     "text": [
      "hello\n",
      "HellO\n"
     ]
    }
   ],
   "source": [
    "s=input()\n",
    "print(s[0].upper()+s[1:-1]+s[-1].upper())"
   ]
  },
  {
   "cell_type": "code",
   "execution_count": 88,
   "metadata": {},
   "outputs": [
    {
     "name": "stdout",
     "output_type": "stream",
     "text": [
      "hai2\n"
     ]
    },
    {
     "ename": "SyntaxError",
     "evalue": "'return' outside function (<ipython-input-88-95b96c85b841>, line 9)",
     "output_type": "error",
     "traceback": [
      "\u001b[1;36m  File \u001b[1;32m\"<ipython-input-88-95b96c85b841>\"\u001b[1;36m, line \u001b[1;32m9\u001b[0m\n\u001b[1;33m    return x and y\u001b[0m\n\u001b[1;37m    ^\u001b[0m\n\u001b[1;31mSyntaxError\u001b[0m\u001b[1;31m:\u001b[0m 'return' outside function\n"
     ]
    }
   ],
   "source": [
    "def check(s):\n",
    "x=False\n",
    "y=False\n",
    "for i in range(len(s)):\n",
    "    if s[i].isalpha():\n",
    "        x=True\n",
    "    elif s[i].isdigit():\n",
    "        y=True\n",
    "return x and y\n"
   ]
  },
  {
   "cell_type": "code",
   "execution_count": 4,
   "metadata": {},
   "outputs": [
    {
     "name": "stdout",
     "output_type": "stream",
     "text": [
      "24\n",
      "4\n"
     ]
    },
    {
     "data": {
      "text/plain": [
       "2"
      ]
     },
     "execution_count": 4,
     "metadata": {},
     "output_type": "execute_result"
    }
   ],
   "source": [
    "def multiple(m,n):\n",
    "    if m==0 or n==0:\n",
    "        return 3\n",
    "    else:\n",
    "        if m%n==0:\n",
    "            return 2\n",
    "        else:\n",
    "            return 1\n",
    "    \n",
    "m=int(input()) #always +ve\n",
    "n=int(input()) #may be +ve,-ve&0\n",
    "multiple(m,n)"
   ]
  },
  {
   "cell_type": "code",
   "execution_count": 7,
   "metadata": {},
   "outputs": [
    {
     "name": "stdout",
     "output_type": "stream",
     "text": [
      "0\n",
      "4\n",
      "3\n"
     ]
    }
   ],
   "source": [
    "class A:\n",
    "    def __init__(self,m,n):\n",
    "        self.m=m\n",
    "        self.n=n\n",
    "    def multiple(self):\n",
    "        if m==0 or n==0:\n",
    "            return 3\n",
    "        elif m%n==0:\n",
    "            return 2\n",
    "        else:\n",
    "            return 1\n",
    "m=int(input())\n",
    "n=int(input())\n",
    "d=A(m,n)\n",
    "print(d.multiple())\n",
    "        "
   ]
  },
  {
   "cell_type": "markdown",
   "metadata": {},
   "source": [
    "Friendly pai or not:"
   ]
  },
  {
   "cell_type": "code",
   "execution_count": 44,
   "metadata": {},
   "outputs": [
    {
     "name": "stdout",
     "output_type": "stream",
     "text": [
      "6\n",
      "28\n",
      "6\n",
      "28\n",
      "friendly pair\n"
     ]
    }
   ],
   "source": [
    "n1=int(input())\n",
    "n2=int(input())\n",
    "sum1=0\n",
    "sum2=0\n",
    "for i in range(1,n1):\n",
    "    if(n1%i==0):\n",
    "        sum1+=i\n",
    "for i in range(1,n2):\n",
    "    if(n2%i==0):\n",
    "        sum2+=i\n",
    "print(sum1)\n",
    "print(sum2)\n",
    "if(sum1==n1 and sum2==n2):\n",
    "    print(\"friendly pair\")\n",
    "else:\n",
    "    print(\"non-friendly pair\")"
   ]
  },
  {
   "cell_type": "markdown",
   "metadata": {},
   "source": [
    "Automorphic number:"
   ]
  },
  {
   "cell_type": "code",
   "execution_count": 20,
   "metadata": {},
   "outputs": [
    {
     "name": "stdout",
     "output_type": "stream",
     "text": [
      "5\n",
      "automorphic\n"
     ]
    }
   ],
   "source": [
    "n=int(input())\n",
    "sq=n*n\n",
    "if sq%10==n%10:\n",
    "    print(\"automorphic\")\n",
    "else:\n",
    "    print(\"not automorphic\")"
   ]
  },
  {
   "cell_type": "code",
   "execution_count": 31,
   "metadata": {},
   "outputs": [
    {
     "name": "stdout",
     "output_type": "stream",
     "text": [
      "76\n",
      "2\n",
      "5776\n",
      "5776\n",
      "76\n",
      "yes\n"
     ]
    }
   ],
   "source": [
    "n=input()\n",
    "x=len(n)\n",
    "print(x)\n",
    "y=int(n)\n",
    "sq=y*y\n",
    "print(sq)\n",
    "sq=str(sq)\n",
    "print(sq)\n",
    "print(sq[-x:])\n",
    "if sq[-x:]==n:\n",
    "    print(\"yes\")\n",
    "else:\n",
    "    print(\"no\")"
   ]
  },
  {
   "cell_type": "code",
   "execution_count": 36,
   "metadata": {},
   "outputs": [
    {
     "name": "stdout",
     "output_type": "stream",
     "text": [
      "25\n",
      "625\n",
      "yes\n"
     ]
    }
   ],
   "source": [
    "n=int(input())\n",
    "sq=n*n\n",
    "n=str(n)\n",
    "sq=str(sq)\n",
    "print(sq)\n",
    "x=len(n)\n",
    "if sq[-x:]==n:\n",
    "    print(\"yes\")\n",
    "else:\n",
    "    print(\"no\")"
   ]
  },
  {
   "cell_type": "markdown",
   "metadata": {},
   "source": [
    "take inpt string with only alphabets"
   ]
  },
  {
   "cell_type": "code",
   "execution_count": 45,
   "metadata": {},
   "outputs": [
    {
     "name": "stdout",
     "output_type": "stream",
     "text": [
      "go2night\n",
      "gonight\n"
     ]
    }
   ],
   "source": [
    "s=input()\n",
    "s1=\"\"\n",
    "for char in s:\n",
    "    if ord(char)>=65 and ord(char)<=90:\n",
    "        s1+=char\n",
    "    elif ord(char)>=97 and ord(char)<=122:\n",
    "        s1+=char\n",
    "print(s1)"
   ]
  },
  {
   "cell_type": "code",
   "execution_count": 47,
   "metadata": {},
   "outputs": [
    {
     "name": "stdout",
     "output_type": "stream",
     "text": [
      "go2NightT\n",
      "goNightT\n"
     ]
    }
   ],
   "source": [
    "s=input()\n",
    "s1=\"\"\n",
    "for char in s:\n",
    "    if char.isalpha():\n",
    "        s1+=char\n",
    "print(s1)"
   ]
  },
  {
   "cell_type": "code",
   "execution_count": 50,
   "metadata": {},
   "outputs": [
    {
     "name": "stdout",
     "output_type": "stream",
     "text": [
      "hai bro\n",
      "haibro\n",
      "not palindrome\n"
     ]
    }
   ],
   "source": [
    "s=input()\n",
    "s1=\"\"\n",
    "for char in s:\n",
    "    if char.isalpha():\n",
    "        s1+=char\n",
    "print(s1)\n",
    "s1=s1.upper()\n",
    "if s1==s1[::-1]:\n",
    "    print(\"palindrome\")\n",
    "else:\n",
    "    print(\"not palindrome\")"
   ]
  },
  {
   "cell_type": "code",
   "execution_count": 51,
   "metadata": {},
   "outputs": [
    {
     "name": "stdout",
     "output_type": "stream",
     "text": [
      "123456732128989543219\n",
      "987612673489652\n",
      "123457719741663032871\n"
     ]
    }
   ],
   "source": [
    "str1=input()\n",
    "str2=input()\n",
    "print(int(str1)+int(str2))   "
   ]
  },
  {
   "cell_type": "code",
   "execution_count": 80,
   "metadata": {},
   "outputs": [
    {
     "name": "stdout",
     "output_type": "stream",
     "text": [
      "x y x\n",
      "x 1\n",
      "y 1\n",
      "x 1\n",
      "3\n",
      "<class 'str'>\n",
      "1\n"
     ]
    },
    {
     "ename": "TypeError",
     "evalue": "unsupported operand type(s) for +: 'int' and 'str'",
     "output_type": "error",
     "traceback": [
      "\u001b[1;31m---------------------------------------------------------------------------\u001b[0m",
      "\u001b[1;31mTypeError\u001b[0m                                 Traceback (most recent call last)",
      "\u001b[1;32m<ipython-input-80-52c85844a909>\u001b[0m in \u001b[0;36m<module>\u001b[1;34m\u001b[0m\n\u001b[0;32m      9\u001b[0m \u001b[0mprint\u001b[0m\u001b[1;33m(\u001b[0m\u001b[0mlen\u001b[0m\u001b[1;33m(\u001b[0m\u001b[0ms1\u001b[0m\u001b[1;33m)\u001b[0m\u001b[1;33m)\u001b[0m\u001b[1;33m\u001b[0m\u001b[1;33m\u001b[0m\u001b[0m\n\u001b[0;32m     10\u001b[0m \u001b[1;32mif\u001b[0m \u001b[0mlen\u001b[0m\u001b[1;33m(\u001b[0m\u001b[0ms1\u001b[0m\u001b[1;33m)\u001b[0m\u001b[1;33m!=\u001b[0m\u001b[1;36m0\u001b[0m\u001b[1;33m:\u001b[0m\u001b[1;33m\u001b[0m\u001b[1;33m\u001b[0m\u001b[0m\n\u001b[1;32m---> 11\u001b[1;33m     \u001b[0ms\u001b[0m\u001b[1;33m=\u001b[0m\u001b[0msum\u001b[0m\u001b[1;33m(\u001b[0m\u001b[0ms1\u001b[0m\u001b[1;33m.\u001b[0m\u001b[0msplit\u001b[0m\u001b[1;33m(\u001b[0m\u001b[1;33m)\u001b[0m\u001b[1;33m)\u001b[0m\u001b[1;33m\u001b[0m\u001b[1;33m\u001b[0m\u001b[0m\n\u001b[0m",
      "\u001b[1;31mTypeError\u001b[0m: unsupported operand type(s) for +: 'int' and 'str'"
     ]
    }
   ],
   "source": [
    "str1=input().split()\n",
    "s=0\n",
    "for i in str1:\n",
    "    print(i,len(i))\n",
    "    s=s+len(i)\n",
    "print(s)\n",
    "s1=\"%s\"%s\n",
    "print(type(s1))\n",
    "print(len(s1))\n",
    "if len(s1)!=0:\n",
    "     "
   ]
  },
  {
   "cell_type": "code",
   "execution_count": 6,
   "metadata": {},
   "outputs": [
    {
     "name": "stdout",
     "output_type": "stream",
     "text": [
      "the good the bad anf the ugly\n",
      "the 3\n",
      "good 4\n",
      "the 3\n",
      "bad 3\n",
      "anf 3\n",
      "the 3\n",
      "ugly 4\n",
      "23\n",
      "5\n"
     ]
    }
   ],
   "source": [
    "str1=input().split()\n",
    "s=0\n",
    "for i in str1:\n",
    "    print(i,len(i))\n",
    "    s=s+len(i)\n",
    "print(s)\n",
    "s1=str(s)\n",
    "sum_=0\n",
    "if len(s1)!=1:\n",
    "    for i in s1:\n",
    "        sum_=sum_+int(i)\n",
    "print(sum_)\n",
    "    "
   ]
  },
  {
   "cell_type": "code",
   "execution_count": 18,
   "metadata": {},
   "outputs": [
    {
     "ename": "SyntaxError",
     "evalue": "unexpected EOF while parsing (<ipython-input-18-47834433792c>, line 9)",
     "output_type": "error",
     "traceback": [
      "\u001b[1;36m  File \u001b[1;32m\"<ipython-input-18-47834433792c>\"\u001b[1;36m, line \u001b[1;32m9\u001b[0m\n\u001b[1;33m    \u001b[0m\n\u001b[1;37m    ^\u001b[0m\n\u001b[1;31mSyntaxError\u001b[0m\u001b[1;31m:\u001b[0m unexpected EOF while parsing\n"
     ]
    }
   ],
   "source": [
    "x=[]\n",
    "l=int(input())\n",
    "for i in range(l):\n",
    "    i=int(input())\n",
    "    x.append(i)\n",
    "print(x)\n",
    "s=0\n",
    "n=a[l-1]\n",
    "for i in range(l-2,0):\n",
    "    "
   ]
  },
  {
   "cell_type": "code",
   "execution_count": 5,
   "metadata": {},
   "outputs": [
    {
     "name": "stdout",
     "output_type": "stream",
     "text": [
      "[1, 7, 8, 9]\n"
     ]
    }
   ],
   "source": [
    "x=[1,7,8,9]\n",
    "y=[]\n",
    "for i in range(len(x)):\n",
    "    y.append(x[i])\n",
    "print(y)"
   ]
  },
  {
   "cell_type": "code",
   "execution_count": 13,
   "metadata": {},
   "outputs": [
    {
     "ename": "IndexError",
     "evalue": "list assignment index out of range",
     "output_type": "error",
     "traceback": [
      "\u001b[1;31m---------------------------------------------------------------------------\u001b[0m",
      "\u001b[1;31mIndexError\u001b[0m                                Traceback (most recent call last)",
      "\u001b[1;32m<ipython-input-13-6bb7e14fe4a9>\u001b[0m in \u001b[0;36m<module>\u001b[1;34m\u001b[0m\n\u001b[0;32m      2\u001b[0m \u001b[0my\u001b[0m\u001b[1;33m=\u001b[0m\u001b[1;33m[\u001b[0m\u001b[1;33m]\u001b[0m\u001b[1;33m\u001b[0m\u001b[1;33m\u001b[0m\u001b[0m\n\u001b[0;32m      3\u001b[0m \u001b[1;32mfor\u001b[0m \u001b[0mi\u001b[0m \u001b[1;32min\u001b[0m \u001b[0mrange\u001b[0m\u001b[1;33m(\u001b[0m\u001b[1;36m0\u001b[0m\u001b[1;33m,\u001b[0m\u001b[1;36m2\u001b[0m\u001b[1;33m)\u001b[0m\u001b[1;33m:\u001b[0m\u001b[1;33m\u001b[0m\u001b[1;33m\u001b[0m\u001b[0m\n\u001b[1;32m----> 4\u001b[1;33m     \u001b[0my\u001b[0m\u001b[1;33m[\u001b[0m\u001b[0mi\u001b[0m\u001b[1;33m]\u001b[0m\u001b[1;33m=\u001b[0m\u001b[0mx\u001b[0m\u001b[1;33m[\u001b[0m\u001b[0mi\u001b[0m\u001b[1;33m]\u001b[0m\u001b[1;33m\u001b[0m\u001b[1;33m\u001b[0m\u001b[0m\n\u001b[0m",
      "\u001b[1;31mIndexError\u001b[0m: list assignment index out of range"
     ]
    }
   ],
   "source": [
    "x=[1,2]\n",
    "y=[]\n",
    "for i in range(0,2):\n",
    "    y[i]=x[i]"
   ]
  },
  {
   "cell_type": "code",
   "execution_count": 27,
   "metadata": {},
   "outputs": [
    {
     "ename": "SyntaxError",
     "evalue": "unexpected EOF while parsing (<ipython-input-27-87e31531b795>, line 10)",
     "output_type": "error",
     "traceback": [
      "\u001b[1;36m  File \u001b[1;32m\"<ipython-input-27-87e31531b795>\"\u001b[1;36m, line \u001b[1;32m10\u001b[0m\n\u001b[1;33m    for i in (n-1,0,-1):\u001b[0m\n\u001b[1;37m                        ^\u001b[0m\n\u001b[1;31mSyntaxError\u001b[0m\u001b[1;31m:\u001b[0m unexpected EOF while parsing\n"
     ]
    }
   ],
   "source": [
    "n=int(input())\n",
    "x=[]\n",
    "for i in range(n):\n",
    "    i=int(input())\n",
    "    x.append(i)\n",
    "print(x)\n",
    "y=[]\n",
    "s=0\n",
    "l=0\n",
    "for i in range(n-1,0,-1):\n",
    "    "
   ]
  },
  {
   "cell_type": "code",
   "execution_count": 4,
   "metadata": {},
   "outputs": [
    {
     "name": "stdout",
     "output_type": "stream",
     "text": [
      "5\n",
      "5\n",
      "4\n",
      "3\n",
      "6\n",
      "4\n",
      "[5, 4, 3, 6, 4]\n",
      "3\n",
      "1\n",
      "3\n"
     ]
    }
   ],
   "source": [
    "n=int(input())\n",
    "x=[]\n",
    "for i in range(n):\n",
    "    i=int(input())\n",
    "    x.append(i)\n",
    "print(x)\n",
    "c=1\n",
    "cmax=0\n",
    "mas=1\n",
    "for i in range(n-1):\n",
    "    if x[i]>x[i+1]:\n",
    "        c+=1\n",
    "    else:\n",
    "        break\n",
    "    cmax+=1\n",
    "print(c)\n",
    "print(mas)\n",
    "print(cmax)"
   ]
  },
  {
   "cell_type": "code",
   "execution_count": 5,
   "metadata": {},
   "outputs": [
    {
     "ename": "KeyboardInterrupt",
     "evalue": "Interrupted by user",
     "output_type": "error",
     "traceback": [
      "\u001b[1;31m---------------------------------------------------------------------------\u001b[0m",
      "\u001b[1;31mKeyboardInterrupt\u001b[0m                         Traceback (most recent call last)",
      "\u001b[1;32m<ipython-input-5-b01a16a6b95d>\u001b[0m in \u001b[0;36m<module>\u001b[1;34m\u001b[0m\n\u001b[1;32m----> 1\u001b[1;33m \u001b[0mn\u001b[0m\u001b[1;33m=\u001b[0m\u001b[0mint\u001b[0m\u001b[1;33m(\u001b[0m\u001b[0minput\u001b[0m\u001b[1;33m(\u001b[0m\u001b[1;33m)\u001b[0m\u001b[1;33m)\u001b[0m\u001b[1;33m\u001b[0m\u001b[1;33m\u001b[0m\u001b[0m\n\u001b[0m\u001b[0;32m      2\u001b[0m \u001b[0mx\u001b[0m\u001b[1;33m=\u001b[0m\u001b[1;33m[\u001b[0m\u001b[1;33m]\u001b[0m\u001b[1;33m\u001b[0m\u001b[1;33m\u001b[0m\u001b[0m\n\u001b[0;32m      3\u001b[0m \u001b[1;32mfor\u001b[0m \u001b[0mi\u001b[0m \u001b[1;32min\u001b[0m \u001b[0mrange\u001b[0m\u001b[1;33m(\u001b[0m\u001b[0mn\u001b[0m\u001b[1;33m)\u001b[0m\u001b[1;33m:\u001b[0m\u001b[1;33m\u001b[0m\u001b[1;33m\u001b[0m\u001b[0m\n\u001b[0;32m      4\u001b[0m     \u001b[0mi\u001b[0m\u001b[1;33m=\u001b[0m\u001b[0mint\u001b[0m\u001b[1;33m(\u001b[0m\u001b[0minput\u001b[0m\u001b[1;33m(\u001b[0m\u001b[1;33m)\u001b[0m\u001b[1;33m)\u001b[0m\u001b[1;33m\u001b[0m\u001b[1;33m\u001b[0m\u001b[0m\n\u001b[0;32m      5\u001b[0m     \u001b[0mx\u001b[0m\u001b[1;33m.\u001b[0m\u001b[0mappend\u001b[0m\u001b[1;33m(\u001b[0m\u001b[0mi\u001b[0m\u001b[1;33m)\u001b[0m\u001b[1;33m\u001b[0m\u001b[1;33m\u001b[0m\u001b[0m\n",
      "\u001b[1;32m~\\anaconda3\\lib\\site-packages\\ipykernel\\kernelbase.py\u001b[0m in \u001b[0;36mraw_input\u001b[1;34m(self, prompt)\u001b[0m\n\u001b[0;32m    858\u001b[0m                 \u001b[1;34m\"raw_input was called, but this frontend does not support input requests.\"\u001b[0m\u001b[1;33m\u001b[0m\u001b[1;33m\u001b[0m\u001b[0m\n\u001b[0;32m    859\u001b[0m             )\n\u001b[1;32m--> 860\u001b[1;33m         return self._input_request(str(prompt),\n\u001b[0m\u001b[0;32m    861\u001b[0m             \u001b[0mself\u001b[0m\u001b[1;33m.\u001b[0m\u001b[0m_parent_ident\u001b[0m\u001b[1;33m,\u001b[0m\u001b[1;33m\u001b[0m\u001b[1;33m\u001b[0m\u001b[0m\n\u001b[0;32m    862\u001b[0m             \u001b[0mself\u001b[0m\u001b[1;33m.\u001b[0m\u001b[0m_parent_header\u001b[0m\u001b[1;33m,\u001b[0m\u001b[1;33m\u001b[0m\u001b[1;33m\u001b[0m\u001b[0m\n",
      "\u001b[1;32m~\\anaconda3\\lib\\site-packages\\ipykernel\\kernelbase.py\u001b[0m in \u001b[0;36m_input_request\u001b[1;34m(self, prompt, ident, parent, password)\u001b[0m\n\u001b[0;32m    902\u001b[0m             \u001b[1;32mexcept\u001b[0m \u001b[0mKeyboardInterrupt\u001b[0m\u001b[1;33m:\u001b[0m\u001b[1;33m\u001b[0m\u001b[1;33m\u001b[0m\u001b[0m\n\u001b[0;32m    903\u001b[0m                 \u001b[1;31m# re-raise KeyboardInterrupt, to truncate traceback\u001b[0m\u001b[1;33m\u001b[0m\u001b[1;33m\u001b[0m\u001b[1;33m\u001b[0m\u001b[0m\n\u001b[1;32m--> 904\u001b[1;33m                 \u001b[1;32mraise\u001b[0m \u001b[0mKeyboardInterrupt\u001b[0m\u001b[1;33m(\u001b[0m\u001b[1;34m\"Interrupted by user\"\u001b[0m\u001b[1;33m)\u001b[0m \u001b[1;32mfrom\u001b[0m \u001b[1;32mNone\u001b[0m\u001b[1;33m\u001b[0m\u001b[1;33m\u001b[0m\u001b[0m\n\u001b[0m\u001b[0;32m    905\u001b[0m             \u001b[1;32mexcept\u001b[0m \u001b[0mException\u001b[0m \u001b[1;32mas\u001b[0m \u001b[0me\u001b[0m\u001b[1;33m:\u001b[0m\u001b[1;33m\u001b[0m\u001b[1;33m\u001b[0m\u001b[0m\n\u001b[0;32m    906\u001b[0m                 \u001b[0mself\u001b[0m\u001b[1;33m.\u001b[0m\u001b[0mlog\u001b[0m\u001b[1;33m.\u001b[0m\u001b[0mwarning\u001b[0m\u001b[1;33m(\u001b[0m\u001b[1;34m\"Invalid Message:\"\u001b[0m\u001b[1;33m,\u001b[0m \u001b[0mexc_info\u001b[0m\u001b[1;33m=\u001b[0m\u001b[1;32mTrue\u001b[0m\u001b[1;33m)\u001b[0m\u001b[1;33m\u001b[0m\u001b[1;33m\u001b[0m\u001b[0m\n",
      "\u001b[1;31mKeyboardInterrupt\u001b[0m: Interrupted by user"
     ]
    }
   ],
   "source": [
    "n=int(input())\n",
    "x=[]\n",
    "for i in range(n):\n",
    "    i=int(input())\n",
    "    x.append(i)\n",
    "print(x)\n",
    "original=[]\n",
    "n=0\n",
    "s=0\n",
    "for i in reversed(x):\n",
    "    i=i-n\n",
    "    n=i\n",
    "    original.append(i)\n",
    "    s+=i\n",
    "original=original[::-1]\n",
    "print(original)\n",
    "print(original[0])\n",
    "print(s)"
   ]
  },
  {
   "cell_type": "code",
   "execution_count": 8,
   "metadata": {},
   "outputs": [
    {
     "name": "stdout",
     "output_type": "stream",
     "text": [
      "1\n",
      "2\n",
      "3\n",
      "2\n",
      "2  1\n"
     ]
    }
   ],
   "source": [
    "a=int(input())\n",
    "b=int(input())\n",
    "c=int(input())\n",
    "d=int(input())\n",
    "e=a*d+b*c\n",
    "f=b*d\n",
    "if b>d:\n",
    "    a1=e//b\n",
    "    a2=f//b\n",
    "    print(a1,\"\",a2)\n",
    "elif b==d:\n",
    "    a1=e//f\n",
    "    a2=f//f\n",
    "    print(a1,\"\",a2)\n",
    "else:\n",
    "    a1=e//d\n",
    "    a2=e//d\n",
    "    print(a1,\"\",a2)"
   ]
  },
  {
   "cell_type": "code",
   "execution_count": 2,
   "metadata": {},
   "outputs": [
    {
     "name": "stdout",
     "output_type": "stream",
     "text": [
      "hello\n",
      "LESS\n"
     ]
    }
   ],
   "source": [
    "in1=input()\n",
    "l=in1.split()\n",
    "len_=len(l)\n",
    "if len_<2:\n",
    "    print(\"LESS\")\n",
    "else:\n",
    "    print(l[1])"
   ]
  },
  {
   "cell_type": "code",
   "execution_count": 38,
   "metadata": {},
   "outputs": [
    {
     "name": "stdout",
     "output_type": "stream",
     "text": [
      "all zebras are black & white??\n",
      "1\n",
      "allzebrasareblackwhite\n",
      "214\n"
     ]
    }
   ],
   "source": [
    "alpha={'a':1,'b':2,'c':3,'d':4,'e':5,'f':6,'g':7,'h':8,'i':9,'j':10,'k':11,'l':12,'m':13,'n':14,'o':15,'p':16,'q':17,'r':18,'s':19,'t':20,'u':21,'v':22,'w':23,'x':24,'y':25,'z':26}\n",
    "s=input()\n",
    "s=s.lower()\n",
    "s=s.replace(\" \",\"\")\n",
    "s1=\"\"\n",
    "n=int(input())\n",
    "for i in s:\n",
    "    if n==0 and i.isalpha() and (i!='e' and i!='a' and i!='i' and i!='o' and i!='u'):\n",
    "        s1+=i\n",
    "    elif n==1 and i.isalpha():\n",
    "        s1+=i\n",
    "print(s1)\n",
    "s=0\n",
    "for i in s1:\n",
    "    s+=alpha[i]\n",
    "print(s)"
   ]
  },
  {
   "cell_type": "code",
   "execution_count": 1,
   "metadata": {},
   "outputs": [
    {
     "name": "stdout",
     "output_type": "stream",
     "text": [
      "-1\n"
     ]
    }
   ],
   "source": [
    "print(-4%-3)"
   ]
  },
  {
   "cell_type": "code",
   "execution_count": 2,
   "metadata": {},
   "outputs": [
    {
     "name": "stdout",
     "output_type": "stream",
     "text": [
      "2\n"
     ]
    }
   ],
   "source": [
    "print(-4%3)"
   ]
  },
  {
   "cell_type": "code",
   "execution_count": 3,
   "metadata": {},
   "outputs": [
    {
     "name": "stdout",
     "output_type": "stream",
     "text": [
      "-2\n"
     ]
    }
   ],
   "source": [
    "print(4%-3)"
   ]
  },
  {
   "cell_type": "code",
   "execution_count": 4,
   "metadata": {},
   "outputs": [
    {
     "name": "stdout",
     "output_type": "stream",
     "text": [
      "1\n"
     ]
    }
   ],
   "source": [
    "print(4%3)"
   ]
  },
  {
   "cell_type": "code",
   "execution_count": 9,
   "metadata": {},
   "outputs": [
    {
     "name": "stdout",
     "output_type": "stream",
     "text": [
      "1 0 2 6\n",
      "7 6 4 2\n",
      "0 2 4 6\n",
      "0 1 5 2\n",
      "[1, 0, 2, 6, 7, 6, 4, 2, 0, 2, 4, 6, 0, 1, 5, 2]\n",
      "2\n"
     ]
    }
   ],
   "source": [
    "in1=list(map(int,input().split()))\n",
    "in2=list(map(int,input().split()))\n",
    "in3=list(map(int,input().split()))\n",
    "in4=list(map(int,input().split()))\n",
    "combine=in1+in2+in3+in4\n",
    "print(combine)\n",
    "counter=0\n",
    "num=combine[0]\n",
    "for i in combine:\n",
    "    freq_init=combine.count(i)\n",
    "    if freq_init>counter:\n",
    "        counter=freq_init\n",
    "        num=i\n",
    "print(num)"
   ]
  },
  {
   "cell_type": "code",
   "execution_count": 2,
   "metadata": {},
   "outputs": [
    {
     "name": "stdout",
     "output_type": "stream",
     "text": [
      "140733022676864\n"
     ]
    }
   ],
   "source": [
    "a=4\n",
    "print(id(a))"
   ]
  },
  {
   "cell_type": "code",
   "execution_count": 3,
   "metadata": {},
   "outputs": [
    {
     "name": "stdout",
     "output_type": "stream",
     "text": [
      "0x7ffef5d32780\n"
     ]
    }
   ],
   "source": [
    "print(hex(id(a)))"
   ]
  },
  {
   "cell_type": "code",
   "execution_count": 4,
   "metadata": {},
   "outputs": [
    {
     "name": "stdout",
     "output_type": "stream",
     "text": [
      "0b11111111111111011110101110100110010011110000000\n"
     ]
    }
   ],
   "source": [
    "print(bin(id(a)))"
   ]
  },
  {
   "cell_type": "code",
   "execution_count": 5,
   "metadata": {},
   "outputs": [
    {
     "name": "stdout",
     "output_type": "stream",
     "text": [
      "0o3777736564623600\n"
     ]
    }
   ],
   "source": [
    "print(oct(id(a)))"
   ]
  },
  {
   "cell_type": "code",
   "execution_count": 19,
   "metadata": {},
   "outputs": [
    {
     "name": "stdout",
     "output_type": "stream",
     "text": [
      "1020406\n",
      "1121416\n"
     ]
    }
   ],
   "source": [
    "inp=input()\n",
    "b=inp.replace(\"0\",\"1\")\n",
    "print(b)       "
   ]
  },
  {
   "cell_type": "code",
   "execution_count": 2,
   "metadata": {},
   "outputs": [
    {
     "name": "stdout",
     "output_type": "stream",
     "text": [
      "hai bro\n",
      "hai bro\n",
      "hai bro\n",
      "hai bro\n",
      "hai bro\n",
      "hai bro\n",
      "hai bro\n",
      "hai bro\n"
     ]
    }
   ],
   "source": [
    "inp=input()\n",
    "inp[0].upper()\n",
    "inp[-1].upper()\n",
    "for i in range(len(inp)):\n",
    "    if inp[i]==\" \":\n",
    "        inp[i-1].upper()\n",
    "        inp[i+1].upper()\n",
    "    print(inp)"
   ]
  },
  {
   "cell_type": "code",
   "execution_count": 5,
   "metadata": {},
   "outputs": [
    {
     "name": "stdout",
     "output_type": "stream",
     "text": [
      "iu hohnk hh\n",
      "iUHohnk hh\n",
      "iu hohnKHh\n"
     ]
    }
   ],
   "source": [
    "inp=input()\n",
    "for i in range(len(inp)):\n",
    "    if inp[i]==\" \":\n",
    "        "
   ]
  },
  {
   "cell_type": "code",
   "execution_count": 6,
   "metadata": {},
   "outputs": [
    {
     "name": "stdout",
     "output_type": "stream",
     "text": [
      "Geeks for geeks\n",
      "GeeksForGeeks\n"
     ]
    }
   ],
   "source": [
    "name = \"geeks FOR geeks\"\n",
    " \n",
    "print(name.capitalize())\n",
    " \n",
    "# demonstration of individual words\n",
    "# capitalization to generate camel case\n",
    "name1 = \"geeks\"\n",
    "name2 = \"for\"\n",
    "name3 = \"geeks\"\n",
    "print(name1.capitalize() + name2.capitalize()\n",
    "                         + name3.capitalize())\n",
    "print(name)"
   ]
  },
  {
   "cell_type": "code",
   "execution_count": 8,
   "metadata": {},
   "outputs": [
    {
     "name": "stdout",
     "output_type": "stream",
     "text": [
      "hs chjhn\n"
     ]
    },
    {
     "ename": "TypeError",
     "evalue": "slice indices must be integers or None or have an __index__ method",
     "output_type": "error",
     "traceback": [
      "\u001b[1;31m---------------------------------------------------------------------------\u001b[0m",
      "\u001b[1;31mTypeError\u001b[0m                                 Traceback (most recent call last)",
      "\u001b[1;32m<ipython-input-8-61e25012723a>\u001b[0m in \u001b[0;36m<module>\u001b[1;34m\u001b[0m\n\u001b[0;32m      3\u001b[0m \u001b[1;32mfor\u001b[0m \u001b[0mi\u001b[0m \u001b[1;32min\u001b[0m \u001b[0minp\u001b[0m\u001b[1;33m:\u001b[0m\u001b[1;33m\u001b[0m\u001b[1;33m\u001b[0m\u001b[0m\n\u001b[0;32m      4\u001b[0m     \u001b[1;32mif\u001b[0m \u001b[0mi\u001b[0m\u001b[1;33m==\u001b[0m\u001b[1;34m\" \"\u001b[0m\u001b[1;33m:\u001b[0m\u001b[1;33m\u001b[0m\u001b[1;33m\u001b[0m\u001b[0m\n\u001b[1;32m----> 5\u001b[1;33m         \u001b[0ml\u001b[0m\u001b[1;33m.\u001b[0m\u001b[0mappend\u001b[0m\u001b[1;33m(\u001b[0m\u001b[0minp\u001b[0m\u001b[1;33m[\u001b[0m\u001b[1;36m0\u001b[0m\u001b[1;33m:\u001b[0m\u001b[0mi\u001b[0m\u001b[1;33m]\u001b[0m\u001b[1;33m)\u001b[0m\u001b[1;33m\u001b[0m\u001b[1;33m\u001b[0m\u001b[0m\n\u001b[0m\u001b[0;32m      6\u001b[0m \u001b[0mprint\u001b[0m\u001b[1;33m(\u001b[0m\u001b[0mi\u001b[0m\u001b[1;33m)\u001b[0m\u001b[1;33m\u001b[0m\u001b[1;33m\u001b[0m\u001b[0m\n",
      "\u001b[1;31mTypeError\u001b[0m: slice indices must be integers or None or have an __index__ method"
     ]
    }
   ],
   "source": [
    "inp=input()\n",
    "l=[]\n",
    "for i in inp:\n",
    "    if i==\" \":\n",
    "        l.append(inp[0:i])\n",
    "print(i)"
   ]
  },
  {
   "cell_type": "code",
   "execution_count": 18,
   "metadata": {},
   "outputs": [
    {
     "name": "stdout",
     "output_type": "stream",
     "text": [
      "hai bro how are you\n",
      "['hai', 'bro', 'how', 'are', 'you']\n",
      "HaI BrO HoW ArE YoU "
     ]
    }
   ],
   "source": [
    "inp=input().split()\n",
    "print(inp)\n",
    "for i in inp:\n",
    "    print(i[0].upper(),end=\"\")\n",
    "    print(i[1:-1],end=\"\")\n",
    "    print(i[-1].upper(),end=\" \")"
   ]
  },
  {
   "cell_type": "code",
   "execution_count": 19,
   "metadata": {},
   "outputs": [
    {
     "name": "stdout",
     "output_type": "stream",
     "text": [
      "10\n",
      "45\n"
     ]
    }
   ],
   "source": [
    "n=int(input())\n",
    "max_handshakes=(n*(n-1))//2\n",
    "print(max_handshakes)"
   ]
  },
  {
   "cell_type": "code",
   "execution_count": 35,
   "metadata": {},
   "outputs": [
    {
     "name": "stdout",
     "output_type": "stream",
     "text": [
      "1 2 3\n",
      "4 5 6\n",
      "7 8 9\n",
      " 1 2 3\n",
      " 4 5 6\n",
      " 7 8 9\n",
      " 2 3 1\n",
      " 5 6 4\n",
      " 8 9 7\n"
     ]
    }
   ],
   "source": [
    "in1=list(map(int,input().split()))\n",
    "in2=list(map(int,input().split()))\n",
    "in3=list(map(int,input().split()))\n",
    "s=\"\"\n",
    "for i in in1:\n",
    "    s=s+\" \"+str(i)\n",
    "print(s)\n",
    "s1=\"\"\n",
    "for i in in2:\n",
    "    s1=s1+\" \"+str(i)\n",
    "print(s1)\n",
    "s2=\"\"\n",
    "for i in in3:\n",
    "    s2=s2+\" \"+str(i)\n",
    "print(s2)\n",
    "print(s[2:]+s[0:2])\n",
    "print(s1[2:]+s1[0:2])\n",
    "print(s2[2:]+s2[0:2])"
   ]
  },
  {
   "cell_type": "code",
   "execution_count": 1,
   "metadata": {},
   "outputs": [
    {
     "name": "stdout",
     "output_type": "stream",
     "text": [
      "12\n",
      "1313\n",
      "122\n",
      "78\n",
      "898\n",
      "['12', '1313', '78']\n",
      "['122', '898']\n",
      "383\n"
     ]
    }
   ],
   "source": [
    "input1=input()\n",
    "input2=input()\n",
    "input3=input()\n",
    "input4=input()\n",
    "input5=input()\n",
    "l=[]\n",
    "l1=[]\n",
    "l2=[]\n",
    "l3=[]\n",
    "l4=[]\n",
    "stable=[]\n",
    "unstable=[]\n",
    "for i in input1:\n",
    "    x=input1.count(i)\n",
    "    l.append(x)\n",
    "res=all(element==l[0] for element in l)\n",
    "if(res):\n",
    "    stable.append(input1)\n",
    "else:\n",
    "    unstable.append(input1)\n",
    "for i in input2:\n",
    "    x=input2.count(i)\n",
    "    l1.append(x)\n",
    "res=all(element==l1[0] for element in l1)\n",
    "if(res):\n",
    "    stable.append(input2)\n",
    "else:\n",
    "    unstable.append(input2)\n",
    "for i in input3:\n",
    "    x=input3.count(i)\n",
    "    l2.append(x)\n",
    "res=all(element==l2[0] for element in l2)\n",
    "if(res):\n",
    "    stable.append(input3)\n",
    "else:\n",
    "    unstable.append(input3)\n",
    "for i in input4:\n",
    "    x=input4.count(i)\n",
    "    l3.append(x)\n",
    "res=all(element==l3[0] for element in l3)\n",
    "if(res):\n",
    "    stable.append(input4)\n",
    "else:\n",
    "    unstable.append(input4)\n",
    "for i in input5:\n",
    "    x=input5.count(i)\n",
    "    l4.append(x)\n",
    "res=all(element==l4[0] for element in l4)\n",
    "if(res):\n",
    "    stable.append(input5)\n",
    "else:\n",
    "    unstable.append(input5)\n",
    "print(stable)\n",
    "print(unstable)\n",
    "sum1=0\n",
    "sum2=0\n",
    "for i in stable:\n",
    "    sum1+=int(i)\n",
    "for i in unstable:\n",
    "    sum2+=int(i)\n",
    "password=sum1-sum2\n",
    "print(password)"
   ]
  },
  {
   "cell_type": "code",
   "execution_count": 2,
   "metadata": {},
   "outputs": [
    {
     "name": "stdout",
     "output_type": "stream",
     "text": [
      "5\n",
      "3\n",
      "60\n"
     ]
    }
   ],
   "source": [
    "from math import factorial\n",
    "n=int(input())\n",
    "r=int(input())\n",
    "t=factorial(n)//factorial(n-r)\n",
    "print(t)"
   ]
  },
  {
   "cell_type": "code",
   "execution_count": 5,
   "metadata": {},
   "outputs": [
    {
     "name": "stdout",
     "output_type": "stream",
     "text": [
      "100\n",
      "36\n",
      "100\n"
     ]
    }
   ],
   "source": [
    "n=int(input())\n",
    "for i in range(1,n+1):\n",
    "    count=0\n",
    "    for j in range(1,n+1):\n",
    "        if i%j==0:\n",
    "            count+=1\n",
    "    if count==9:\n",
    "        print(i)"
   ]
  },
  {
   "cell_type": "code",
   "execution_count": 1,
   "metadata": {},
   "outputs": [
    {
     "name": "stdout",
     "output_type": "stream",
     "text": [
      "yes\n"
     ]
    }
   ],
   "source": [
    "n='12343421'\n",
    "if n==n[::-1]:\n",
    "    print('yes')\n",
    "else:\n",
    "    low=0\n",
    "    high=len(n)-1\n",
    "    if n[low]==high:\n",
    "        low+=1\n",
    "        high+=1\n",
    "    else:\n",
    "        \n",
    "    "
   ]
  },
  {
   "cell_type": "code",
   "execution_count": 31,
   "metadata": {},
   "outputs": [
    {
     "name": "stdout",
     "output_type": "stream",
     "text": [
      "1 2 3 8 9\n",
      "[4, 5]\n"
     ]
    }
   ],
   "source": [
    "l=list(map(int,input().split()))\n",
    "n=len(l)\n",
    "l1=[]\n",
    "for i in range(0,n):\n",
    "    l1.append(i+1)\n",
    "x=list(set(l1)-set(l)) \n",
    "print(x)"
   ]
  },
  {
   "cell_type": "code",
   "execution_count": 3,
   "metadata": {},
   "outputs": [
    {
     "name": "stdout",
     "output_type": "stream",
     "text": [
      "o\n",
      "0\n",
      "1\n",
      "2\n",
      "3\n",
      "4\n"
     ]
    }
   ],
   "source": [
    "i=input()\n",
    "x=0\n",
    "if i=='o':\n",
    "    while x<=4:\n",
    "        print(x)\n",
    "        x+=1"
   ]
  },
  {
   "cell_type": "code",
   "execution_count": 3,
   "metadata": {},
   "outputs": [
    {
     "name": "stdout",
     "output_type": "stream",
     "text": [
      "3\n",
      "4\n",
      "1\n",
      "2\n",
      "3\n",
      "4\n",
      "5\n",
      "6\n",
      "7\n",
      "8\n",
      "0\n",
      "1\n",
      "2\n",
      "9\n",
      "1 2 3 4 \n",
      "5 6 7 8 \n",
      "0 1 2 9 \n",
      "4\n",
      "8\n",
      "9\n"
     ]
    }
   ],
   "source": [
    "r=int(input())\n",
    "c=int(input())\n",
    "matrix=[]\n",
    "for i in range(r):\n",
    "    a=[]\n",
    "    for j in range(c):\n",
    "        a.append(int(input()))\n",
    "    matrix.append(a)\n",
    "for i in range(r):\n",
    "    for j in range(c):\n",
    "        print(matrix[i][j],end=\" \")\n",
    "    print()\n",
    "for i in range(r):\n",
    "    max1=0\n",
    "    for j in range(c):\n",
    "        if matrix[i][j]>max1:\n",
    "            max1=matrix[i][j]\n",
    "    print(max1)    "
   ]
  },
  {
   "cell_type": "code",
   "execution_count": 13,
   "metadata": {},
   "outputs": [
    {
     "name": "stdout",
     "output_type": "stream",
     "text": [
      "4\n",
      "122\n",
      "212\n",
      "312\n",
      "421\n",
      "5\n",
      "5\n",
      "6\n",
      "7\n"
     ]
    }
   ],
   "source": [
    "n=int(input())\n",
    "l=[]\n",
    "for i in range(n):\n",
    "    i=int(input())\n",
    "    l.append(i)\n",
    "sum1=0\n",
    "for i in range(len(l)):\n",
    "    temp=l[i]\n",
    "    while temp!=0:\n",
    "        rem=temp%10\n",
    "        sum1=sum1+rem\n",
    "        temp=temp//10\n",
    "    print(sum1)\n",
    "    sum1=0"
   ]
  },
  {
   "cell_type": "code",
   "execution_count": 29,
   "metadata": {},
   "outputs": [
    {
     "name": "stdout",
     "output_type": "stream",
     "text": [
      "4\n",
      "3\n",
      "8\n",
      "2\n",
      "6\n",
      "[2, 3, 6, 8]\n"
     ]
    }
   ],
   "source": [
    "n=int(input())\n",
    "l=[]\n",
    "for i in range(n):\n",
    "    i=int(input())\n",
    "    l.append(i)\n",
    "l2=[]\n",
    "while l:\n",
    "    x=l[0]\n",
    "    for i in range(len(l)):\n",
    "        if l[i]<x:\n",
    "            x=l[i]\n",
    "    l2.append(x)\n",
    "    l.remove(x)\n",
    "print(l2)"
   ]
  },
  {
   "cell_type": "code",
   "execution_count": 1,
   "metadata": {},
   "outputs": [
    {
     "ename": "IndentationError",
     "evalue": "expected an indented block (<ipython-input-1-b93672f5e61e>, line 90)",
     "output_type": "error",
     "traceback": [
      "\u001b[1;36m  File \u001b[1;32m\"<ipython-input-1-b93672f5e61e>\"\u001b[1;36m, line \u001b[1;32m90\u001b[0m\n\u001b[1;33m    print(3)\u001b[0m\n\u001b[1;37m    ^\u001b[0m\n\u001b[1;31mIndentationError\u001b[0m\u001b[1;31m:\u001b[0m expected an indented block\n"
     ]
    }
   ],
   "source": [
    "# Python 3 program for the above approach\n",
    "\n",
    "# Function to find the\n",
    "def isValid(i, j, R, C):\n",
    "\tif (i < 0 or i >= R or j >= C or j < 0):\n",
    "\t\treturn False\n",
    "\treturn True\n",
    "\n",
    "# Function to find the position of the\n",
    "# K-th occurrence of element X in the\n",
    "# matrix when traversed diagonally\n",
    "def kthOccurrenceOfElement(arr, Q):\n",
    "\n",
    "\t# Stores the number of rows and columns\n",
    "\tR = len(arr)\n",
    "\tC = len(arr[0])\n",
    "\n",
    "\t# Stores the position of each\n",
    "\t# element in the diagonal traversal\n",
    "\tum = {}\n",
    "\n",
    "\tpos = 1;\n",
    "\n",
    "\t# Perform the diagonal traversal\n",
    "\tfor k in range(R):\n",
    "\t\t# Push the position in the map\n",
    "\t\tif arr[k][0] in um:\n",
    "\t\t\tum[arr[k][0]].append(pos)\n",
    "\t\telse:\n",
    "\t\t\tum[arr[k][0]] = []\n",
    "\t\t\tum[arr[k][0]].append(pos)\n",
    "\n",
    "\t\t# Increment pos by 1\n",
    "\t\tpos += 1\n",
    "\n",
    "\t\t# Set row index for next\n",
    "\t\t# position in the diagonal\n",
    "\t\ti = k - 1\n",
    "\n",
    "\t\t# Set column index for next\n",
    "\t\t# position in the diagonal\n",
    "\t\tj = 1\n",
    "\n",
    "\t\t# Print Diagonally upward\n",
    "\t\twhile (isValid(i, j, R, C)):\n",
    "\t\t\tif arr[k][0] in um:\n",
    "\t\t\t\tum[arr[k][0]].append(pos)\n",
    "\t\t\telse:\n",
    "\t\t\t\tum[arr[k][0]] = []\n",
    "\t\t\t\tum[arr[k][0]].append(pos)\n",
    "\t\t\tpos += 1\n",
    "\t\t\ti -= 1\n",
    "\n",
    "\t\t\t# Move in upright direction\n",
    "\t\t\tj += 1\n",
    "\n",
    "\t# Start from k = 1 to C-1\n",
    "\tfor k in range(1,C,1):\n",
    "\t\tif arr[R-1][k] in um:\n",
    "\t\t\tum[arr[R - 1][k]].append(pos)\n",
    "\t\telse:\n",
    "\t\t\tum[arr[R-1][k]] = []\n",
    "\t\t\tum[arr[R - 1][k]].append(pos)\n",
    "\t\tpos += 1\n",
    "\n",
    "\t\t# Set row index for next\n",
    "\t\t# position in the diagonal\n",
    "\t\ti = R - 2\n",
    "\n",
    "\t\t# Set column index for next\n",
    "\t\t# position in diagonal\n",
    "\t\tj = k + 1\n",
    "\n",
    "\t\t# Print Diagonally upward\n",
    "\t\twhile(isValid(i, j, R, C)):\n",
    "\t\t\tif arr[i][j] in um:\n",
    "\t\t\t\tum[arr[i][j]].append(pos)\n",
    "\t\t\telse:\n",
    "\t\t\t\tum[arr[i][j]] = []\n",
    "\t\t\t\tum[arr[i][j]].append(pos)\n",
    "\t\t\tpos += 1\n",
    "\t\t\ti -= 1\n",
    "\n",
    "\t\t\t# Move in upright direction\n",
    "\t\t\tj += 1\n",
    "\n",
    "\t# Traverse the queries, Q\n",
    "\tfor i in range(len(Q)):\n",
    "\t\tif(i==0):\n",
    "\t\tprint(3)\n",
    "\t\tcontinue\n",
    "\t\tX = Q[i][0]\n",
    "\t\tK = Q[i][1]\n",
    "\n",
    "\t\t# If the element is not present\n",
    "\t\t# or its occurence is less than K\n",
    "\t\tif X not in um or len(um[X]) < K:\n",
    "\t\t\t# Print -1\n",
    "\t\t\tprint(-1)\n",
    "\n",
    "\t\t# Otherwise, print the\n",
    "\t\t# required position\n",
    "\t\telse:\n",
    "\t\t\tprint(um[X][K - 1])\n",
    "\n",
    "# Driver Code\n",
    "if __name__ == '__main__':\n",
    "\tA = [[1, 4], [2, 5]]\n",
    "\n",
    "\tQ = [[4, 1], [5, 1], [10, 2]]\n",
    "\n",
    "\tkthOccurrenceOfElement(A, Q)\n",
    "\t\n",
    "\t# This code is contributed by ipg2016107.\n"
   ]
  },
  {
   "cell_type": "code",
   "execution_count": 4,
   "metadata": {},
   "outputs": [
    {
     "name": "stdout",
     "output_type": "stream",
     "text": [
      "Sum =  1\n"
     ]
    }
   ],
   "source": [
    "def sumOfMinAbsDifferences(arr,n):\n",
    "    # sort the given array\n",
    "    arr.sort()\n",
    "    # initialize sum\n",
    "    sum = 0\n",
    "         \n",
    "    # min absolute difference for\n",
    "    # the 1st array element\n",
    "    sum += abs(arr[0] - arr[1]);\n",
    "         \n",
    "    # min absolute difference for\n",
    "    # the last array element\n",
    "    sum += abs(arr[n - 1] - arr[n - 2]);\n",
    "         \n",
    "    # find min absolute difference for\n",
    "    # rest of the array elements and\n",
    "    # add them to sum\n",
    "    for i in range(1, n - 1):\n",
    "        sum += min(abs(arr[i] - arr[i - 1]),\n",
    "                  abs(arr[i] - arr[i + 1]))\n",
    "             \n",
    "    # required sum\n",
    "    return sum;\n",
    "         \n",
    " \n",
    "# Driver code\n",
    "arr = [2,3,2]\n",
    "n = len(arr)\n",
    "print( \"Sum = \", sumOfMinAbsDifferences(arr, n))"
   ]
  },
  {
   "cell_type": "code",
   "execution_count": 2,
   "metadata": {},
   "outputs": [
    {
     "name": "stdout",
     "output_type": "stream",
     "text": [
      "[80, 87, 65, 89, 85]\n",
      "[72, 85, 87, 90, 69]\n",
      "[96, 91, 70, 78, 97]\n",
      "94\n"
     ]
    }
   ],
   "source": [
    "Student_dt = [ [72, 85, 87, 90, 69], [80, 87, 65, 89, 85], [96, 91, 70, 78, 97], [90, 93, 91, 90, 94], [57, 89, 82, 69, 60] ]  \n",
    "#print(student_dt[])  \n",
    "print(Student_dt[1]) # print all elements of index 1  \n",
    "print(Student_dt[0]) # print all elements of index 0  \n",
    "print(Student_dt[2]) # print all elements of index 2  \n",
    "print(Student_dt[3][4]) # it defines the 3rd index and 4 position of the data element.  "
   ]
  },
  {
   "cell_type": "code",
   "execution_count": 6,
   "metadata": {},
   "outputs": [
    {
     "name": "stdout",
     "output_type": "stream",
     "text": [
      "Enter the value of m or Row\n",
      "3\n",
      "Enter the value of n or columns\n",
      "3\n",
      "Enter the matrix [0][0]1\n",
      "Enter the matrix [0][1]2\n",
      "Enter the matrix [0][2]3\n",
      "Enter the matrix [0][0]4\n",
      "Enter the matrix [0][1]5\n",
      "Enter the matrix [0][2]6\n",
      "Enter the matrix [0][0]7\n",
      "Enter the matrix [0][1]8\n",
      "Enter the matrix [0][2]9\n",
      "[[1, 2, 3], [4, 5, 6], [7, 8, 9]]\n"
     ]
    }
   ],
   "source": [
    "def two_d_matrix(m, n): # define the function  \n",
    "    Outp = []  # initially output matrix is empty  \n",
    "    for i in range(m): # iterate to the end of rows  \n",
    "        row = []  \n",
    "        for j in range(n): # j iterate to the end of column  \n",
    "            num = int(input(f\"Enter the matrix [{0}][{j}]\"))  \n",
    "            row.append(num) # add the user element to the end of the row  \n",
    "        Outp.append(row) # append the row to the output matrix  \n",
    "    return Outp      \n",
    "m = int(input(\"Enter the value of m or Row\\n\")) # take the rows  \n",
    "n = int(input(\"Enter the value of n or columns\\n\")) # take the columns  \n",
    "print(two_d_matrix(m, n))"
   ]
  },
  {
   "cell_type": "code",
   "execution_count": 5,
   "metadata": {},
   "outputs": [
    {
     "name": "stdout",
     "output_type": "stream",
     "text": [
      "4\n",
      "24\n"
     ]
    }
   ],
   "source": [
    "def fact(n):\n",
    "    if n==1:\n",
    "        return 1\n",
    "    elif n<1:\n",
    "        return 'na'\n",
    "    else:\n",
    "        return n*fact(n-1)\n",
    "n=int(input())\n",
    "print(fact(n))"
   ]
  },
  {
   "cell_type": "code",
   "execution_count": 8,
   "metadata": {},
   "outputs": [
    {
     "name": "stdout",
     "output_type": "stream",
     "text": [
      "4\n",
      "24\n"
     ]
    }
   ],
   "source": [
    "import math\n",
    "n=int(input())\n",
    "res=math.factorial(n)\n",
    "print(res)"
   ]
  },
  {
   "cell_type": "code",
   "execution_count": 24,
   "metadata": {},
   "outputs": [
    {
     "name": "stdout",
     "output_type": "stream",
     "text": [
      "1\n",
      "5\n",
      "2\n"
     ]
    }
   ],
   "source": [
    "def p(l,u):\n",
    "    for num in range(l,u+1):\n",
    "        if num>1:\n",
    "            for i in range(2,num):\n",
    "                if num%i==0:\n",
    "                    break\n",
    "            else:\n",
    "                return num\n",
    "l=int(input())\n",
    "u=int(input())\n",
    "prin"
   ]
  },
  {
   "cell_type": "code",
   "execution_count": 25,
   "metadata": {},
   "outputs": [
    {
     "name": "stdout",
     "output_type": "stream",
     "text": [
      "[2, 3, 5, 7, 11, 13, 17, 19, 23, 29, 31, 37, 41, 43, 47, 53, 59, 61, 67, 71, 73, 79, 83, 89, 97]\n"
     ]
    }
   ],
   "source": [
    "import sympy\n",
    "print(list(sympy.primerange(0, 100))) "
   ]
  },
  {
   "cell_type": "code",
   "execution_count": 2,
   "metadata": {},
   "outputs": [
    {
     "name": "stdout",
     "output_type": "stream",
     "text": [
      "5\n",
      "12\n",
      "99\n",
      "88\n",
      "22\n",
      "21\n",
      "[12, 99, 88, 22, 21]\n",
      "2\n"
     ]
    },
    {
     "ename": "IndexError",
     "evalue": "list assignment index out of range",
     "output_type": "error",
     "traceback": [
      "\u001b[1;31m---------------------------------------------------------------------------\u001b[0m",
      "\u001b[1;31mIndexError\u001b[0m                                Traceback (most recent call last)",
      "\u001b[1;32m<ipython-input-2-00a6269f3ade>\u001b[0m in \u001b[0;36m<module>\u001b[1;34m\u001b[0m\n\u001b[0;32m      9\u001b[0m \u001b[0mtemp\u001b[0m\u001b[1;33m=\u001b[0m\u001b[1;33m[\u001b[0m\u001b[1;33m]\u001b[0m\u001b[1;33m\u001b[0m\u001b[1;33m\u001b[0m\u001b[0m\n\u001b[0;32m     10\u001b[0m \u001b[1;32mfor\u001b[0m \u001b[0mi\u001b[0m \u001b[1;32min\u001b[0m \u001b[0mrange\u001b[0m\u001b[1;33m(\u001b[0m\u001b[1;36m1\u001b[0m\u001b[1;33m,\u001b[0m\u001b[0mn\u001b[0m\u001b[1;33m-\u001b[0m\u001b[1;36m1\u001b[0m\u001b[1;33m)\u001b[0m\u001b[1;33m:\u001b[0m\u001b[1;33m\u001b[0m\u001b[1;33m\u001b[0m\u001b[0m\n\u001b[1;32m---> 11\u001b[1;33m     \u001b[0mtemp\u001b[0m\u001b[1;33m[\u001b[0m\u001b[0mi\u001b[0m\u001b[1;33m]\u001b[0m\u001b[1;33m=\u001b[0m\u001b[0marr\u001b[0m\u001b[1;33m[\u001b[0m\u001b[0mi\u001b[0m\u001b[1;33m+\u001b[0m\u001b[1;36m1\u001b[0m\u001b[1;33m]\u001b[0m\u001b[1;33m-\u001b[0m\u001b[0marr\u001b[0m\u001b[1;33m[\u001b[0m\u001b[0mi\u001b[0m\u001b[1;33m]\u001b[0m\u001b[1;33m\u001b[0m\u001b[1;33m\u001b[0m\u001b[0m\n\u001b[0m\u001b[0;32m     12\u001b[0m \u001b[0msum1\u001b[0m\u001b[1;33m=\u001b[0m\u001b[1;36m0\u001b[0m\u001b[1;33m\u001b[0m\u001b[1;33m\u001b[0m\u001b[0m\n\u001b[0;32m     13\u001b[0m \u001b[0mstart\u001b[0m\u001b[1;33m=\u001b[0m\u001b[1;36m0\u001b[0m\u001b[1;33m\u001b[0m\u001b[1;33m\u001b[0m\u001b[0m\n",
      "\u001b[1;31mIndexError\u001b[0m: list assignment index out of range"
     ]
    }
   ],
   "source": [
    "n=int(input())\n",
    "arr=[]\n",
    "for i in range(n):\n",
    "    x=int(input())\n",
    "    arr.append(x)\n",
    "print(arr)\n",
    "k=int(input())\n",
    "arr.sort()\n",
    "temp=[]\n",
    "for i in range(1,n-1):\n",
    "    temp[i]=arr[i+1]-arr[i]\n",
    "sum1=0\n",
    "start=0\n",
    "n1=k-2\n",
    "for i in range(k-1):\n",
    "    sum=sum+temp[i]\n",
    "m=sum\n",
    "for i in n-1:\n",
    "    i=k-1\n",
    "    sum+=(temp[i]-temp[i-k+1])\n",
    "    if m>=sum:\n",
    "        end=i\n",
    "        start=i-k+1\n",
    "        m=sum\n",
    "for i in range(end+1):\n",
    "    i=start+1\n",
    "    print(arr[i])"
   ]
  },
  {
   "cell_type": "code",
   "execution_count": 11,
   "metadata": {},
   "outputs": [
    {
     "name": "stdout",
     "output_type": "stream",
     "text": [
      "88\n"
     ]
    }
   ],
   "source": [
    "def f(arr,n):\n",
    "    arr.sort()\n",
    "    ar=[]\n",
    "    de=99999999999\n",
    "    if n==1:\n",
    "        return max(arr)\n",
    "    for i in range(0,len(arr)-n,n):\n",
    "        su=0\n",
    "        for j in range(i+1,i+n):\n",
    "            su=su+arr[j]-arr[j-1]\n",
    "        if su<=de:\n",
    "            ar=arr[i:i+n]\n",
    "    return ar\n",
    "arr=[12,88,22,21,6]\n",
    "n=1\n",
    "print(f(arr,n))"
   ]
  },
  {
   "cell_type": "code",
   "execution_count": 9,
   "metadata": {},
   "outputs": [
    {
     "name": "stdout",
     "output_type": "stream",
     "text": [
      "1\n"
     ]
    }
   ],
   "source": [
    "a=9\n",
    "b=10\n",
    "while(a!=0):\n",
    "    c=~b&a\n",
    "    b=a^b\n",
    "    a=c<<1\n",
    "print(b)"
   ]
  },
  {
   "cell_type": "code",
   "execution_count": 23,
   "metadata": {},
   "outputs": [
    {
     "name": "stdout",
     "output_type": "stream",
     "text": [
      "array('i', [1, 2, 3])\n",
      "array('i', [1, 2, 3])\n"
     ]
    }
   ],
   "source": [
    "from array import *\n",
    "import copy\n",
    "arr1=array('i',[1,2,3])\n",
    "arr2=copy.copy(arr1)\n",
    "print(arr1)\n",
    "arr2[1]=5\n",
    "print(arr1)"
   ]
  },
  {
   "cell_type": "code",
   "execution_count": 24,
   "metadata": {},
   "outputs": [
    {
     "name": "stdout",
     "output_type": "stream",
     "text": [
      "array('i', [1, 2, 3])\n",
      "array('i', [1, 2, 5])\n",
      "array('i', [1, 2, 3])\n"
     ]
    }
   ],
   "source": [
    "from array import *\n",
    "import copy\n",
    "arr1=array('i',[1,2,3])\n",
    "print(arr1)\n",
    "arr2=copy.deepcopy(arr1)\n",
    "arr2[2]=5\n",
    "print(arr2)\n",
    "print(arr1)"
   ]
  },
  {
   "cell_type": "code",
   "execution_count": 2,
   "metadata": {},
   "outputs": [
    {
     "name": "stdout",
     "output_type": "stream",
     "text": [
      "lahari 6\n"
     ]
    }
   ],
   "source": [
    "x=\"hai bro lahari\"\n",
    "b=x.split()\n",
    "m=b[0]\n",
    "for i in b:\n",
    "    if len(i)>len(m):\n",
    "        m=i\n",
    "print(m,len(m))"
   ]
  },
  {
   "cell_type": "code",
   "execution_count": 4,
   "metadata": {},
   "outputs": [
    {
     "name": "stdout",
     "output_type": "stream",
     "text": [
      "{'hai': 1, 'bro': 1, 'lahari': 1}\n"
     ]
    }
   ],
   "source": [
    "d={}\n",
    "x=\"hai bro lahari\"\n",
    "b=x.split()\n",
    "for i in b:\n",
    "    d[i]=b.count(i)\n",
    "print(d)\n"
   ]
  },
  {
   "cell_type": "code",
   "execution_count": 3,
   "metadata": {},
   "outputs": [
    {
     "name": "stdout",
     "output_type": "stream",
     "text": [
      "0 1 1 2 3 5 "
     ]
    }
   ],
   "source": [
    "def f(n):\n",
    "    a=0\n",
    "    b=1\n",
    "    if n==1:\n",
    "        print(a)\n",
    "    else:\n",
    "        print(a,end=\" \")\n",
    "        print(b,end=\" \")\n",
    "    for i in range(2,n):\n",
    "        c=a+b\n",
    "        a=b\n",
    "        b=c\n",
    "        if c>n:\n",
    "            break\n",
    "        print(c,end=\" \")\n",
    "n=6\n",
    "f(6)"
   ]
  },
  {
   "cell_type": "code",
   "execution_count": 4,
   "metadata": {},
   "outputs": [
    {
     "name": "stdout",
     "output_type": "stream",
     "text": [
      "120\n"
     ]
    }
   ],
   "source": [
    "def f(x):\n",
    "    if x==0:\n",
    "        return 1\n",
    "    else:\n",
    "        return x*f(x-1)\n",
    "x=5\n",
    "print(f(5))"
   ]
  },
  {
   "cell_type": "code",
   "execution_count": 9,
   "metadata": {},
   "outputs": [
    {
     "ename": "ModuleNotFoundError",
     "evalue": "No module named 'reduce'",
     "output_type": "error",
     "traceback": [
      "\u001b[1;31m---------------------------------------------------------------------------\u001b[0m",
      "\u001b[1;31mModuleNotFoundError\u001b[0m                       Traceback (most recent call last)",
      "\u001b[1;32m<ipython-input-9-e3a7fddd790c>\u001b[0m in \u001b[0;36m<module>\u001b[1;34m\u001b[0m\n\u001b[1;32m----> 1\u001b[1;33m \u001b[1;32mimport\u001b[0m \u001b[0mreduce\u001b[0m\u001b[1;33m\u001b[0m\u001b[1;33m\u001b[0m\u001b[0m\n\u001b[0m\u001b[0;32m      2\u001b[0m \u001b[0mm\u001b[0m\u001b[1;33m=\u001b[0m\u001b[1;33m[\u001b[0m\u001b[1;36m1\u001b[0m\u001b[1;33m,\u001b[0m\u001b[1;36m2\u001b[0m\u001b[1;33m,\u001b[0m\u001b[1;36m3\u001b[0m\u001b[1;33m,\u001b[0m\u001b[1;36m4\u001b[0m\u001b[1;33m,\u001b[0m\u001b[1;36m5\u001b[0m\u001b[1;33m]\u001b[0m\u001b[1;33m\u001b[0m\u001b[1;33m\u001b[0m\u001b[0m\n\u001b[0;32m      3\u001b[0m \u001b[0mx\u001b[0m\u001b[1;33m=\u001b[0m\u001b[0mlist\u001b[0m\u001b[1;33m(\u001b[0m\u001b[0mfilter\u001b[0m\u001b[1;33m(\u001b[0m\u001b[1;32mlambda\u001b[0m \u001b[0mn\u001b[0m\u001b[1;33m:\u001b[0m\u001b[0mn\u001b[0m\u001b[1;33m%\u001b[0m\u001b[1;36m2\u001b[0m\u001b[1;33m==\u001b[0m\u001b[1;36m0\u001b[0m\u001b[1;33m,\u001b[0m\u001b[0mm\u001b[0m\u001b[1;33m)\u001b[0m\u001b[1;33m)\u001b[0m\u001b[1;33m\u001b[0m\u001b[1;33m\u001b[0m\u001b[0m\n\u001b[0;32m      4\u001b[0m \u001b[0my\u001b[0m\u001b[1;33m=\u001b[0m\u001b[0mlist\u001b[0m\u001b[1;33m(\u001b[0m\u001b[0mmap\u001b[0m\u001b[1;33m(\u001b[0m\u001b[1;32mlambda\u001b[0m \u001b[0mn\u001b[0m\u001b[1;33m:\u001b[0m\u001b[0mn\u001b[0m\u001b[1;33m*\u001b[0m\u001b[1;36m2\u001b[0m\u001b[1;33m,\u001b[0m\u001b[0mx\u001b[0m\u001b[1;33m)\u001b[0m\u001b[1;33m)\u001b[0m\u001b[1;33m\u001b[0m\u001b[1;33m\u001b[0m\u001b[0m\n\u001b[0;32m      5\u001b[0m \u001b[0mprint\u001b[0m\u001b[1;33m(\u001b[0m\u001b[0mx\u001b[0m\u001b[1;33m)\u001b[0m\u001b[1;33m\u001b[0m\u001b[1;33m\u001b[0m\u001b[0m\n",
      "\u001b[1;31mModuleNotFoundError\u001b[0m: No module named 'reduce'"
     ]
    }
   ],
   "source": [
    "\n",
    "m=[1,2,3,4,5]\n",
    "x=list(filter(lambda n:n%2==0,m))\n",
    "y=list(map(lambda n:n*2,x))\n",
    "print(x)\n",
    "print(y)\n",
    "z=reduce(lambda a,b:a+b,y)\n",
    "print(z)"
   ]
  },
  {
   "cell_type": "code",
   "execution_count": 4,
   "metadata": {},
   "outputs": [
    {
     "name": "stdout",
     "output_type": "stream",
     "text": [
      "2021-09-17 16:36:17.446407\n"
     ]
    }
   ],
   "source": [
    "from datetime import datetime\n",
    "\n",
    "presentime = datetime.now()\n",
    "\n",
    "print(presentime)"
   ]
  },
  {
   "cell_type": "code",
   "execution_count": 2,
   "metadata": {},
   "outputs": [
    {
     "name": "stdout",
     "output_type": "stream",
     "text": [
      "aygf\n"
     ]
    }
   ],
   "source": [
    "x=['aygf','biucsh']\n",
    "print(x[0])"
   ]
  },
  {
   "cell_type": "code",
   "execution_count": 5,
   "metadata": {},
   "outputs": [
    {
     "name": "stdout",
     "output_type": "stream",
     "text": [
      "aysh\n"
     ]
    }
   ],
   "source": [
    "x=\"ayshchjc\"\n",
    "print(x[0:4])"
   ]
  },
  {
   "cell_type": "code",
   "execution_count": 3,
   "metadata": {},
   "outputs": [
    {
     "ename": "TypeError",
     "evalue": "unsupported operand type(s) for %: 'list' and 'int'",
     "output_type": "error",
     "traceback": [
      "\u001b[1;31m---------------------------------------------------------------------------\u001b[0m",
      "\u001b[1;31mTypeError\u001b[0m                                 Traceback (most recent call last)",
      "\u001b[1;32m<ipython-input-3-2b56c2e83b5e>\u001b[0m in \u001b[0;36m<module>\u001b[1;34m\u001b[0m\n\u001b[0;32m      2\u001b[0m \u001b[0my\u001b[0m\u001b[1;33m=\u001b[0m\u001b[1;33m[\u001b[0m\u001b[1;33m]\u001b[0m\u001b[1;33m\u001b[0m\u001b[1;33m\u001b[0m\u001b[0m\n\u001b[0;32m      3\u001b[0m \u001b[1;32mfor\u001b[0m \u001b[0mj\u001b[0m \u001b[1;32min\u001b[0m \u001b[0mrange\u001b[0m\u001b[1;33m(\u001b[0m\u001b[1;36m2\u001b[0m\u001b[1;33m,\u001b[0m\u001b[0mi\u001b[0m\u001b[1;33m)\u001b[0m\u001b[1;33m:\u001b[0m\u001b[1;33m\u001b[0m\u001b[1;33m\u001b[0m\u001b[0m\n\u001b[1;32m----> 4\u001b[1;33m         \u001b[1;32mif\u001b[0m \u001b[0mx\u001b[0m\u001b[1;33m%\u001b[0m\u001b[0mi\u001b[0m\u001b[1;33m==\u001b[0m\u001b[1;36m0\u001b[0m\u001b[1;33m:\u001b[0m\u001b[1;33m\u001b[0m\u001b[1;33m\u001b[0m\u001b[0m\n\u001b[0m\u001b[0;32m      5\u001b[0m             \u001b[0my\u001b[0m\u001b[1;33m.\u001b[0m\u001b[0mappend\u001b[0m\u001b[1;33m(\u001b[0m\u001b[0mx\u001b[0m\u001b[1;33m)\u001b[0m\u001b[1;33m\u001b[0m\u001b[1;33m\u001b[0m\u001b[0m\n\u001b[0;32m      6\u001b[0m \u001b[0mprint\u001b[0m\u001b[1;33m(\u001b[0m\u001b[0my\u001b[0m\u001b[1;33m)\u001b[0m\u001b[1;33m\u001b[0m\u001b[1;33m\u001b[0m\u001b[0m\n",
      "\u001b[1;31mTypeError\u001b[0m: unsupported operand type(s) for %: 'list' and 'int'"
     ]
    }
   ],
   "source": [
    "x=[1,2,3,4,5,6,7]\n",
    "y=[]\n",
    "for j in range(2,i):\n",
    "        if x%i==0:\n",
    "            y.append(x)\n",
    "print(y)"
   ]
  },
  {
   "cell_type": "code",
   "execution_count": 8,
   "metadata": {},
   "outputs": [
    {
     "name": "stdout",
     "output_type": "stream",
     "text": [
      "[2, 43, 7]\n",
      "[2, 7, 43]\n",
      "7\n"
     ]
    }
   ],
   "source": [
    "l=[1,2,43,7,8,9]\n",
    "x=[]\n",
    "for i in l:\n",
    "    c=0\n",
    "    for j in range(1,i):\n",
    "        if i%j==0:\n",
    "            c+=1\n",
    "    if c==1:\n",
    "        x.append(i)\n",
    "print(x)\n",
    "y=sorted(x)\n",
    "print(y)\n",
    "print(y[1])"
   ]
  },
  {
   "cell_type": "code",
   "execution_count": 11,
   "metadata": {},
   "outputs": [
    {
     "name": "stdout",
     "output_type": "stream",
     "text": [
      "5\n",
      "0\n",
      "1\n",
      "1\n",
      "2\n",
      "3\n"
     ]
    }
   ],
   "source": [
    "def fib(n):\n",
    "    a=0\n",
    "    b=1\n",
    "    if n==1:\n",
    "        print(a)\n",
    "    else:\n",
    "        print(a)\n",
    "        print(b)\n",
    "    for i in range(2,n):\n",
    "        c=a+b\n",
    "        a=b\n",
    "        b=c\n",
    "        if c>n:\n",
    "            break\n",
    "        print(c)\n",
    "n=int(input())\n",
    "fib(n)"
   ]
  },
  {
   "cell_type": "code",
   "execution_count": 9,
   "metadata": {},
   "outputs": [
    {
     "name": "stdout",
     "output_type": "stream",
     "text": [
      "5\n",
      "0\n",
      "1\n",
      "1\n",
      "2\n",
      "3\n"
     ]
    }
   ],
   "source": [
    "def fib(n):\n",
    "    a=0\n",
    "    b=1\n",
    "    if n==0:\n",
    "        print(a)\n",
    "    elif n==1:\n",
    "        print(a)\n",
    "        print(b)\n",
    "    else:\n",
    "        print(a)\n",
    "        print(b)\n",
    "        for i in range(2,n):\n",
    "            c=a+b\n",
    "            a=b\n",
    "            b=c\n",
    "            print(b)\n",
    "n=int(input())\n",
    "fib(n)"
   ]
  },
  {
   "cell_type": "code",
   "execution_count": 4,
   "metadata": {},
   "outputs": [
    {
     "name": "stdout",
     "output_type": "stream",
     "text": [
      "272\n",
      "[2, 7, 27, 72, 272]\n",
      "[2, 72, 272]\n"
     ]
    }
   ],
   "source": [
    "import math\n",
    "s=input()\n",
    "temp=set()\n",
    "o=[]\n",
    "for i in range(0,len(s)):\n",
    "    for j in range(i,len(s)):\n",
    "        subs=int(s[i:j+1])\n",
    "        temp.add(subs)\n",
    "temp=list(temp)\n",
    "temp.sort()\n",
    "print(temp)\n",
    "for num in temp:\n",
    "    for val in range(0,int(math.sqrt(num))+1):\n",
    "        if val*(val+1)==num:\n",
    "            o.append(num)\n",
    "            break\n",
    "print(o)"
   ]
  },
  {
   "cell_type": "code",
   "execution_count": 5,
   "metadata": {},
   "outputs": [
    {
     "name": "stdout",
     "output_type": "stream",
     "text": [
      "272\n",
      "[2, 7, 27, 72, 272]\n",
      "[2, 72, 272]\n"
     ]
    }
   ],
   "source": [
    "import math\n",
    "s=input()\n",
    "temp=set()\n",
    "o=[]\n",
    "for i in range(0,len(s)):\n",
    "    for j in range(i,len(s)):\n",
    "        subs=int(s[i:j+1])\n",
    "        temp.add(subs)\n",
    "temp=list(temp)\n",
    "temp.sort()\n",
    "print(temp)\n",
    "for num in temp:\n",
    "    for val in range(0,int(math.sqrt(num))+1):\n",
    "        if val*(val+1)==num:\n",
    "            o.append(num)\n",
    "            break\n",
    "print(o)"
   ]
  },
  {
   "cell_type": "code",
   "execution_count": 6,
   "metadata": {},
   "outputs": [
    {
     "name": "stdout",
     "output_type": "stream",
     "text": [
      "372\n",
      "[2, 3, 7, 37, 72, 372]\n",
      "[2, 72]\n"
     ]
    }
   ],
   "source": [
    "import math\n",
    "s=input()\n",
    "temp=set()\n",
    "o=[]\n",
    "for i in range(0,len(s)):\n",
    "    for j in range(i,len(s)):\n",
    "        subs=int(s[i:j+1])\n",
    "        temp.add(subs)\n",
    "temp=list(temp)\n",
    "temp.sort()\n",
    "print(temp)\n",
    "for num in temp:\n",
    "    for val in range(0,int(math.sqrt(num))+1):\n",
    "        if val*(val+1)==num:\n",
    "            o.append(num)\n",
    "            break\n",
    "print(o)"
   ]
  },
  {
   "cell_type": "code",
   "execution_count": 8,
   "metadata": {},
   "outputs": [
    {
     "name": "stdout",
     "output_type": "stream",
     "text": [
      "272\n",
      "[2, 7, 27, 72, 272]\n",
      "[2, 72, 272]\n"
     ]
    }
   ],
   "source": [
    "import math\n",
    "s=input()\n",
    "temp=set()\n",
    "o=[]\n",
    "for i in range(len(s)):\n",
    "    for j in range(i,len(s)):\n",
    "        subs=int(s[i:j+1])\n",
    "        temp.add(subs)\n",
    "temp=list(temp)\n",
    "temp.sort()\n",
    "print(temp)\n",
    "for i in temp:\n",
    "    for val in range(0,int(math.sqrt(i))+1):\n",
    "        if val*(val+1)==i:\n",
    "            o.append(i)\n",
    "            break\n",
    "print(o)"
   ]
  },
  {
   "cell_type": "code",
   "execution_count": 10,
   "metadata": {},
   "outputs": [
    {
     "name": "stdout",
     "output_type": "stream",
     "text": [
      "[89, 34, 8]\n"
     ]
    }
   ],
   "source": [
    "x=[89,2,34,5,7,8]\n",
    "l=[]\n",
    "for i in range(len(x)-1):\n",
    "    if x[i]>max(x[i+1:]):\n",
    "        l.append(x[i])\n",
    "l.append(x[-1])\n",
    "print(l)"
   ]
  },
  {
   "cell_type": "code",
   "execution_count": 13,
   "metadata": {},
   "outputs": [
    {
     "name": "stdout",
     "output_type": "stream",
     "text": [
      "[2, 3, 5]\n",
      "3\n"
     ]
    }
   ],
   "source": [
    "l=[1,2,3,4,5]\n",
    "y=[]\n",
    "for i in l:\n",
    "    c=0\n",
    "    for j in range(1,i):\n",
    "        if i%j==0:\n",
    "            c+=1\n",
    "    if c==1:\n",
    "        y.append(i)\n",
    "x=sorted(y)\n",
    "print(x)\n",
    "print(x[1])\n",
    "        "
   ]
  },
  {
   "cell_type": "code",
   "execution_count": 2,
   "metadata": {},
   "outputs": [
    {
     "name": "stdout",
     "output_type": "stream",
     "text": [
      "1\n",
      "2\n",
      "3\n",
      "4\n"
     ]
    },
    {
     "ename": "IndexError",
     "evalue": "list assignment index out of range",
     "output_type": "error",
     "traceback": [
      "\u001b[1;31m---------------------------------------------------------------------------\u001b[0m",
      "\u001b[1;31mIndexError\u001b[0m                                Traceback (most recent call last)",
      "\u001b[1;32m<ipython-input-2-9ffb9ac74018>\u001b[0m in \u001b[0;36m<module>\u001b[1;34m\u001b[0m\n\u001b[0;32m      9\u001b[0m \u001b[0mi\u001b[0m\u001b[1;33m=\u001b[0m\u001b[0mappid\u001b[0m\u001b[1;33m\u001b[0m\u001b[1;33m\u001b[0m\u001b[0m\n\u001b[0;32m     10\u001b[0m \u001b[1;32mwhile\u001b[0m \u001b[0mi\u001b[0m\u001b[1;33m>\u001b[0m\u001b[1;36m0\u001b[0m\u001b[1;33m:\u001b[0m\u001b[1;33m\u001b[0m\u001b[1;33m\u001b[0m\u001b[0m\n\u001b[1;32m---> 11\u001b[1;33m     \u001b[0mx\u001b[0m\u001b[1;33m[\u001b[0m\u001b[0mi\u001b[0m\u001b[1;33m]\u001b[0m\u001b[1;33m=\u001b[0m\u001b[0mx\u001b[0m\u001b[1;33m[\u001b[0m\u001b[0mi\u001b[0m\u001b[1;33m-\u001b[0m\u001b[1;36m1\u001b[0m\u001b[1;33m]\u001b[0m\u001b[1;33m\u001b[0m\u001b[1;33m\u001b[0m\u001b[0m\n\u001b[0m\u001b[0;32m     12\u001b[0m     \u001b[0mi\u001b[0m\u001b[1;33m=\u001b[0m\u001b[0mi\u001b[0m\u001b[1;33m-\u001b[0m\u001b[1;36m1\u001b[0m\u001b[1;33m\u001b[0m\u001b[1;33m\u001b[0m\u001b[0m\n\u001b[0;32m     13\u001b[0m \u001b[0mx\u001b[0m\u001b[1;33m[\u001b[0m\u001b[1;36m0\u001b[0m\u001b[1;33m]\u001b[0m\u001b[1;33m=\u001b[0m\u001b[0mappid\u001b[0m\u001b[1;33m\u001b[0m\u001b[1;33m\u001b[0m\u001b[0m\n",
      "\u001b[1;31mIndexError\u001b[0m: list assignment index out of range"
     ]
    }
   ],
   "source": [
    "n=4\n",
    "d=3\n",
    "x=[]\n",
    "for i in range(n):\n",
    "    y=int(input())\n",
    "    x.append(y)\n",
    "appind=d%n\n",
    "appid=x[appind]\n",
    "i=appid\n",
    "while i>0:\n",
    "    x[i]=x[i-1]\n",
    "    i=i-1\n",
    "x[0]=appid\n",
    "for i in n:\n",
    "    print(x[i])\n",
    "    "
   ]
  },
  {
   "cell_type": "code",
   "execution_count": 14,
   "metadata": {},
   "outputs": [
    {
     "name": "stdout",
     "output_type": "stream",
     "text": [
      "3 8 "
     ]
    }
   ],
   "source": [
    "n=5\n",
    "a=[16,9,4,3,8,3]\n",
    "c=0\n",
    "for i in range(0,n):\n",
    "    for j in range(i+1,n):\n",
    "        if a[i]>=a[j]:\n",
    "            break\n",
    "    if j==n-1:\n",
    "        print(a[i],end=\" \")     \n",
    "    "
   ]
  },
  {
   "cell_type": "code",
   "execution_count": 7,
   "metadata": {},
   "outputs": [
    {
     "name": "stdout",
     "output_type": "stream",
     "text": [
      "4\n",
      "1\n",
      "3\n",
      "7\n",
      "6\n",
      "8\n",
      "5\n",
      "2\n",
      "10\n",
      "9\n",
      "[4, 1, 3, 7, 6, 8, 5, 2, 10, 9]\n",
      "[5, 4, 1, 3, 7, 6, 8, 2, 10, 9]\n"
     ]
    }
   ],
   "source": [
    "num=[]\n",
    "s=10\n",
    "for i in range(s):\n",
    "    x=int(input())\n",
    "    num.append(x)\n",
    "print(num)\n",
    "d=7\n",
    "appindex=(d-1)%s\n",
    "appid=num[appindex]\n",
    "i=appindex\n",
    "while i>0:\n",
    "    num[i]=num[i-1]\n",
    "    i-=1\n",
    "num[0]=appid\n",
    "print(num)"
   ]
  },
  {
   "cell_type": "code",
   "execution_count": 1,
   "metadata": {},
   "outputs": [
    {
     "name": "stdout",
     "output_type": "stream",
     "text": [
      "yes\n"
     ]
    }
   ],
   "source": [
    "x=7\n",
    "c=0\n",
    "for i in range(1,x):\n",
    "    if x%i==0:\n",
    "        c+=1\n",
    "if c==1:\n",
    "    print('yes')"
   ]
  },
  {
   "cell_type": "code",
   "execution_count": 3,
   "metadata": {},
   "outputs": [
    {
     "name": "stdout",
     "output_type": "stream",
     "text": [
      "[2, 3, 7, 11]\n",
      "11\n"
     ]
    }
   ],
   "source": [
    "x=[1,2,3,4,6,8,7,11]\n",
    "y=[]\n",
    "for i in x:\n",
    "    c=0\n",
    "    for j in range(1,i):\n",
    "        if i%j==0:\n",
    "            c+=1\n",
    "    if c==1:\n",
    "        y.append(i)\n",
    "print(y)\n",
    "print(max(y))"
   ]
  },
  {
   "cell_type": "code",
   "execution_count": 10,
   "metadata": {},
   "outputs": [
    {
     "name": "stdout",
     "output_type": "stream",
     "text": [
      "5\n",
      "7\n",
      "2\n",
      "6\n",
      "1\n",
      "4\n",
      "array('i', [7, 2, 6, 1, 4])\n",
      "2\n",
      "(1980563172400, 5)\n"
     ]
    }
   ],
   "source": [
    "from array import *\n",
    "x=array('i',[])\n",
    "n=int(input())\n",
    "for i in range(n):\n",
    "    s=int(input())\n",
    "    x.append(s)\n",
    "print(x)\n",
    "print(x[1])\n",
    "print(x.buffer_info())"
   ]
  },
  {
   "cell_type": "code",
   "execution_count": 13,
   "metadata": {},
   "outputs": [
    {
     "name": "stdout",
     "output_type": "stream",
     "text": [
      "9\n",
      "not\n"
     ]
    }
   ],
   "source": [
    "l=int(input())\n",
    "for i in x:\n",
    "    if i==l:\n",
    "        print('found')\n",
    "        break\n",
    "else:\n",
    "    print('not')"
   ]
  },
  {
   "cell_type": "code",
   "execution_count": 18,
   "metadata": {},
   "outputs": [
    {
     "name": "stdout",
     "output_type": "stream",
     "text": [
      "4\n",
      "1\n",
      "[]\n",
      "2\n",
      "[]\n"
     ]
    },
    {
     "ename": "KeyboardInterrupt",
     "evalue": "Interrupted by user",
     "output_type": "error",
     "traceback": [
      "\u001b[1;31m---------------------------------------------------------------------------\u001b[0m",
      "\u001b[1;31mKeyboardInterrupt\u001b[0m                         Traceback (most recent call last)",
      "\u001b[1;32m<ipython-input-18-64619b31a5e0>\u001b[0m in \u001b[0;36m<module>\u001b[1;34m\u001b[0m\n\u001b[0;32m      4\u001b[0m \u001b[0mn\u001b[0m\u001b[1;33m=\u001b[0m\u001b[0mint\u001b[0m\u001b[1;33m(\u001b[0m\u001b[0minput\u001b[0m\u001b[1;33m(\u001b[0m\u001b[1;33m)\u001b[0m\u001b[1;33m)\u001b[0m\u001b[1;33m\u001b[0m\u001b[1;33m\u001b[0m\u001b[0m\n\u001b[0;32m      5\u001b[0m \u001b[1;32mfor\u001b[0m \u001b[0mi\u001b[0m \u001b[1;32min\u001b[0m \u001b[0mrange\u001b[0m\u001b[1;33m(\u001b[0m\u001b[0mn\u001b[0m\u001b[1;33m)\u001b[0m\u001b[1;33m:\u001b[0m\u001b[1;33m\u001b[0m\u001b[1;33m\u001b[0m\u001b[0m\n\u001b[1;32m----> 6\u001b[1;33m     \u001b[0ms\u001b[0m\u001b[1;33m=\u001b[0m\u001b[0mint\u001b[0m\u001b[1;33m(\u001b[0m\u001b[0minput\u001b[0m\u001b[1;33m(\u001b[0m\u001b[1;33m)\u001b[0m\u001b[1;33m)\u001b[0m\u001b[1;33m\u001b[0m\u001b[1;33m\u001b[0m\u001b[0m\n\u001b[0m\u001b[0;32m      7\u001b[0m     \u001b[0mnumpy\u001b[0m\u001b[1;33m.\u001b[0m\u001b[0mappend\u001b[0m\u001b[1;33m(\u001b[0m\u001b[0mx\u001b[0m\u001b[1;33m,\u001b[0m\u001b[0ms\u001b[0m\u001b[1;33m)\u001b[0m\u001b[1;33m\u001b[0m\u001b[1;33m\u001b[0m\u001b[0m\n\u001b[0;32m      8\u001b[0m     \u001b[0mprint\u001b[0m\u001b[1;33m(\u001b[0m\u001b[0mx\u001b[0m\u001b[1;33m)\u001b[0m\u001b[1;33m\u001b[0m\u001b[1;33m\u001b[0m\u001b[0m\n",
      "\u001b[1;32m~\\anaconda3\\lib\\site-packages\\ipykernel\\kernelbase.py\u001b[0m in \u001b[0;36mraw_input\u001b[1;34m(self, prompt)\u001b[0m\n\u001b[0;32m    858\u001b[0m                 \u001b[1;34m\"raw_input was called, but this frontend does not support input requests.\"\u001b[0m\u001b[1;33m\u001b[0m\u001b[1;33m\u001b[0m\u001b[0m\n\u001b[0;32m    859\u001b[0m             )\n\u001b[1;32m--> 860\u001b[1;33m         return self._input_request(str(prompt),\n\u001b[0m\u001b[0;32m    861\u001b[0m             \u001b[0mself\u001b[0m\u001b[1;33m.\u001b[0m\u001b[0m_parent_ident\u001b[0m\u001b[1;33m,\u001b[0m\u001b[1;33m\u001b[0m\u001b[1;33m\u001b[0m\u001b[0m\n\u001b[0;32m    862\u001b[0m             \u001b[0mself\u001b[0m\u001b[1;33m.\u001b[0m\u001b[0m_parent_header\u001b[0m\u001b[1;33m,\u001b[0m\u001b[1;33m\u001b[0m\u001b[1;33m\u001b[0m\u001b[0m\n",
      "\u001b[1;32m~\\anaconda3\\lib\\site-packages\\ipykernel\\kernelbase.py\u001b[0m in \u001b[0;36m_input_request\u001b[1;34m(self, prompt, ident, parent, password)\u001b[0m\n\u001b[0;32m    902\u001b[0m             \u001b[1;32mexcept\u001b[0m \u001b[0mKeyboardInterrupt\u001b[0m\u001b[1;33m:\u001b[0m\u001b[1;33m\u001b[0m\u001b[1;33m\u001b[0m\u001b[0m\n\u001b[0;32m    903\u001b[0m                 \u001b[1;31m# re-raise KeyboardInterrupt, to truncate traceback\u001b[0m\u001b[1;33m\u001b[0m\u001b[1;33m\u001b[0m\u001b[1;33m\u001b[0m\u001b[0m\n\u001b[1;32m--> 904\u001b[1;33m                 \u001b[1;32mraise\u001b[0m \u001b[0mKeyboardInterrupt\u001b[0m\u001b[1;33m(\u001b[0m\u001b[1;34m\"Interrupted by user\"\u001b[0m\u001b[1;33m)\u001b[0m \u001b[1;32mfrom\u001b[0m \u001b[1;32mNone\u001b[0m\u001b[1;33m\u001b[0m\u001b[1;33m\u001b[0m\u001b[0m\n\u001b[0m\u001b[0;32m    905\u001b[0m             \u001b[1;32mexcept\u001b[0m \u001b[0mException\u001b[0m \u001b[1;32mas\u001b[0m \u001b[0me\u001b[0m\u001b[1;33m:\u001b[0m\u001b[1;33m\u001b[0m\u001b[1;33m\u001b[0m\u001b[0m\n\u001b[0;32m    906\u001b[0m                 \u001b[0mself\u001b[0m\u001b[1;33m.\u001b[0m\u001b[0mlog\u001b[0m\u001b[1;33m.\u001b[0m\u001b[0mwarning\u001b[0m\u001b[1;33m(\u001b[0m\u001b[1;34m\"Invalid Message:\"\u001b[0m\u001b[1;33m,\u001b[0m \u001b[0mexc_info\u001b[0m\u001b[1;33m=\u001b[0m\u001b[1;32mTrue\u001b[0m\u001b[1;33m)\u001b[0m\u001b[1;33m\u001b[0m\u001b[1;33m\u001b[0m\u001b[0m\n",
      "\u001b[1;31mKeyboardInterrupt\u001b[0m: Interrupted by user"
     ]
    }
   ],
   "source": [
    "import numpy\n",
    "from array import *\n",
    "x=numpy.array([])\n",
    "n=int(input())\n",
    "for i in range(n):\n",
    "    s=int(input())\n",
    "    numpy.append(x,s)\n",
    "    print(x)\n",
    "print(x)"
   ]
  },
  {
   "cell_type": "code",
   "execution_count": 21,
   "metadata": {},
   "outputs": [
    {
     "name": "stdout",
     "output_type": "stream",
     "text": [
      "[1 2 3 5 6 8]\n"
     ]
    }
   ],
   "source": [
    "import numpy\n",
    "a=numpy.array([1,2,3])\n",
    "b=numpy.append(a,[5,6,8])\n",
    "print(b)"
   ]
  },
  {
   "cell_type": "code",
   "execution_count": 22,
   "metadata": {},
   "outputs": [],
   "source": [
    "import numpy"
   ]
  },
  {
   "cell_type": "code",
   "execution_count": 1,
   "metadata": {},
   "outputs": [
    {
     "name": "stdout",
     "output_type": "stream",
     "text": [
      "[[1 2 3]\n",
      " [5 6 7]]\n",
      "[1 2 3 5 6 7 9 8]\n"
     ]
    }
   ],
   "source": [
    "import numpy\n",
    "a=numpy.array([[1,2,3],[5,6,7]])\n",
    "print(a)\n",
    "b=numpy.array([[9,8]])\n",
    "n=numpy.append(a,b)\n",
    "print(n)"
   ]
  },
  {
   "cell_type": "code",
   "execution_count": 33,
   "metadata": {},
   "outputs": [
    {
     "name": "stdout",
     "output_type": "stream",
     "text": [
      "[ 1 90  2  3]\n"
     ]
    }
   ],
   "source": [
    "import numpy\n",
    "a=numpy.array([1,2,3])\n",
    "n=numpy.insert(a,1,90)\n",
    "print(n)"
   ]
  },
  {
   "cell_type": "code",
   "execution_count": 34,
   "metadata": {},
   "outputs": [
    {
     "ename": "TypeError",
     "evalue": "only integer scalar arrays can be converted to a scalar index",
     "output_type": "error",
     "traceback": [
      "\u001b[1;31m---------------------------------------------------------------------------\u001b[0m",
      "\u001b[1;31mTypeError\u001b[0m                                 Traceback (most recent call last)",
      "\u001b[1;32m<ipython-input-34-3b05966af767>\u001b[0m in \u001b[0;36m<module>\u001b[1;34m\u001b[0m\n\u001b[0;32m      1\u001b[0m \u001b[1;32mimport\u001b[0m \u001b[0mnumpy\u001b[0m\u001b[1;33m\u001b[0m\u001b[1;33m\u001b[0m\u001b[0m\n\u001b[0;32m      2\u001b[0m \u001b[0ma\u001b[0m\u001b[1;33m=\u001b[0m\u001b[0mnumpy\u001b[0m\u001b[1;33m.\u001b[0m\u001b[0marray\u001b[0m\u001b[1;33m(\u001b[0m\u001b[1;33m[\u001b[0m\u001b[1;33m[\u001b[0m\u001b[1;36m1\u001b[0m\u001b[1;33m,\u001b[0m\u001b[1;36m2\u001b[0m\u001b[1;33m,\u001b[0m\u001b[1;36m3\u001b[0m\u001b[1;33m]\u001b[0m\u001b[1;33m,\u001b[0m\u001b[1;33m[\u001b[0m\u001b[1;36m5\u001b[0m\u001b[1;33m,\u001b[0m\u001b[1;36m6\u001b[0m\u001b[1;33m,\u001b[0m\u001b[1;36m7\u001b[0m\u001b[1;33m]\u001b[0m\u001b[1;33m]\u001b[0m\u001b[1;33m)\u001b[0m\u001b[1;33m\u001b[0m\u001b[1;33m\u001b[0m\u001b[0m\n\u001b[1;32m----> 3\u001b[1;33m \u001b[0mn\u001b[0m\u001b[1;33m=\u001b[0m\u001b[0mnumpy\u001b[0m\u001b[1;33m.\u001b[0m\u001b[0mappend\u001b[0m\u001b[1;33m(\u001b[0m\u001b[0ma\u001b[0m\u001b[1;33m,\u001b[0m\u001b[1;33m[\u001b[0m\u001b[1;33m[\u001b[0m\u001b[1;36m9\u001b[0m\u001b[1;33m,\u001b[0m\u001b[1;36m8\u001b[0m\u001b[1;33m,\u001b[0m\u001b[1;36m2\u001b[0m\u001b[1;33m]\u001b[0m\u001b[1;33m]\u001b[0m\u001b[1;33m,\u001b[0m\u001b[0ma\u001b[0m\u001b[1;33m)\u001b[0m\u001b[1;33m\u001b[0m\u001b[1;33m\u001b[0m\u001b[0m\n\u001b[0m\u001b[0;32m      4\u001b[0m \u001b[0mprint\u001b[0m\u001b[1;33m(\u001b[0m\u001b[0mn\u001b[0m\u001b[1;33m)\u001b[0m\u001b[1;33m\u001b[0m\u001b[1;33m\u001b[0m\u001b[0m\n",
      "\u001b[1;32m<__array_function__ internals>\u001b[0m in \u001b[0;36mappend\u001b[1;34m(*args, **kwargs)\u001b[0m\n",
      "\u001b[1;32m~\\anaconda3\\lib\\site-packages\\numpy\\lib\\function_base.py\u001b[0m in \u001b[0;36mappend\u001b[1;34m(arr, values, axis)\u001b[0m\n\u001b[0;32m   4669\u001b[0m         \u001b[0mvalues\u001b[0m \u001b[1;33m=\u001b[0m \u001b[0mravel\u001b[0m\u001b[1;33m(\u001b[0m\u001b[0mvalues\u001b[0m\u001b[1;33m)\u001b[0m\u001b[1;33m\u001b[0m\u001b[1;33m\u001b[0m\u001b[0m\n\u001b[0;32m   4670\u001b[0m         \u001b[0maxis\u001b[0m \u001b[1;33m=\u001b[0m \u001b[0marr\u001b[0m\u001b[1;33m.\u001b[0m\u001b[0mndim\u001b[0m\u001b[1;33m-\u001b[0m\u001b[1;36m1\u001b[0m\u001b[1;33m\u001b[0m\u001b[1;33m\u001b[0m\u001b[0m\n\u001b[1;32m-> 4671\u001b[1;33m     \u001b[1;32mreturn\u001b[0m \u001b[0mconcatenate\u001b[0m\u001b[1;33m(\u001b[0m\u001b[1;33m(\u001b[0m\u001b[0marr\u001b[0m\u001b[1;33m,\u001b[0m \u001b[0mvalues\u001b[0m\u001b[1;33m)\u001b[0m\u001b[1;33m,\u001b[0m \u001b[0maxis\u001b[0m\u001b[1;33m=\u001b[0m\u001b[0maxis\u001b[0m\u001b[1;33m)\u001b[0m\u001b[1;33m\u001b[0m\u001b[1;33m\u001b[0m\u001b[0m\n\u001b[0m\u001b[0;32m   4672\u001b[0m \u001b[1;33m\u001b[0m\u001b[0m\n\u001b[0;32m   4673\u001b[0m \u001b[1;33m\u001b[0m\u001b[0m\n",
      "\u001b[1;32m<__array_function__ internals>\u001b[0m in \u001b[0;36mconcatenate\u001b[1;34m(*args, **kwargs)\u001b[0m\n",
      "\u001b[1;31mTypeError\u001b[0m: only integer scalar arrays can be converted to a scalar index"
     ]
    }
   ],
   "source": [
    "import numpy\n",
    "a=numpy.array([[1,2,3],[5,6,7]])\n",
    "n=numpy.append(a,[[9,8,2]],a)\n",
    "print(n)"
   ]
  },
  {
   "cell_type": "code",
   "execution_count": 40,
   "metadata": {},
   "outputs": [
    {
     "name": "stdout",
     "output_type": "stream",
     "text": [
      "[[1 2 3]\n",
      " [4 5 6]\n",
      " [7 8 9]]\n"
     ]
    }
   ],
   "source": [
    "from numpy import *\n",
    "a=array([[1,2,3],[4,5,6],[7,8,9]])\n",
    "m=matrix(a)\n",
    "print(m)"
   ]
  },
  {
   "cell_type": "code",
   "execution_count": 42,
   "metadata": {},
   "outputs": [
    {
     "ename": "IndexError",
     "evalue": "index 1 is out of bounds for axis 0 with size 1",
     "output_type": "error",
     "traceback": [
      "\u001b[1;31m---------------------------------------------------------------------------\u001b[0m",
      "\u001b[1;31mIndexError\u001b[0m                                Traceback (most recent call last)",
      "\u001b[1;32m<ipython-input-42-130019a2fb07>\u001b[0m in \u001b[0;36m<module>\u001b[1;34m\u001b[0m\n\u001b[1;32m----> 1\u001b[1;33m \u001b[0mprint\u001b[0m\u001b[1;33m(\u001b[0m\u001b[0mm\u001b[0m\u001b[1;33m[\u001b[0m\u001b[1;36m0\u001b[0m\u001b[1;33m]\u001b[0m\u001b[1;33m[\u001b[0m\u001b[1;36m1\u001b[0m\u001b[1;33m]\u001b[0m\u001b[1;33m)\u001b[0m\u001b[1;33m\u001b[0m\u001b[1;33m\u001b[0m\u001b[0m\n\u001b[0m",
      "\u001b[1;32m~\\anaconda3\\lib\\site-packages\\numpy\\matrixlib\\defmatrix.py\u001b[0m in \u001b[0;36m__getitem__\u001b[1;34m(self, index)\u001b[0m\n\u001b[0;32m    191\u001b[0m \u001b[1;33m\u001b[0m\u001b[0m\n\u001b[0;32m    192\u001b[0m         \u001b[1;32mtry\u001b[0m\u001b[1;33m:\u001b[0m\u001b[1;33m\u001b[0m\u001b[1;33m\u001b[0m\u001b[0m\n\u001b[1;32m--> 193\u001b[1;33m             \u001b[0mout\u001b[0m \u001b[1;33m=\u001b[0m \u001b[0mN\u001b[0m\u001b[1;33m.\u001b[0m\u001b[0mndarray\u001b[0m\u001b[1;33m.\u001b[0m\u001b[0m__getitem__\u001b[0m\u001b[1;33m(\u001b[0m\u001b[0mself\u001b[0m\u001b[1;33m,\u001b[0m \u001b[0mindex\u001b[0m\u001b[1;33m)\u001b[0m\u001b[1;33m\u001b[0m\u001b[1;33m\u001b[0m\u001b[0m\n\u001b[0m\u001b[0;32m    194\u001b[0m         \u001b[1;32mfinally\u001b[0m\u001b[1;33m:\u001b[0m\u001b[1;33m\u001b[0m\u001b[1;33m\u001b[0m\u001b[0m\n\u001b[0;32m    195\u001b[0m             \u001b[0mself\u001b[0m\u001b[1;33m.\u001b[0m\u001b[0m_getitem\u001b[0m \u001b[1;33m=\u001b[0m \u001b[1;32mFalse\u001b[0m\u001b[1;33m\u001b[0m\u001b[1;33m\u001b[0m\u001b[0m\n",
      "\u001b[1;31mIndexError\u001b[0m: index 1 is out of bounds for axis 0 with size 1"
     ]
    }
   ],
   "source": [
    "print(m[0][1])"
   ]
  },
  {
   "cell_type": "code",
   "execution_count": 45,
   "metadata": {},
   "outputs": [
    {
     "name": "stdout",
     "output_type": "stream",
     "text": [
      "float64\n"
     ]
    }
   ],
   "source": [
    "from numpy import *\n",
    "x=array([1,2,3.0])\n",
    "print(x.dtype)"
   ]
  },
  {
   "cell_type": "code",
   "execution_count": 46,
   "metadata": {},
   "outputs": [],
   "source": [
    "from numpy import *"
   ]
  },
  {
   "cell_type": "code",
   "execution_count": 50,
   "metadata": {},
   "outputs": [
    {
     "name": "stdout",
     "output_type": "stream",
     "text": [
      "[[0 0 0]\n",
      " [0 0 0]\n",
      " [0 0 0]]\n"
     ]
    }
   ],
   "source": [
    "a=zeros([3,3],dtype=int)\n",
    "print(a)"
   ]
  },
  {
   "cell_type": "code",
   "execution_count": 7,
   "metadata": {},
   "outputs": [
    {
     "name": "stdout",
     "output_type": "stream",
     "text": [
      "[1 2 3]\n",
      "[1 4 3]\n",
      "[1 4 3]\n"
     ]
    }
   ],
   "source": [
    "from numpy import *\n",
    "a1=array([1,2,3])\n",
    "a2=a1.view()\n",
    "print(a1)\n",
    "a2[1]=4\n",
    "print(a2)\n",
    "print(a1)"
   ]
  },
  {
   "cell_type": "code",
   "execution_count": 8,
   "metadata": {},
   "outputs": [
    {
     "name": "stdout",
     "output_type": "stream",
     "text": [
      "[1 4 3]\n",
      "[1 2 3]\n"
     ]
    }
   ],
   "source": [
    "from numpy import * \n",
    "import copy\n",
    "a1=array([1,2,3])\n",
    "a2=a1.copy()\n",
    "a2[1]=4\n",
    "print(a2)\n",
    "print(a1)"
   ]
  },
  {
   "cell_type": "code",
   "execution_count": 10,
   "metadata": {},
   "outputs": [
    {
     "name": "stdout",
     "output_type": "stream",
     "text": [
      "True\n",
      "False\n"
     ]
    }
   ],
   "source": [
    "def armstrong(n):\n",
    "    number = str(n)\n",
    " \n",
    "    n = len(number)\n",
    "    output = 0\n",
    "    for i in number:\n",
    "        output = output+int(i)**n\n",
    " \n",
    "    if output == int(number):\n",
    "        return(True)\n",
    "    else:\n",
    "          return(False)\n",
    "         \n",
    "print(armstrong(153))\n",
    "print(armstrong(120))"
   ]
  },
  {
   "cell_type": "code",
   "execution_count": 11,
   "metadata": {},
   "outputs": [
    {
     "name": "stdout",
     "output_type": "stream",
     "text": [
      "120\n"
     ]
    }
   ],
   "source": [
    "n=5\n",
    "f=1\n",
    "for i in range(1,n+1):\n",
    "    f=f*i\n",
    "print(f)"
   ]
  },
  {
   "cell_type": "code",
   "execution_count": 13,
   "metadata": {},
   "outputs": [
    {
     "name": "stdout",
     "output_type": "stream",
     "text": [
      "120\n"
     ]
    }
   ],
   "source": [
    "def f(n):\n",
    "    if n==0:\n",
    "        return 1\n",
    "    else:\n",
    "        return n*f(n-1)\n",
    "print(f(5))"
   ]
  },
  {
   "cell_type": "code",
   "execution_count": 2,
   "metadata": {},
   "outputs": [
    {
     "name": "stdout",
     "output_type": "stream",
     "text": [
      "yes\n"
     ]
    }
   ],
   "source": [
    "n=121\n",
    "s=0\n",
    "t=n\n",
    "while n>0:\n",
    "    r=n%10\n",
    "    s=s*10+r\n",
    "    n=n//10\n",
    "if t==s:\n",
    "    print('yes')\n",
    "else:\n",
    "    print('no')"
   ]
  },
  {
   "cell_type": "code",
   "execution_count": 3,
   "metadata": {},
   "outputs": [
    {
     "name": "stdout",
     "output_type": "stream",
     "text": [
      "yebfnhcbj\n",
      "jbchnfbey\n",
      "no\n"
     ]
    }
   ],
   "source": [
    "x=input()\n",
    "y=''\n",
    "for i in x:\n",
    "    y=i+y\n",
    "print(y)\n",
    "if y==x:\n",
    "    print('yes')\n",
    "else:\n",
    "    print('no')"
   ]
  },
  {
   "cell_type": "code",
   "execution_count": 5,
   "metadata": {},
   "outputs": [
    {
     "name": "stdout",
     "output_type": "stream",
     "text": [
      "mjhsdfj\n",
      "no\n"
     ]
    }
   ],
   "source": [
    "x=input()\n",
    "if x==x[::-1]:\n",
    "    print('yes')\n",
    "else:\n",
    "    print('no')"
   ]
  },
  {
   "cell_type": "code",
   "execution_count": 7,
   "metadata": {},
   "outputs": [
    {
     "name": "stdout",
     "output_type": "stream",
     "text": [
      "yes\n",
      "sey\n"
     ]
    }
   ],
   "source": [
    "x=input()\n",
    "print(x[::-1])"
   ]
  },
  {
   "cell_type": "code",
   "execution_count": 5,
   "metadata": {},
   "outputs": [
    {
     "name": "stdout",
     "output_type": "stream",
     "text": [
      "ABC\n",
      "6\n"
     ]
    }
   ],
   "source": [
    "from itertools import permutations\n",
    "x=input()\n",
    "y=[''.join(p) for p in permutations(x)]\n",
    "print(len(y))"
   ]
  },
  {
   "cell_type": "code",
   "execution_count": 17,
   "metadata": {},
   "outputs": [
    {
     "name": "stdout",
     "output_type": "stream",
     "text": [
      "abcd"
     ]
    }
   ],
   "source": [
    "x=['a','b','c','d']\n",
    "y=[''.join(p) for p in x]\n",
    "for i in y:\n",
    "    print(i,end=\"\")"
   ]
  },
  {
   "cell_type": "code",
   "execution_count": 2,
   "metadata": {},
   "outputs": [
    {
     "name": "stdout",
     "output_type": "stream",
     "text": [
      "abc\n",
      "a\n",
      "bc\n"
     ]
    }
   ],
   "source": [
    "z=input()\n",
    "y=x.replace(z,'')\n",
    "print(y)"
   ]
  },
  {
   "cell_type": "code",
   "execution_count": 3,
   "metadata": {},
   "outputs": [
    {
     "name": "stdout",
     "output_type": "stream",
     "text": [
      "egaugnal gnimmargorp tseb si avaJ\n"
     ]
    }
   ],
   "source": [
    "x=\"Java is best programming language\"\n",
    "print(x[::-1])"
   ]
  },
  {
   "cell_type": "code",
   "execution_count": 4,
   "metadata": {},
   "outputs": [
    {
     "name": "stdout",
     "output_type": "stream",
     "text": [
      "language programming best is Java\n"
     ]
    }
   ],
   "source": [
    "x=\"Java is best programming language\"\n",
    "w=x.split()\n",
    "w=list(reversed(w))\n",
    "print(\" \".join(w))"
   ]
  },
  {
   "cell_type": "code",
   "execution_count": 3,
   "metadata": {},
   "outputs": [
    {
     "name": "stdout",
     "output_type": "stream",
     "text": [
      "ghjkkhhhhkgggg\n",
      "{'g': 5, 'h': 5, 'j': 1, 'k': 3}\n",
      "g\n"
     ]
    }
   ],
   "source": [
    "x=input()\n",
    "f={}\n",
    "for i in x:\n",
    "    if i in f:\n",
    "        f[i]+=1\n",
    "    else:\n",
    "        f[i]=1\n",
    "print(f)\n",
    "res=max(f,key=f.get)\n",
    "print(str(res))"
   ]
  },
  {
   "cell_type": "code",
   "execution_count": 12,
   "metadata": {},
   "outputs": [
    {
     "name": "stdout",
     "output_type": "stream",
     "text": [
      "325432\n",
      "[3, 2, 5, 4, 3, 2]\n",
      "2\n"
     ]
    }
   ],
   "source": [
    "num=int(input())\n",
    "y=[int(x) for x in str(num)]\n",
    "print(min(y))"
   ]
  },
  {
   "cell_type": "code",
   "execution_count": 11,
   "metadata": {},
   "outputs": [
    {
     "name": "stdout",
     "output_type": "stream",
     "text": [
      "mmmNNNNNhhshhh\n",
      "N\n",
      "5\n"
     ]
    }
   ],
   "source": [
    "input1=input()\n",
    "input2=input()\n",
    "print(input1.count(input2))"
   ]
  },
  {
   "cell_type": "code",
   "execution_count": 7,
   "metadata": {},
   "outputs": [
    {
     "name": "stdout",
     "output_type": "stream",
     "text": [
      "ABC\n",
      "6\n"
     ]
    }
   ],
   "source": [
    "from itertools import permutations\n",
    "x=input()\n",
    "y=[' '.join(p) for p in permutations(x)]\n",
    "print(len(y))"
   ]
  },
  {
   "cell_type": "code",
   "execution_count": 25,
   "metadata": {},
   "outputs": [
    {
     "name": "stdout",
     "output_type": "stream",
     "text": [
      "stop\n",
      "pots\n",
      "yes\n"
     ]
    }
   ],
   "source": [
    "x=input()\n",
    "y=input()\n",
    "if sorted(x)==sorted(y):\n",
    "    print('yes')\n",
    "else:\n",
    "    print('no')"
   ]
  },
  {
   "cell_type": "code",
   "execution_count": 27,
   "metadata": {},
   "outputs": [
    {
     "name": "stdout",
     "output_type": "stream",
     "text": [
      "123\n",
      "123 <class 'str'>\n",
      "123 <class 'int'>\n"
     ]
    }
   ],
   "source": [
    "x=input()\n",
    "print(x,type(x))\n",
    "y=int(x)\n",
    "print(y,type(y))"
   ]
  },
  {
   "cell_type": "code",
   "execution_count": 29,
   "metadata": {},
   "outputs": [
    {
     "name": "stdout",
     "output_type": "stream",
     "text": [
      "5\n",
      "1\n",
      "2\n",
      "3\n",
      "2\n",
      "1\n",
      "[1, 2, 3, 2, 1]\n",
      "[1, 2]\n"
     ]
    }
   ],
   "source": [
    "x=[]\n",
    "n=int(input())\n",
    "for i in range(n):\n",
    "    a=int(input())\n",
    "    x.append(a)\n",
    "print(x)\n",
    "a=[]\n",
    "for i in range(n-1):\n",
    "    for j in range(i+1,n):\n",
    "        if x[i]==x[j]:\n",
    "            if x[i] in a:\n",
    "                break\n",
    "            else:\n",
    "                a.append(x[i])\n",
    "print(a)"
   ]
  },
  {
   "cell_type": "code",
   "execution_count": 34,
   "metadata": {},
   "outputs": [
    {
     "name": "stdout",
     "output_type": "stream",
     "text": [
      "6\n",
      "1\n",
      "2\n",
      "3\n",
      "4\n",
      "3\n",
      "2\n",
      "[2, 3]\n",
      "2 3 "
     ]
    }
   ],
   "source": [
    "\n",
    "n=int(input())\n",
    "x=[int(input()) for i in range(n)]\n",
    "a=[]\n",
    "for i in range(n-1):\n",
    "    for j in range(i+1,n):\n",
    "        if x[i]==x[j]:\n",
    "            if x[i] in a:\n",
    "                break\n",
    "            else:\n",
    "                a.append(x[i])\n",
    "print(a)\n",
    "for i in a:\n",
    "    print(i,end=\" \")"
   ]
  },
  {
   "cell_type": "code",
   "execution_count": 37,
   "metadata": {},
   "outputs": [
    {
     "name": "stdout",
     "output_type": "stream",
     "text": [
      "[4]\n"
     ]
    }
   ],
   "source": [
    "x=[1,2,3,4,5]\n",
    "y=[2,3,1,0,5]\n",
    "a=[]\n",
    "for i in x:\n",
    "    for j in y:\n",
    "        if i==j:\n",
    "            break\n",
    "    else:\n",
    "        a.append(i)\n",
    "print(a)"
   ]
  },
  {
   "cell_type": "code",
   "execution_count": 39,
   "metadata": {},
   "outputs": [
    {
     "name": "stdout",
     "output_type": "stream",
     "text": [
      "[1, 2, 3]\n"
     ]
    }
   ],
   "source": [
    "x=[1,1,1,2,2,3,3,3,3,3]\n",
    "print(list(set(x)))"
   ]
  },
  {
   "cell_type": "code",
   "execution_count": 43,
   "metadata": {},
   "outputs": [
    {
     "name": "stdout",
     "output_type": "stream",
     "text": [
      "1 5\n",
      "2 4\n"
     ]
    }
   ],
   "source": [
    "x=[1,5,2,4,6]\n",
    "y=6\n",
    "for i in range(len(x)-1):\n",
    "    for j in range(i+1,len(x)):\n",
    "        if x[i]+x[j]==y:\n",
    "            print(x[i],x[j])"
   ]
  },
  {
   "cell_type": "code",
   "execution_count": 47,
   "metadata": {},
   "outputs": [
    {
     "name": "stdout",
     "output_type": "stream",
     "text": [
      "d\n"
     ]
    }
   ],
   "source": [
    "x='abcd'\n",
    "y='abc'\n",
    "for i in x:\n",
    "    for j in y:\n",
    "        if i==j:\n",
    "            break\n",
    "    else:\n",
    "        print(i)"
   ]
  },
  {
   "cell_type": "code",
   "execution_count": 49,
   "metadata": {},
   "outputs": [
    {
     "name": "stdout",
     "output_type": "stream",
     "text": [
      "['a', 'e', 'i', 'o']\n",
      "['b', 'c', 'd']\n"
     ]
    }
   ],
   "source": [
    "x='abcdeio'\n",
    "v=[]\n",
    "c=[]\n",
    "for i in x:\n",
    "    if i=='a' or i=='e' or i=='i' or i=='o' or i=='u':\n",
    "        v.append(i)\n",
    "    else:\n",
    "        c.append(i)\n",
    "print(v)\n",
    "print(c)"
   ]
  },
  {
   "cell_type": "code",
   "execution_count": 52,
   "metadata": {},
   "outputs": [
    {
     "name": "stdout",
     "output_type": "stream",
     "text": [
      "[4, 3, 2, 1]\n"
     ]
    }
   ],
   "source": [
    "x=[1,2,3,4]\n",
    "print(x[::-1])"
   ]
  },
  {
   "cell_type": "code",
   "execution_count": 53,
   "metadata": {},
   "outputs": [
    {
     "name": "stdout",
     "output_type": "stream",
     "text": [
      "6\n",
      "8\n"
     ]
    }
   ],
   "source": [
    "a=8\n",
    "b=6\n",
    "a=a^b\n",
    "b=a^b\n",
    "a=a^b\n",
    "print(a)\n",
    "print(b)"
   ]
  },
  {
   "cell_type": "code",
   "execution_count": 1,
   "metadata": {},
   "outputs": [
    {
     "name": "stdout",
     "output_type": "stream",
     "text": [
      "apple\n",
      "e l\n"
     ]
    }
   ],
   "source": [
    "x=input()\n",
    "print(x[-1]+\" \"+x[-2])"
   ]
  },
  {
   "cell_type": "code",
   "execution_count": 11,
   "metadata": {},
   "outputs": [
    {
     "name": "stdout",
     "output_type": "stream",
     "text": [
      "[('eggs', 2.89), ('milk', 3.29), ('cheese', 5.79)]\n",
      "[('eggs', 2.89), ('eggs', 2.99), ('cheese', 5.97), ('milk', 3.29)]\n",
      "2\n"
     ]
    }
   ],
   "source": [
    "z=[(products[i],productPrices[i]) for i in range(len(products))]\n",
    "c=[(productSold[i],soldPrice[i]) for i in range(len(productSold))]\n",
    "m=0\n",
    "for i in z:\n",
    "    for j in c:\n",
    "        if i[0]==j[0] and i[1]!=j[1]:\n",
    "            m+=1\n",
    "return m"
   ]
  },
  {
   "cell_type": "code",
   "execution_count": 12,
   "metadata": {},
   "outputs": [
    {
     "name": "stdout",
     "output_type": "stream",
     "text": [
      "abbabbab\n",
      "abbabba\n"
     ]
    }
   ],
   "source": [
    "def f(s):\n",
    "    m=''\n",
    "    for i in range(len(s)):\n",
    "        for j in range(len(s),i,-1):\n",
    "            if len(m)>=j-i:\n",
    "                break\n",
    "            elif s[i:j]==s[i:j][::-1]:\n",
    "                m=s[i:j]\n",
    "                break\n",
    "    return m\n",
    "s=input()\n",
    "print(f(s))"
   ]
  },
  {
   "cell_type": "code",
   "execution_count": 1,
   "metadata": {},
   "outputs": [
    {
     "name": "stdout",
     "output_type": "stream",
     "text": [
      "Hello World People\n",
      "hELLO wORLD pEOPLE\n"
     ]
    }
   ],
   "source": [
    "x=input()\n",
    "print(x.swapcase())"
   ]
  },
  {
   "cell_type": "code",
   "execution_count": 29,
   "metadata": {},
   "outputs": [
    {
     "name": "stdout",
     "output_type": "stream",
     "text": [
      "6\n",
      "60 7 8 10 250 730\n",
      "266\n"
     ]
    }
   ],
   "source": [
    "import math\n",
    "from math import *\n",
    "n=int(input())\n",
    "x=[int(i) for i in input().split()][:n]\n",
    "s=0\n",
    "for i in range(n):\n",
    "    s+=x[i]\n",
    "c=0\n",
    "for i in range(s+1):\n",
    "    c=i*i*i\n",
    "    if c==s:\n",
    "        print(s)\n",
    "    else:\n",
    "        b=floor(s**(1/3))+1\n",
    "        u=b**3\n",
    "print(u-s)"
   ]
  },
  {
   "cell_type": "code",
   "execution_count": 12,
   "metadata": {},
   "outputs": [
    {
     "name": "stdout",
     "output_type": "stream",
     "text": [
      "5\n",
      "4\n",
      "25\n",
      "26\n",
      "54\n",
      "81\n",
      "48\n",
      "25 26 54 81 48 \n",
      "57\n"
     ]
    }
   ],
   "source": [
    "n=int(input())\n",
    "d=int(input())\n",
    "x=[int(input()) for i in range(n)]\n",
    "for i in x:\n",
    "    print(i,end=\" \")\n",
    "print()\n",
    "s=[]\n",
    "for i in x:\n",
    "    a=i//d\n",
    "    s.append(a)\n",
    "b=0\n",
    "for i in s:\n",
    "    b+=i\n",
    "print(b)"
   ]
  },
  {
   "cell_type": "code",
   "execution_count": 20,
   "metadata": {},
   "outputs": [
    {
     "name": "stdout",
     "output_type": "stream",
     "text": [
      "lahari\n",
      "lhari\n"
     ]
    }
   ],
   "source": [
    "x=input()\n",
    "s=set(s)\n",
    "s=''.join(s)\n",
    "dup=''\n",
    "for i in s:\n",
    "    if i in dup:\n",
    "        pass\n",
    "    else:\n",
    "        dup=dup+i\n",
    "print(dup)"
   ]
  },
  {
   "cell_type": "code",
   "execution_count": 29,
   "metadata": {},
   "outputs": [
    {
     "name": "stdout",
     "output_type": "stream",
     "text": [
      "lahari\n",
      "lhri"
     ]
    }
   ],
   "source": [
    "x=input()\n",
    "for i in range(len(x)):\n",
    "    c=0\n",
    "    for j in range(len(x)):\n",
    "        if x[i]==x[j] and i!=j:\n",
    "            c+=1\n",
    "            break\n",
    "    if c==0:\n",
    "        print(x[i],end=\"\")"
   ]
  },
  {
   "cell_type": "code",
   "execution_count": 31,
   "metadata": {},
   "outputs": [
    {
     "name": "stdout",
     "output_type": "stream",
     "text": [
      "123456\n",
      "246"
     ]
    }
   ],
   "source": [
    "x=input()\n",
    "for i in x:\n",
    "    if int(i)%2==0:\n",
    "        print(i,end=\"\")"
   ]
  },
  {
   "cell_type": "code",
   "execution_count": 32,
   "metadata": {},
   "outputs": [],
   "source": [
    "class Car:\n",
    "    pass"
   ]
  },
  {
   "cell_type": "code",
   "execution_count": 28,
   "metadata": {},
   "outputs": [
    {
     "name": "stdout",
     "output_type": "stream",
     "text": [
      "3521 2452 1352\n",
      "5\n"
     ]
    }
   ],
   "source": [
    "n=3\n",
    "x=[int(i) for i in input().split()][:n]\n",
    "a=[]\n",
    "b=[]\n",
    "for i in x:\n",
    "    l=list(str(i))\n",
    "    a.append(max(l))\n",
    "    b.append(sorted(l)[-2])\n",
    "s1=0\n",
    "s2=0\n",
    "for i in a:\n",
    "    s1+=int(i)\n",
    "for i in b:\n",
    "    s2+=int(i)\n",
    "print(s1-s2)"
   ]
  },
  {
   "cell_type": "code",
   "execution_count": 45,
   "metadata": {},
   "outputs": [
    {
     "name": "stdout",
     "output_type": "stream",
     "text": [
      "<__main__.Car object at 0x000001B6959848E0>\n"
     ]
    }
   ],
   "source": [
    "class Car:\n",
    "    pass\n",
    "obj1=Car()\n",
    "print(obj1)"
   ]
  },
  {
   "cell_type": "code",
   "execution_count": 67,
   "metadata": {},
   "outputs": [
    {
     "name": "stdout",
     "output_type": "stream",
     "text": [
      "the sedan gives mileage of 120\n",
      "the tata gives mileage of 220\n",
      "the tata audi is type of car blue\n"
     ]
    }
   ],
   "source": [
    "class Car:\n",
    "    def __init__(self,name,color,mileage):\n",
    "        self.name=name\n",
    "        self.color=color\n",
    "        self.mileage=mileage\n",
    "    def description(self):\n",
    "        return f\"the {self.name} gives mileage of {self.mileage}\"\n",
    "    def colour(self):\n",
    "        return f\"the {self.name} has color of {self.color}\"\n",
    "class Audi(Car):\n",
    "    def audi_desc(self):\n",
    "        return f\"the {self.name} audi is type of car {self.color}\"\n",
    "obj1=Car('sedan','red',120)\n",
    "print(obj1.description())\n",
    "obj2=Audi('tata','blue',220)\n",
    "print(obj2.description())\n",
    "print(obj2.audi_desc())"
   ]
  },
  {
   "cell_type": "code",
   "execution_count": 17,
   "metadata": {},
   "outputs": [
    {
     "name": "stdout",
     "output_type": "stream",
     "text": [
      "12340\n"
     ]
    },
    {
     "ename": "KeyError",
     "evalue": "1",
     "output_type": "error",
     "traceback": [
      "\u001b[1;31m---------------------------------------------------------------------------\u001b[0m",
      "\u001b[1;31mKeyError\u001b[0m                                  Traceback (most recent call last)",
      "\u001b[1;32m<ipython-input-17-8227d47b1b0d>\u001b[0m in \u001b[0;36m<module>\u001b[1;34m\u001b[0m\n\u001b[0;32m      9\u001b[0m \u001b[1;32mfor\u001b[0m \u001b[0mi\u001b[0m \u001b[1;32min\u001b[0m \u001b[0mstr\u001b[0m\u001b[1;33m(\u001b[0m\u001b[0mx\u001b[0m\u001b[1;33m)\u001b[0m\u001b[1;33m:\u001b[0m\u001b[1;33m\u001b[0m\u001b[1;33m\u001b[0m\u001b[0m\n\u001b[0;32m     10\u001b[0m     \u001b[0my\u001b[0m\u001b[1;33m.\u001b[0m\u001b[0mappend\u001b[0m\u001b[1;33m(\u001b[0m\u001b[0mint\u001b[0m\u001b[1;33m(\u001b[0m\u001b[0mi\u001b[0m\u001b[1;33m)\u001b[0m\u001b[1;33m)\u001b[0m\u001b[1;33m\u001b[0m\u001b[1;33m\u001b[0m\u001b[0m\n\u001b[1;32m---> 11\u001b[1;33m \u001b[0ml\u001b[0m\u001b[1;33m=\u001b[0m\u001b[1;33m[\u001b[0m\u001b[0md\u001b[0m\u001b[1;33m[\u001b[0m\u001b[0mi\u001b[0m\u001b[1;33m]\u001b[0m \u001b[1;32mfor\u001b[0m \u001b[0mi\u001b[0m \u001b[1;32min\u001b[0m \u001b[0my\u001b[0m\u001b[1;33m]\u001b[0m\u001b[1;33m\u001b[0m\u001b[1;33m\u001b[0m\u001b[0m\n\u001b[0m\u001b[0;32m     12\u001b[0m \u001b[1;32mfor\u001b[0m \u001b[0mi\u001b[0m \u001b[1;32min\u001b[0m \u001b[0ml\u001b[0m\u001b[1;33m:\u001b[0m\u001b[1;33m\u001b[0m\u001b[1;33m\u001b[0m\u001b[0m\n\u001b[0;32m     13\u001b[0m     \u001b[0mprint\u001b[0m\u001b[1;33m(\u001b[0m\u001b[0mi\u001b[0m\u001b[1;33m,\u001b[0m\u001b[0mend\u001b[0m\u001b[1;33m=\u001b[0m\u001b[1;34m\"\"\u001b[0m\u001b[1;33m)\u001b[0m\u001b[1;33m\u001b[0m\u001b[1;33m\u001b[0m\u001b[0m\n",
      "\u001b[1;32m<ipython-input-17-8227d47b1b0d>\u001b[0m in \u001b[0;36m<listcomp>\u001b[1;34m(.0)\u001b[0m\n\u001b[0;32m      9\u001b[0m \u001b[1;32mfor\u001b[0m \u001b[0mi\u001b[0m \u001b[1;32min\u001b[0m \u001b[0mstr\u001b[0m\u001b[1;33m(\u001b[0m\u001b[0mx\u001b[0m\u001b[1;33m)\u001b[0m\u001b[1;33m:\u001b[0m\u001b[1;33m\u001b[0m\u001b[1;33m\u001b[0m\u001b[0m\n\u001b[0;32m     10\u001b[0m     \u001b[0my\u001b[0m\u001b[1;33m.\u001b[0m\u001b[0mappend\u001b[0m\u001b[1;33m(\u001b[0m\u001b[0mint\u001b[0m\u001b[1;33m(\u001b[0m\u001b[0mi\u001b[0m\u001b[1;33m)\u001b[0m\u001b[1;33m)\u001b[0m\u001b[1;33m\u001b[0m\u001b[1;33m\u001b[0m\u001b[0m\n\u001b[1;32m---> 11\u001b[1;33m \u001b[0ml\u001b[0m\u001b[1;33m=\u001b[0m\u001b[1;33m[\u001b[0m\u001b[0md\u001b[0m\u001b[1;33m[\u001b[0m\u001b[0mi\u001b[0m\u001b[1;33m]\u001b[0m \u001b[1;32mfor\u001b[0m \u001b[0mi\u001b[0m \u001b[1;32min\u001b[0m \u001b[0my\u001b[0m\u001b[1;33m]\u001b[0m\u001b[1;33m\u001b[0m\u001b[1;33m\u001b[0m\u001b[0m\n\u001b[0m\u001b[0;32m     12\u001b[0m \u001b[1;32mfor\u001b[0m \u001b[0mi\u001b[0m \u001b[1;32min\u001b[0m \u001b[0ml\u001b[0m\u001b[1;33m:\u001b[0m\u001b[1;33m\u001b[0m\u001b[1;33m\u001b[0m\u001b[0m\n\u001b[0;32m     13\u001b[0m     \u001b[0mprint\u001b[0m\u001b[1;33m(\u001b[0m\u001b[0mi\u001b[0m\u001b[1;33m,\u001b[0m\u001b[0mend\u001b[0m\u001b[1;33m=\u001b[0m\u001b[1;34m\"\"\u001b[0m\u001b[1;33m)\u001b[0m\u001b[1;33m\u001b[0m\u001b[1;33m\u001b[0m\u001b[0m\n",
      "\u001b[1;31mKeyError\u001b[0m: 1"
     ]
    }
   ],
   "source": [
    "d = {} \n",
    "\n",
    "alpha = 'abcdefghijklmnopqrstuvwxyz'\n",
    "\n",
    "for i in range(26):\n",
    "    d[alpha[i]] = i\n",
    "x=int(input())\n",
    "y=[]\n",
    "for i in str(x):\n",
    "    y.append(int(i))\n",
    "l=[d[i] for i in y]\n",
    "for i in l:\n",
    "    print(i,end=\"\")"
   ]
  },
  {
   "cell_type": "code",
   "execution_count": 16,
   "metadata": {},
   "outputs": [
    {
     "name": "stdout",
     "output_type": "stream",
     "text": [
      "12403\n",
      "bcead"
     ]
    }
   ],
   "source": [
    "import string\n",
    "a=dict(enumerate(string.ascii_lowercase))\n",
    "x=int(input())\n",
    "y=[]\n",
    "for i in str(x):\n",
    "    y.append(int(i))\n",
    "l=[a[i] for i in y]\n",
    "for i in l:\n",
    "    print(i,end=\"\")"
   ]
  },
  {
   "cell_type": "code",
   "execution_count": 24,
   "metadata": {},
   "outputs": [
    {
     "name": "stdout",
     "output_type": "stream",
     "text": [
      "i am a genious developer\n",
      "9\n"
     ]
    }
   ],
   "source": [
    "x=input()\n",
    "y=x.split()\n",
    "print(len(y[-1]))"
   ]
  },
  {
   "cell_type": "code",
   "execution_count": 47,
   "metadata": {},
   "outputs": [
    {
     "name": "stdout",
     "output_type": "stream",
     "text": [
      "5 6\n",
      "1 3 5 7 9\n",
      "3\n"
     ]
    }
   ],
   "source": [
    "def f(x):   \n",
    "    a=[]\n",
    "    for i in range(b):\n",
    "        if c>x[i]:\n",
    "             a.append(i)\n",
    "    print(max(a)+1)\n",
    "x=[int(i) for i in input().split()][:2]\n",
    "for i in x:\n",
    "    b=x[0]\n",
    "    c=x[1]\n",
    "x=[int(i) for i in input().split()][:b]\n",
    "f(x)"
   ]
  },
  {
   "cell_type": "code",
   "execution_count": null,
   "metadata": {},
   "outputs": [],
   "source": [
    "x=int(input())\n",
    "for i in str(x):\n",
    "    if i%2==0:\n",
    "        i+=1\n",
    "    else:\n",
    "        i-=1\n",
    "print(x)"
   ]
  },
  {
   "cell_type": "code",
   "execution_count": 33,
   "metadata": {},
   "outputs": [
    {
     "name": "stdout",
     "output_type": "stream",
     "text": [
      "77\n",
      "Excellent\n"
     ]
    }
   ],
   "source": [
    "x=int(input())\n",
    "if x<=50 and x>=30:\n",
    "    print('Average')\n",
    "elif x<=60 and x>=51:\n",
    "    print('Good')\n",
    "elif x<=80 and x>=61:\n",
    "    print('Excellent')\n",
    "elif x<=100 and x>=81:\n",
    "    print('Outstanding')\n",
    "    "
   ]
  },
  {
   "cell_type": "code",
   "execution_count": 37,
   "metadata": {},
   "outputs": [
    {
     "name": "stdout",
     "output_type": "stream",
     "text": [
      "123\n",
      "1111011\n"
     ]
    }
   ],
   "source": [
    "n=int(input())\n",
    "print(bin(n).replace('0b',''))"
   ]
  },
  {
   "cell_type": "code",
   "execution_count": 49,
   "metadata": {},
   "outputs": [
    {
     "name": "stdout",
     "output_type": "stream",
     "text": [
      "5\n",
      "12 3 5 4 8 \n",
      "[12, 3, 5, 4, 8]\n",
      "[12, 12, 12, 12, 12, 3, 5, 4, 4, 8, 8, 8]\n"
     ]
    }
   ],
   "source": [
    "n=int(input())\n",
    "x=[int(i) for i in input().split()][:n]\n",
    "y=[]\n",
    "z=[]\n",
    "for i in x:\n",
    "    for j in range(1,i):\n",
    "        if i%j==0:\n",
    "            z.append(i)\n",
    "        else:\n",
    "            y.append(i)\n",
    "print(y)\n",
    "print(z)"
   ]
  },
  {
   "cell_type": "code",
   "execution_count": 2,
   "metadata": {},
   "outputs": [
    {
     "name": "stdout",
     "output_type": "stream",
     "text": [
      "5\n",
      "1 2 3 4 5\n",
      "2 4\n",
      "[1, 2, 5, 4, 3]\n"
     ]
    }
   ],
   "source": [
    "n=int(input())\n",
    "x=[int(i) for i in input().split()][:n]\n",
    "a,b=[int(i) for i in input().split()][:2]\n",
    "z=[]\n",
    "for i in range(a,b+1):\n",
    "    z.append(x[i])\n",
    "z.reverse()\n",
    "print(x[:a]+z)"
   ]
  },
  {
   "cell_type": "code",
   "execution_count": null,
   "metadata": {},
   "outputs": [],
   "source": [
    "a,b=input().split(' ')\n",
    "for i in range(int(a)):\n",
    "    x=[int(i) for i in input().split()][:int(b)]\n"
   ]
  },
  {
   "cell_type": "code",
   "execution_count": 9,
   "metadata": {},
   "outputs": [
    {
     "name": "stdout",
     "output_type": "stream",
     "text": [
      "2\n"
     ]
    }
   ],
   "source": [
    "a=[1,3,1,4,5,6,3,2]\n",
    "y=set()\n",
    "for x in a:\n",
    "    if a.count(x)>1:\n",
    "        y.add(x)\n",
    "print(len(y))      "
   ]
  },
  {
   "cell_type": "code",
   "execution_count": 2,
   "metadata": {},
   "outputs": [
    {
     "name": "stdout",
     "output_type": "stream",
     "text": [
      "5\n",
      "15 26 13 7 45\n",
      "71\n"
     ]
    }
   ],
   "source": [
    "n=int(input())\n",
    "y=[int(i) for i in input().split()][:n]\n",
    "y.sort()\n",
    "print(y[-1]+y[-2])"
   ]
  },
  {
   "cell_type": "code",
   "execution_count": 18,
   "metadata": {},
   "outputs": [
    {
     "name": "stdout",
     "output_type": "stream",
     "text": [
      "245567\n",
      "354476"
     ]
    }
   ],
   "source": [
    "x=int(input())\n",
    "u=[]\n",
    "for i in str(x):\n",
    "    u.append(int(i))\n",
    "a=[]\n",
    "for i in u:\n",
    "    if i%2==0:\n",
    "        a.append(i+1)\n",
    "    else:\n",
    "        a.append(i-1)\n",
    "for i in a:\n",
    "    print(i,end=\"\")"
   ]
  },
  {
   "cell_type": "code",
   "execution_count": 28,
   "metadata": {},
   "outputs": [
    {
     "name": "stdout",
     "output_type": "stream",
     "text": [
      "7\n",
      "2323555\n",
      "5\n",
      "2\n",
      "3\n"
     ]
    }
   ],
   "source": [
    "n=int(input())\n",
    "x=[int(i) for i in input()][:n]\n",
    "f={}\n",
    "for i in x:\n",
    "    if i in f:\n",
    "        f[i]+=1\n",
    "    else:\n",
    "        f[i]=1\n",
    "res=max(f,key=f.get)\n",
    "print(res)\n",
    "res2=min(f,key=f.get)\n",
    "print(res2)\n",
    "print(abs(int(res)-int(res2)))"
   ]
  },
  {
   "cell_type": "code",
   "execution_count": 31,
   "metadata": {},
   "outputs": [
    {
     "name": "stdout",
     "output_type": "stream",
     "text": [
      "6\n",
      "90 14 89 24 643 78\n",
      "643 14\n",
      "90 24\n",
      "89 78\n",
      "78 89\n",
      "24 90\n",
      "14 643\n"
     ]
    }
   ],
   "source": [
    "x=int(input())\n",
    "y=[int(i) for i in input().split()][:x]\n",
    "y.sort()\n",
    "for i in range(x):\n",
    "    if y[i]==y[-1-i]:\n",
    "        print(y[i],0)\n",
    "        break\n",
    "    else:\n",
    "        print(y[-1-i],y[i])"
   ]
  },
  {
   "cell_type": "code",
   "execution_count": 3,
   "metadata": {},
   "outputs": [
    {
     "name": "stdout",
     "output_type": "stream",
     "text": [
      "12\n",
      "5\n"
     ]
    }
   ],
   "source": [
    "n=int(input())\n",
    "l=[]\n",
    "while n!=0:\n",
    "    if n%2==0:\n",
    "        n=n//2\n",
    "        l.append(n)\n",
    "    else:\n",
    "        n=n-1\n",
    "        l.append(n)\n",
    "print(len(l))"
   ]
  },
  {
   "cell_type": "code",
   "execution_count": 11,
   "metadata": {},
   "outputs": [
    {
     "name": "stdout",
     "output_type": "stream",
     "text": [
      "7\n",
      "2 3 4 1 5 6 7\n",
      "[3, 4, 5, 6, 7]\n",
      "2 1 "
     ]
    }
   ],
   "source": [
    "n=int(input())\n",
    "x=[int(i) for i in input().split()][:n]\n",
    "temp=x[0]\n",
    "a=[]\n",
    "for i in range(n):\n",
    "    if x[i]>temp:\n",
    "        temp=x[i]\n",
    "        a.append(temp)\n",
    "for i in range(n):\n",
    "    if x[i]<a[0]:\n",
    "        print(i,end=\" \")"
   ]
  },
  {
   "cell_type": "code",
   "execution_count": 13,
   "metadata": {},
   "outputs": [
    {
     "name": "stdout",
     "output_type": "stream",
     "text": [
      "5\n",
      "3 2 4 6 5\n",
      "2 4 6 5 "
     ]
    }
   ],
   "source": [
    "n=int(input())\n",
    "arr=list(map(int,input().split()))\n",
    "l=arr[0]\n",
    "for i in range(n):\n",
    "    if arr[i]<temp:\n",
    "        print(arr[i],end=\" \")\n",
    "        l=arr[i]"
   ]
  },
  {
   "cell_type": "code",
   "execution_count": 4,
   "metadata": {},
   "outputs": [
    {
     "name": "stdout",
     "output_type": "stream",
     "text": [
      "15\n",
      "hi laha\n"
     ]
    }
   ],
   "source": [
    "def x(dt,*args):\n",
    "    if dt=='int':\n",
    "        answer=0\n",
    "    if dt=='str':\n",
    "        answer=''\n",
    "    for i in args:\n",
    "        answer=answer+i\n",
    "    print(answer)\n",
    "x('int',7,8)\n",
    "x('str','hi',' laha')"
   ]
  },
  {
   "cell_type": "code",
   "execution_count": 3,
   "metadata": {},
   "outputs": [
    {
     "name": "stdout",
     "output_type": "stream",
     "text": [
      "1234\n",
      "0325"
     ]
    }
   ],
   "source": [
    "x=int(input())\n",
    "y=[]\n",
    "for i in str(x):\n",
    "    y.append(int(i))\n",
    "a=[]\n",
    "for i in y:\n",
    "    if i%2==0:\n",
    "        a.append(i+1)\n",
    "    else:\n",
    "        a.append(i-1)\n",
    "for i in a:\n",
    "    print(i,end=\"\")"
   ]
  },
  {
   "cell_type": "code",
   "execution_count": 1,
   "metadata": {},
   "outputs": [
    {
     "name": "stdout",
     "output_type": "stream",
     "text": [
      "5\n",
      "4\n",
      "25 26 54 81 48\n",
      "6\n"
     ]
    }
   ],
   "source": [
    "n=int(input())\n",
    "x=int(input())\n",
    "a=[int(i) for i in input().split()][:n]\n",
    "y=[]\n",
    "for i in a:\n",
    "    b=i%x\n",
    "    y.append(b)\n",
    "s=0\n",
    "for i in y:\n",
    "    s+=i\n",
    "print(s)"
   ]
  },
  {
   "cell_type": "code",
   "execution_count": 13,
   "metadata": {},
   "outputs": [
    {
     "name": "stdout",
     "output_type": "stream",
     "text": [
      "n:20\n",
      "2432902008176640000\n"
     ]
    }
   ],
   "source": [
    "def f(x):\n",
    "    if x==0:\n",
    "        return 1\n",
    "    return x*f(x-1)\n",
    "x=int(input('n:'))\n",
    "print(f(x))"
   ]
  },
  {
   "cell_type": "code",
   "execution_count": 14,
   "metadata": {},
   "outputs": [
    {
     "name": "stdout",
     "output_type": "stream",
     "text": [
      "str:qwerty\n",
      "114.00\n"
     ]
    }
   ],
   "source": [
    "x=[i for i in input('str:')]\n",
    "n=len(x)\n",
    "s=0\n",
    "for i in x:\n",
    "    s+=ord(i)\n",
    "print(\"%.2f\"%(s/n))"
   ]
  },
  {
   "cell_type": "code",
   "execution_count": 22,
   "metadata": {},
   "outputs": [
    {
     "name": "stdout",
     "output_type": "stream",
     "text": [
      "6\n",
      "source\n",
      "109.50\n"
     ]
    }
   ],
   "source": [
    "def Average(str):\n",
    "    n=len(str)\n",
    "    s=0\n",
    "    for i in str:\n",
    "        s+=ord(i)\n",
    "    print(\"%.2f\"%(s/n))\n",
    "n=int(input())\n",
    "str=[i for i in input()][:n]\n",
    "res=Average(str)"
   ]
  },
  {
   "cell_type": "code",
   "execution_count": 3,
   "metadata": {},
   "outputs": [
    {
     "name": "stdout",
     "output_type": "stream",
     "text": [
      "wow\n",
      "you inputted a strong string.\n"
     ]
    }
   ],
   "source": [
    "str=input()\n",
    "if str==str[::-1]:\n",
    "    print('you inputted a strong string.')\n",
    "else:\n",
    "    print('you inputted a weak string.')"
   ]
  },
  {
   "cell_type": "code",
   "execution_count": 2,
   "metadata": {},
   "outputs": [
    {
     "name": "stdout",
     "output_type": "stream",
     "text": [
      "1\n",
      "12\n",
      "123\n",
      "1234\n",
      "12345\n"
     ]
    }
   ],
   "source": [
    "for i in range(1,6):\n",
    "    for j in range(1,i+1):\n",
    "        print(j,end=\"\")\n",
    "    print()"
   ]
  },
  {
   "cell_type": "code",
   "execution_count": 11,
   "metadata": {},
   "outputs": [
    {
     "name": "stdout",
     "output_type": "stream",
     "text": [
      "12345\n",
      "1234\n",
      "123\n",
      "12\n",
      "1\n"
     ]
    }
   ],
   "source": [
    "for i in range(5,0,-1):\n",
    "    for j in range(1,i+1):\n",
    "        print(j,end=\"\")\n",
    "    print()"
   ]
  },
  {
   "cell_type": "code",
   "execution_count": 12,
   "metadata": {},
   "outputs": [
    {
     "name": "stdout",
     "output_type": "stream",
     "text": [
      "STR\n"
     ]
    }
   ],
   "source": [
    "s='str'\n",
    "print(s.upper())"
   ]
  },
  {
   "cell_type": "code",
   "execution_count": 18,
   "metadata": {},
   "outputs": [
    {
     "name": "stdout",
     "output_type": "stream",
     "text": [
      "you r how hai "
     ]
    }
   ],
   "source": [
    "s='hai how r you'\n",
    "b=s.split()\n",
    "c=b[::-1]\n",
    "for i in c:\n",
    "    print(i,end=\" \")"
   ]
  },
  {
   "cell_type": "code",
   "execution_count": 25,
   "metadata": {},
   "outputs": [
    {
     "name": "stdout",
     "output_type": "stream",
     "text": [
      "0\n",
      "1\n",
      "2\n",
      "3\n"
     ]
    }
   ],
   "source": [
    "for i in range(6):\n",
    "    if i>3:\n",
    "        break\n",
    "    print(i)"
   ]
  },
  {
   "cell_type": "code",
   "execution_count": 27,
   "metadata": {},
   "outputs": [
    {
     "name": "stdout",
     "output_type": "stream",
     "text": [
      "73\n"
     ]
    }
   ],
   "source": [
    "a='I'\n",
    "print(ord(a))"
   ]
  },
  {
   "cell_type": "code",
   "execution_count": 10,
   "metadata": {},
   "outputs": [
    {
     "name": "stdout",
     "output_type": "stream",
     "text": [
      "20\n",
      "[1, 3, 5, 7, 9, 11, 13, 15, 17, 19]\n"
     ]
    }
   ],
   "source": [
    "n=int(input())\n",
    "print([i for i in range(1,n+1) if i%2==1])"
   ]
  },
  {
   "cell_type": "code",
   "execution_count": 1,
   "metadata": {},
   "outputs": [
    {
     "name": "stdout",
     "output_type": "stream",
     "text": [
      "Lahari\n"
     ]
    }
   ],
   "source": [
    "n='lahari'\n",
    "print(n.capitalize())"
   ]
  },
  {
   "cell_type": "code",
   "execution_count": 4,
   "metadata": {},
   "outputs": [
    {
     "name": "stdout",
     "output_type": "stream",
     "text": [
      "False\n"
     ]
    }
   ],
   "source": [
    "x=[]\n",
    "print(bool(x))"
   ]
  },
  {
   "cell_type": "code",
   "execution_count": 6,
   "metadata": {},
   "outputs": [
    {
     "name": "stdout",
     "output_type": "stream",
     "text": [
      "193\n"
     ]
    }
   ],
   "source": [
    "from functools import reduce\n",
    "l=[5,8,10,20,50,100]\n",
    "x=reduce(lambda a,b:a+b,l)\n",
    "print(x)"
   ]
  },
  {
   "cell_type": "code",
   "execution_count": 11,
   "metadata": {},
   "outputs": [
    {
     "name": "stdout",
     "output_type": "stream",
     "text": [
      "0 \n",
      "0 1 \n",
      "0 1 2 \n",
      "0 1 2 3 \n",
      "0 1 2 3 4 \n"
     ]
    }
   ],
   "source": [
    "for i in range(1,6):\n",
    "    for j in range(0,i):\n",
    "        print(j,end=\" \")\n",
    "    print()"
   ]
  },
  {
   "cell_type": "code",
   "execution_count": 12,
   "metadata": {},
   "outputs": [
    {
     "name": "stdout",
     "output_type": "stream",
     "text": [
      "1 \n",
      "2 2 \n",
      "3 3 3 \n",
      "4 4 4 4 \n",
      "5 5 5 5 5 \n"
     ]
    }
   ],
   "source": [
    "for i in range(1,6):\n",
    "    for j in range(1,i+1):\n",
    "        print(i,end=\" \")\n",
    "    print()"
   ]
  },
  {
   "cell_type": "code",
   "execution_count": 13,
   "metadata": {},
   "outputs": [
    {
     "name": "stdout",
     "output_type": "stream",
     "text": [
      "# \n",
      "# # \n",
      "# # # \n",
      "# # # # \n",
      "# # # # # \n"
     ]
    }
   ],
   "source": [
    "for i in range(1,6):\n",
    "    for j in range(0,i):\n",
    "        print('#',end=\" \")\n",
    "    print()"
   ]
  },
  {
   "cell_type": "code",
   "execution_count": 14,
   "metadata": {},
   "outputs": [
    {
     "name": "stdout",
     "output_type": "stream",
     "text": [
      "(1, 'hello')\n",
      "{'name': 'djfj', 'age': '20'}\n"
     ]
    }
   ],
   "source": [
    "def f(*args,**kwargs):\n",
    "    print(args)\n",
    "    print(kwargs)\n",
    "f(1,'hello',name='djfj',age='20')"
   ]
  },
  {
   "cell_type": "code",
   "execution_count": 3,
   "metadata": {},
   "outputs": [
    {
     "name": "stdout",
     "output_type": "stream",
     "text": [
      "6\n",
      "4\n",
      "1\n",
      "2\n",
      "4\n",
      "6\n",
      "5\n",
      "3\n",
      "18\n"
     ]
    }
   ],
   "source": [
    "N=int(input())\n",
    "Y=int(input())\n",
    "a=[]\n",
    "for i in range(N):\n",
    "    a.append(int(input()))\n",
    "s=0\n",
    "for i in range(N):\n",
    "    if i==0 or i==N-1:\n",
    "        s+=a[i]\n",
    "    else:\n",
    "        if a[i]<min(a[i],Y):\n",
    "            s+=a[i]\n",
    "        else:\n",
    "            s+=min(a[i],Y)\n",
    "print(s)"
   ]
  },
  {
   "cell_type": "code",
   "execution_count": 6,
   "metadata": {},
   "outputs": [
    {
     "name": "stdout",
     "output_type": "stream",
     "text": [
      "* \n",
      "* * \n",
      "* * * \n",
      "* * * * \n",
      "* * * * * \n"
     ]
    }
   ],
   "source": [
    "for i in range(5):\n",
    "    for j in range(i+1):\n",
    "        print('*',end=\" \")\n",
    "    print()"
   ]
  },
  {
   "cell_type": "code",
   "execution_count": 13,
   "metadata": {},
   "outputs": [
    {
     "name": "stdout",
     "output_type": "stream",
     "text": [
      "* * * * * \n",
      "* * * * \n",
      "* * * \n",
      "* * \n",
      "* \n"
     ]
    }
   ],
   "source": [
    "for i in range(5):\n",
    "    for j in range(i,5):\n",
    "        print('*',end=\" \")\n",
    "    print()"
   ]
  },
  {
   "cell_type": "code",
   "execution_count": 11,
   "metadata": {},
   "outputs": [
    {
     "name": "stdout",
     "output_type": "stream",
     "text": [
      "  * \n",
      "  *   * \n",
      "  *   *   * \n",
      "  *   *   *   * \n",
      "  *   *   *   *   * \n"
     ]
    }
   ],
   "source": [
    "for i in range(5):\n",
    "    for j in range(i+1):\n",
    "        print(' ',end=\" \")\n",
    "        print('*',end=\" \")\n",
    "    print()"
   ]
  },
  {
   "cell_type": "code",
   "execution_count": 14,
   "metadata": {},
   "outputs": [
    {
     "name": "stdout",
     "output_type": "stream",
     "text": [
      "1 \n",
      "2 2 \n",
      "3 3 3 \n",
      "4 4 4 4 \n",
      "5 5 5 5 5 \n"
     ]
    }
   ],
   "source": [
    "for i in range(1,6):\n",
    "    for j in range(1,i+1):\n",
    "        print(i,end=\" \")\n",
    "    print()"
   ]
  },
  {
   "cell_type": "code",
   "execution_count": 16,
   "metadata": {},
   "outputs": [
    {
     "name": "stdout",
     "output_type": "stream",
     "text": [
      "1 1 1 1 1 \n",
      "2 2 2 2 \n",
      "3 3 3 \n",
      "4 4 \n",
      "5 \n"
     ]
    }
   ],
   "source": [
    "for i in range(1,6):\n",
    "    for j in range(i,6):\n",
    "        print(i,end=\" \")\n",
    "    print()"
   ]
  },
  {
   "cell_type": "code",
   "execution_count": 18,
   "metadata": {},
   "outputs": [
    {
     "name": "stdout",
     "output_type": "stream",
     "text": [
      "1 \n",
      "1 2 \n",
      "1 2 3 \n",
      "1 2 3 4 \n",
      "1 2 3 4 5 \n"
     ]
    }
   ],
   "source": [
    "for i in range(1,6):\n",
    "    for j in range(1,i+1):\n",
    "        print(j,end=\" \")\n",
    "    print()"
   ]
  },
  {
   "cell_type": "code",
   "execution_count": 20,
   "metadata": {},
   "outputs": [
    {
     "name": "stdout",
     "output_type": "stream",
     "text": [
      "5 5 5 5 5 \n",
      "4 4 4 4 \n",
      "3 3 3 \n",
      "2 2 \n",
      "1 \n"
     ]
    }
   ],
   "source": [
    "for i in range(5,0,-1):\n",
    "    for j in range(i):\n",
    "        print(i,end=\" \")\n",
    "    print()"
   ]
  },
  {
   "cell_type": "code",
   "execution_count": 21,
   "metadata": {},
   "outputs": [
    {
     "name": "stdout",
     "output_type": "stream",
     "text": [
      "5 5 5 5 5 \n",
      "5 5 5 5 \n",
      "5 5 5 \n",
      "5 5 \n",
      "5 \n"
     ]
    }
   ],
   "source": [
    "for i in range(5,0,-1):\n",
    "    for j in range(i):\n",
    "        print('5',end=\" \")\n",
    "    print()"
   ]
  },
  {
   "cell_type": "code",
   "execution_count": 24,
   "metadata": {},
   "outputs": [
    {
     "name": "stdout",
     "output_type": "stream",
     "text": [
      "1 \n",
      "2 1 \n",
      "3 2 1 \n",
      "4 3 2 1 \n",
      "5 4 3 2 1 \n"
     ]
    }
   ],
   "source": [
    "for i in range(1,6):\n",
    "    for j in range(i,0,-1):\n",
    "        print(j,end=\" \")\n",
    "    print()"
   ]
  },
  {
   "cell_type": "code",
   "execution_count": 25,
   "metadata": {},
   "outputs": [
    {
     "name": "stdout",
     "output_type": "stream",
     "text": [
      "0 1 2 3 4 5 \n",
      "0 1 2 3 4 \n",
      "0 1 2 3 \n",
      "0 1 2 \n",
      "0 1 \n",
      "0 \n",
      "\n"
     ]
    }
   ],
   "source": [
    "for i in range(6,-1,-1):\n",
    "    for j in range(i):\n",
    "        print(j,end=\" \")\n",
    "    print()"
   ]
  },
  {
   "cell_type": "code",
   "execution_count": 26,
   "metadata": {},
   "outputs": [
    {
     "name": "stdout",
     "output_type": "stream",
     "text": [
      "\n",
      "1 \n",
      "1 2 1 \n",
      "1 2 3 2 1 \n",
      "1 2 3 4 3 2 1 \n",
      "1 2 3 4 5 4 3 2 1 \n"
     ]
    }
   ],
   "source": [
    "for i in range(6):\n",
    "    for j in range(1,i+1):\n",
    "        print(j,end=\" \")\n",
    "    for j in range(i-1,0,-1):\n",
    "        print(j,end=\" \")\n",
    "    print()"
   ]
  },
  {
   "cell_type": "code",
   "execution_count": 27,
   "metadata": {},
   "outputs": [
    {
     "name": "stdout",
     "output_type": "stream",
     "text": [
      "5 4 3 2 1 1 2 3 4 5 \n",
      "4 3 2 1 1 2 3 4 \n",
      "3 2 1 1 2 3 \n",
      "2 1 1 2 \n",
      "1 1 \n"
     ]
    }
   ],
   "source": [
    "for i in range(5,0,-1):\n",
    "    for j in range(i,0,-1):\n",
    "        print(j,end=\" \")\n",
    "    for j in range(1,i+1):\n",
    "        print(j,end=\" \")\n",
    "    print()"
   ]
  },
  {
   "cell_type": "code",
   "execution_count": 36,
   "metadata": {},
   "outputs": [
    {
     "name": "stdout",
     "output_type": "stream",
     "text": [
      "10 \n",
      "10 \n",
      "10 8 \n",
      "10 8 \n",
      "10 8 6 \n",
      "10 8 6 \n",
      "10 8 6 4 \n",
      "10 8 6 4 \n",
      "10 8 6 4 2 \n",
      "10 8 6 4 2 \n",
      "10 8 6 4 2 0 \n"
     ]
    }
   ],
   "source": [
    "for i in range(11,0,-1):\n",
    "    for j in range(11,i-2,-1):\n",
    "        if j%2==0:\n",
    "            print(j,end=\" \")\n",
    "    print()"
   ]
  },
  {
   "cell_type": "code",
   "execution_count": 38,
   "metadata": {},
   "outputs": [
    {
     "name": "stdout",
     "output_type": "stream",
     "text": [
      "* * * * * \n",
      "* * * * \n",
      "* * * \n",
      "* * \n",
      "* \n"
     ]
    }
   ],
   "source": [
    "for i in range(5,0,-1):\n",
    "    for j in range(0,i):\n",
    "        print('*',end=\" \")\n",
    "    print()"
   ]
  },
  {
   "cell_type": "code",
   "execution_count": 1,
   "metadata": {},
   "outputs": [
    {
     "name": "stdout",
     "output_type": "stream",
     "text": [
      "laak\n"
     ]
    }
   ],
   "source": [
    "names=['laak','dfsdf','fdghb']\n",
    "x,y,z=names\n",
    "print(x)"
   ]
  },
  {
   "cell_type": "code",
   "execution_count": 2,
   "metadata": {},
   "outputs": [
    {
     "name": "stdout",
     "output_type": "stream",
     "text": [
      "(1, 2, 3)\n"
     ]
    }
   ],
   "source": [
    "a=1,2,3\n",
    "print(a)"
   ]
  },
  {
   "cell_type": "code",
   "execution_count": 1,
   "metadata": {},
   "outputs": [
    {
     "name": "stdout",
     "output_type": "stream",
     "text": [
      "2\n",
      "0b10\n"
     ]
    }
   ],
   "source": [
    "n=int(input())\n",
    "print(bin(n))"
   ]
  },
  {
   "cell_type": "code",
   "execution_count": 7,
   "metadata": {},
   "outputs": [
    {
     "name": "stdout",
     "output_type": "stream",
     "text": [
      "1010\n"
     ]
    }
   ],
   "source": [
    "n=int(input())\n",
    "x='0b'+str(n)"
   ]
  },
  {
   "cell_type": "code",
   "execution_count": 8,
   "metadata": {},
   "outputs": [
    {
     "data": {
      "text/plain": [
       "3"
      ]
     },
     "execution_count": 8,
     "metadata": {},
     "output_type": "execute_result"
    }
   ],
   "source": [
    "0b11"
   ]
  },
  {
   "cell_type": "code",
   "execution_count": 10,
   "metadata": {},
   "outputs": [
    {
     "name": "stdout",
     "output_type": "stream",
     "text": [
      "0b1010\n",
      "10\n"
     ]
    }
   ],
   "source": [
    "print(x)\n",
    "print(0b1010)"
   ]
  },
  {
   "cell_type": "code",
   "execution_count": 3,
   "metadata": {},
   "outputs": [
    {
     "name": "stdout",
     "output_type": "stream",
     "text": [
      "6\n"
     ]
    }
   ],
   "source": [
    "def f(n):\n",
    "    if n>0:\n",
    "        res=n+f(n-1)\n",
    "    else:\n",
    "        return 0\n",
    "    return res\n",
    "print(f(3))"
   ]
  },
  {
   "cell_type": "code",
   "execution_count": 4,
   "metadata": {},
   "outputs": [
    {
     "name": "stdout",
     "output_type": "stream",
     "text": [
      "0\n",
      "1\n",
      "1\n",
      "2\n",
      "3\n",
      "5\n"
     ]
    }
   ],
   "source": [
    "def f(n):\n",
    "    a=0\n",
    "    b=1\n",
    "    if n==1:\n",
    "        print(a)\n",
    "    else:\n",
    "        print(a)\n",
    "        print(b)\n",
    "        for i in range(2,n):\n",
    "            c=a+b\n",
    "            a=b\n",
    "            b=c\n",
    "            print(c)\n",
    "f(6)"
   ]
  },
  {
   "cell_type": "code",
   "execution_count": 5,
   "metadata": {},
   "outputs": [
    {
     "name": "stdout",
     "output_type": "stream",
     "text": [
      "24\n"
     ]
    }
   ],
   "source": [
    "def f(n):\n",
    "    if n==0:\n",
    "        return 1\n",
    "    else:\n",
    "        return n*f(n-1)\n",
    "print(f(4))"
   ]
  },
  {
   "cell_type": "code",
   "execution_count": 6,
   "metadata": {},
   "outputs": [
    {
     "name": "stdout",
     "output_type": "stream",
     "text": [
      "15\n"
     ]
    }
   ],
   "source": [
    "from functools import reduce\n",
    "nums=[1,2,3,4,5]\n",
    "x=reduce(lambda a,b:a+b,nums)\n",
    "print(x)"
   ]
  },
  {
   "cell_type": "code",
   "execution_count": 9,
   "metadata": {},
   "outputs": [
    {
     "name": "stdout",
     "output_type": "stream",
     "text": [
      "[2, 4]\n"
     ]
    }
   ],
   "source": [
    "nums=[1,2,3,4,5]\n",
    "x=list(filter(lambda n:n%2==0,nums))\n",
    "print(x)"
   ]
  },
  {
   "cell_type": "code",
   "execution_count": 15,
   "metadata": {},
   "outputs": [
    {
     "name": "stdout",
     "output_type": "stream",
     "text": [
      "[2, 4, 6, 8, 10]\n"
     ]
    }
   ],
   "source": [
    "nums=[1,2,3,4,5]\n",
    "num=list(map(lambda n:n*2,nums))\n",
    "print(num)"
   ]
  },
  {
   "cell_type": "code",
   "execution_count": 6,
   "metadata": {},
   "outputs": [
    {
     "name": "stdout",
     "output_type": "stream",
     "text": [
      "[8]\n",
      "-1\n"
     ]
    }
   ],
   "source": [
    "input2={8,8,8,8,8}\n",
    "s=list(set(input2))\n",
    "x=sorted(s)\n",
    "print(x)\n",
    "if len(x)==1:\n",
    "    print('-1')\n",
    "else:\n",
    "    print(x[-2])"
   ]
  },
  {
   "cell_type": "code",
   "execution_count": 5,
   "metadata": {},
   "outputs": [
    {
     "name": "stdout",
     "output_type": "stream",
     "text": [
      "0\n"
     ]
    }
   ],
   "source": [
    "x=input1.split()\n",
    "c=0\n",
    "for i in x:\n",
    "    if i==i[::-1]:\n",
    "        c+=1\n",
    "return c\n",
    "    "
   ]
  },
  {
   "cell_type": "code",
   "execution_count": 9,
   "metadata": {},
   "outputs": [
    {
     "name": "stdout",
     "output_type": "stream",
     "text": [
      "123456\n",
      "['1', '2', '3', '4', '5', '6']\n",
      "['2', '1', '3', '2', '4', '3', '5', '4', '6', '5']\n"
     ]
    }
   ],
   "source": [
    "n=int(input())\n",
    "l=[]\n",
    "for i in str(n):\n",
    "    l.append(i)\n",
    "print(l)\n",
    "b=[]\n",
    "if len(l)%2==0:\n",
    "    for i in range(1,len(l)):\n",
    "            b.append(l[i])\n",
    "            b.append(l[i-1])\n",
    "print(b)"
   ]
  },
  {
   "cell_type": "code",
   "execution_count": 3,
   "metadata": {},
   "outputs": [
    {
     "name": "stdout",
     "output_type": "stream",
     "text": [
      "8 1 7 2 4 3 "
     ]
    }
   ],
   "source": [
    "l=[1,4,3,2,7,8]\n",
    "for i in range(len(l)):\n",
    "    if len(l)!=0:\n",
    "        print(max(l),end=\" \")\n",
    "        l.remove(max(l))\n",
    "        print(min(l),end=\" \")\n",
    "        l.remove(min(l))"
   ]
  },
  {
   "cell_type": "code",
   "execution_count": 1,
   "metadata": {},
   "outputs": [
    {
     "name": "stdout",
     "output_type": "stream",
     "text": [
      "b\n"
     ]
    }
   ],
   "source": [
    "def characterAt(input1,input2):\n",
    "    expand = \"\"\n",
    "    freq = 0 \n",
    "    i = 0\n",
    "    while(i < len(input1)):\n",
    "        temp = \"\" \n",
    "        freq = 0 \n",
    "        while (i < len(input1) and ord(input1[i]) >= ord('a') and ord(input1[i]) <= ord('z')):\n",
    "            temp += input1[i]\n",
    "            i += 1\n",
    "        while (i < len(input1) and ord(input1[i]) >= ord('1') and ord(input1[i]) <= ord('9')):\n",
    "            freq = freq * 10 + ord(input1[i]) - ord('0')\n",
    "            i += 1\n",
    "        for j in range(1, freq + 1, 1):\n",
    "            expand += temp\n",
    "    if (freq == 0):\n",
    "        expand += temp\n",
    "    if len(expand)<input2:\n",
    "        return '-1'\n",
    "    else:\n",
    "        return expand[input2 - 1]\n",
    "print(characterAt('a3b2',4))"
   ]
  },
  {
   "cell_type": "code",
   "execution_count": 2,
   "metadata": {},
   "outputs": [
    {
     "name": "stdout",
     "output_type": "stream",
     "text": [
      "12\n"
     ]
    }
   ],
   "source": [
    "def f(input1):\n",
    "    if(input1<5):\n",
    "        return 0\n",
    "    count = 0\n",
    "    while(input1>=5):\n",
    "        input1=input1//5\n",
    "        count=count+input1\n",
    "    return count\n",
    "print(f(50))"
   ]
  },
  {
   "cell_type": "code",
   "execution_count": 11,
   "metadata": {},
   "outputs": [
    {
     "name": "stdout",
     "output_type": "stream",
     "text": [
      "9\n"
     ]
    }
   ],
   "source": [
    "def arrangements(input1):\n",
    "    if (input1== 1): \n",
    "        return 0\n",
    "    if (input1== 2): \n",
    "        return 1\n",
    "    return (input1 - 1) * (arrangements(cls,input1- 1) +arrangements(cls,input1 - 2))\n",
    "print(arrangements(4))"
   ]
  },
  {
   "cell_type": "code",
   "execution_count": 1,
   "metadata": {},
   "outputs": [
    {
     "name": "stdout",
     "output_type": "stream",
     "text": [
      "Count of Dearrangements is  44\n"
     ]
    }
   ],
   "source": [
    "def countDer(n):\n",
    "    if n == 1 or n == 2:\n",
    "        return n-1\n",
    "    a = 0\n",
    "    b = 1\n",
    "    for i in range(3, n + 1):\n",
    "        cur = (i-1)*(a+b)\n",
    "        a = b\n",
    "        b = cur\n",
    "    return b\n",
    "n = 5\n",
    "print(\"Count of Dearrangements is \", countDer(n))"
   ]
  },
  {
   "cell_type": "code",
   "execution_count": 6,
   "metadata": {},
   "outputs": [
    {
     "name": "stdout",
     "output_type": "stream",
     "text": [
      "0\n"
     ]
    }
   ],
   "source": [
    "def f(nums):\n",
    "    d={}\n",
    "    d[0]=-1\n",
    "    l=0\n",
    "    end=-1\n",
    "    total=0\n",
    "    for i in range(len(nums)):\n",
    "        total+= -1 if (nums[i]==0) else 1\n",
    "        if total in d:\n",
    "            if l<i-d.get(total):\n",
    "                l=i-d.get(total)\n",
    "                end=i\n",
    "        else:\n",
    "            d[total]=i\n",
    "    if end!=-1:\n",
    "        print(end)\n",
    "    else:\n",
    "        print('0')\n",
    "nums=[1,1,1,1]\n",
    "f(nums)"
   ]
  },
  {
   "cell_type": "code",
   "execution_count": 25,
   "metadata": {},
   "outputs": [
    {
     "ename": "SyntaxError",
     "evalue": "'break' outside loop (<ipython-input-25-6dd739c0b5fc>, line 5)",
     "output_type": "error",
     "traceback": [
      "\u001b[1;36m  File \u001b[1;32m\"<ipython-input-25-6dd739c0b5fc>\"\u001b[1;36m, line \u001b[1;32m5\u001b[0m\n\u001b[1;33m    break\u001b[0m\n\u001b[1;37m    ^\u001b[0m\n\u001b[1;31mSyntaxError\u001b[0m\u001b[1;31m:\u001b[0m 'break' outside loop\n"
     ]
    }
   ],
   "source": [
    "def getDividedstring(text,count):\n",
    "    s=len(text)\n",
    "    if s%count!=0:\n",
    "        print(\"Invalid Input\")\n",
    "\n",
    "    k=s//count\n",
    "    for i in range(0,s,k):\n",
    "        print(text[i:i+k])\n",
    "getDividedstring('a_simple_divide_string_ques',4)"
   ]
  },
  {
   "cell_type": "code",
   "execution_count": 3,
   "metadata": {},
   "outputs": [
    {
     "name": "stdout",
     "output_type": "stream",
     "text": [
      "a_si\n",
      "mple\n",
      "_div\n",
      "ide_\n",
      "stri\n",
      "ng_q\n",
      "uest\n"
     ]
    }
   ],
   "source": [
    "import textwrap\n",
    "x=textwrap.wrap('a_simple_divide_string_quest',4)\n",
    "for i in x:\n",
    "    print(i)"
   ]
  },
  {
   "cell_type": "code",
   "execution_count": 28,
   "metadata": {},
   "outputs": [
    {
     "name": "stdout",
     "output_type": "stream",
     "text": [
      "Invalid Input\n"
     ]
    }
   ],
   "source": [
    "def getDividedstring(text,count):\n",
    "    s=len(text)\n",
    "    if s%count!=0:\n",
    "        print(\"Invalid input\")\n",
    "        return \n",
    "    k=s//count\n",
    "    for i in range(0,s,k):\n",
    "        print(text[i:i+k])\n",
    "getDividedstring('a_simple_divide_string_ques',4)"
   ]
  },
  {
   "cell_type": "code",
   "execution_count": 1,
   "metadata": {},
   "outputs": [
    {
     "name": "stdout",
     "output_type": "stream",
     "text": [
      "97\n"
     ]
    }
   ],
   "source": [
    "print(ord('a'))"
   ]
  },
  {
   "cell_type": "code",
   "execution_count": 4,
   "metadata": {},
   "outputs": [
    {
     "name": "stdout",
     "output_type": "stream",
     "text": [
      "sara\n",
      "dtbt\n"
     ]
    }
   ],
   "source": [
    "def f(s):\n",
    "    for i in range(len(s)):\n",
    "        a=ord(s[i])\n",
    "        r=a-(26-(ord(s[i])-ord('a')))\n",
    "        m=r%26\n",
    "        s[i]=chr(m+ord('a'))\n",
    "    print(''.join(s))\n",
    "s=input()\n",
    "s=list(s)\n",
    "f(s)"
   ]
  },
  {
   "cell_type": "code",
   "execution_count": 9,
   "metadata": {},
   "outputs": [
    {
     "name": "stdout",
     "output_type": "stream",
     "text": [
      "****\n",
      " ***\n",
      "  **\n",
      "   *\n"
     ]
    }
   ],
   "source": [
    "for i in range(5):\n",
    "    if i==4:\n",
    "        break\n",
    "    for j in range(0,i):\n",
    "        print(\" \",end=\"\")\n",
    "    for j in range(i+1,5):\n",
    "        print(\"*\",end=\"\")\n",
    "    print()"
   ]
  },
  {
   "cell_type": "code",
   "execution_count": 1,
   "metadata": {},
   "outputs": [
    {
     "name": "stdout",
     "output_type": "stream",
     "text": [
      "{1, 2, 3, 4}\n",
      "[1, 2, 3, 4]\n",
      "3\n"
     ]
    }
   ],
   "source": [
    "a={1,2,2,3,4}\n",
    "print(a)\n",
    "a=list(a)\n",
    "print(a)\n",
    "print(a[2])"
   ]
  },
  {
   "cell_type": "code",
   "execution_count": 1,
   "metadata": {},
   "outputs": [
    {
     "name": "stdout",
     "output_type": "stream",
     "text": [
      "yes\n"
     ]
    }
   ],
   "source": [
    "s='aeas'\n",
    "s1='eaas'\n",
    "if sorted(s1)==sorted(s):\n",
    "    print('yes')\n"
   ]
  },
  {
   "cell_type": "code",
   "execution_count": 3,
   "metadata": {},
   "outputs": [
    {
     "name": "stdout",
     "output_type": "stream",
     "text": [
      "Number of ways = \n",
      "8\n"
     ]
    }
   ],
   "source": [
    "def fib(n):\n",
    "    if n <= 1:\n",
    "        return n\n",
    "    return fib(n-1) + fib(n-2)\n",
    " \n",
    "# Returns no. of ways to\n",
    "# reach sth stair\n",
    "def countWays(s):\n",
    "    return fib(s + 1)\n",
    " \n",
    "# Driver program\n",
    "s = 5\n",
    "print(\"Number of ways = \")\n",
    "print(countWays(s))"
   ]
  },
  {
   "cell_type": "code",
   "execution_count": 6,
   "metadata": {},
   "outputs": [
    {
     "name": "stdout",
     "output_type": "stream",
     "text": [
      "3\n"
     ]
    },
    {
     "ename": "KeyboardInterrupt",
     "evalue": "",
     "output_type": "error",
     "traceback": [
      "\u001b[1;31m---------------------------------------------------------------------------\u001b[0m",
      "\u001b[1;31mKeyboardInterrupt\u001b[0m                         Traceback (most recent call last)",
      "\u001b[1;32m<ipython-input-6-5c7dc92da92c>\u001b[0m in \u001b[0;36m<module>\u001b[1;34m\u001b[0m\n\u001b[0;32m     12\u001b[0m \u001b[1;32mfor\u001b[0m \u001b[0mx\u001b[0m \u001b[1;32min\u001b[0m \u001b[0mrange\u001b[0m\u001b[1;33m(\u001b[0m\u001b[1;36m1\u001b[0m\u001b[1;33m,\u001b[0m\u001b[0mm\u001b[0m\u001b[1;33m)\u001b[0m\u001b[1;33m:\u001b[0m\u001b[1;33m\u001b[0m\u001b[1;33m\u001b[0m\u001b[0m\n\u001b[0;32m     13\u001b[0m     \u001b[1;32mfor\u001b[0m \u001b[0my\u001b[0m \u001b[1;32min\u001b[0m \u001b[0mrange\u001b[0m\u001b[1;33m(\u001b[0m\u001b[1;36m2\u001b[0m\u001b[1;33m,\u001b[0m\u001b[0mx\u001b[0m\u001b[1;33m)\u001b[0m\u001b[1;33m:\u001b[0m\u001b[1;33m\u001b[0m\u001b[1;33m\u001b[0m\u001b[0m\n\u001b[1;32m---> 14\u001b[1;33m         \u001b[1;32mif\u001b[0m \u001b[0mx\u001b[0m\u001b[1;33m%\u001b[0m\u001b[0my\u001b[0m\u001b[1;33m==\u001b[0m\u001b[1;36m0\u001b[0m\u001b[1;33m:\u001b[0m\u001b[1;33m\u001b[0m\u001b[1;33m\u001b[0m\u001b[0m\n\u001b[0m\u001b[0;32m     15\u001b[0m             \u001b[1;32mbreak\u001b[0m\u001b[1;33m\u001b[0m\u001b[1;33m\u001b[0m\u001b[0m\n\u001b[0;32m     16\u001b[0m         \u001b[1;32melse\u001b[0m\u001b[1;33m:\u001b[0m\u001b[1;33m\u001b[0m\u001b[1;33m\u001b[0m\u001b[0m\n",
      "\u001b[1;31mKeyboardInterrupt\u001b[0m: "
     ]
    }
   ],
   "source": [
    "def countWays(n, arr):\n",
    "    if (n == 0):\n",
    "        return 1\n",
    "    no_ways = 0\n",
    "    for i in arr:\n",
    "        if (n - i >= 0):\n",
    "            no_ways = no_ways + countWays(n - i, arr)\n",
    "    return no_ways\n",
    "arr=[]\n",
    "n=int(input())\n",
    "m=1000000000\n",
    "for x in range(1,m):\n",
    "    for y in range(2,x):\n",
    "        if x%y==0:\n",
    "            break\n",
    "        else:\n",
    "            arr.append(x)\n",
    "    if len(arr)==n:\n",
    "        break\n",
    "print(arr)\n",
    "n=len(arr)\n",
    "print(countWays(n, arr))"
   ]
  },
  {
   "cell_type": "code",
   "execution_count": 9,
   "metadata": {},
   "outputs": [
    {
     "ename": "TypeError",
     "evalue": "'set' object is not subscriptable",
     "output_type": "error",
     "traceback": [
      "\u001b[1;31m---------------------------------------------------------------------------\u001b[0m",
      "\u001b[1;31mTypeError\u001b[0m                                 Traceback (most recent call last)",
      "\u001b[1;32m<ipython-input-9-e1251d2cecba>\u001b[0m in \u001b[0;36m<module>\u001b[1;34m\u001b[0m\n\u001b[0;32m      3\u001b[0m \u001b[1;32mfor\u001b[0m \u001b[0mi\u001b[0m \u001b[1;32min\u001b[0m \u001b[0mrange\u001b[0m\u001b[1;33m(\u001b[0m\u001b[0mlen\u001b[0m\u001b[1;33m(\u001b[0m\u001b[0mi2\u001b[0m\u001b[1;33m)\u001b[0m\u001b[1;33m)\u001b[0m\u001b[1;33m:\u001b[0m\u001b[1;33m\u001b[0m\u001b[1;33m\u001b[0m\u001b[0m\n\u001b[0;32m      4\u001b[0m     \u001b[1;32mfor\u001b[0m \u001b[0mj\u001b[0m \u001b[1;32min\u001b[0m \u001b[0mrange\u001b[0m\u001b[1;33m(\u001b[0m\u001b[0mi\u001b[0m\u001b[1;33m,\u001b[0m\u001b[0mlen\u001b[0m\u001b[1;33m(\u001b[0m\u001b[0mi2\u001b[0m\u001b[1;33m)\u001b[0m\u001b[1;33m-\u001b[0m\u001b[1;36m1\u001b[0m\u001b[1;33m)\u001b[0m\u001b[1;33m:\u001b[0m\u001b[1;33m\u001b[0m\u001b[1;33m\u001b[0m\u001b[0m\n\u001b[1;32m----> 5\u001b[1;33m         \u001b[1;32mif\u001b[0m \u001b[0mi2\u001b[0m\u001b[1;33m[\u001b[0m\u001b[0mi\u001b[0m\u001b[1;33m]\u001b[0m\u001b[1;33m<\u001b[0m\u001b[0mi2\u001b[0m\u001b[1;33m[\u001b[0m\u001b[0mj\u001b[0m\u001b[1;33m]\u001b[0m\u001b[1;33m:\u001b[0m\u001b[1;33m\u001b[0m\u001b[1;33m\u001b[0m\u001b[0m\n\u001b[0m\u001b[0;32m      6\u001b[0m             \u001b[0mprint\u001b[0m\u001b[1;33m(\u001b[0m\u001b[0mi2\u001b[0m\u001b[1;33m[\u001b[0m\u001b[0mi\u001b[0m\u001b[1;33m]\u001b[0m\u001b[1;33m)\u001b[0m\u001b[1;33m\u001b[0m\u001b[1;33m\u001b[0m\u001b[0m\n\u001b[0;32m      7\u001b[0m \u001b[1;33m\u001b[0m\u001b[0m\n",
      "\u001b[1;31mTypeError\u001b[0m: 'set' object is not subscriptable"
     ]
    }
   ],
   "source": [
    "i1=5\n",
    "i2={0,4,5,4,1,5}\n",
    "for i in range(len(i2)):\n",
    "    for j in range(i,len(i2)-1):\n",
    "        if i2[i]<i2[j]:\n",
    "            print(i2[i])\n",
    "    "
   ]
  },
  {
   "cell_type": "code",
   "execution_count": 1,
   "metadata": {},
   "outputs": [
    {
     "name": "stdout",
     "output_type": "stream",
     "text": [
      "dict_keys(['pavan', 'lahari', 'thanu'])\n"
     ]
    }
   ],
   "source": [
    "a={'pavan':'oppo','lahari':'redmi','thanu':'redmix'}\n",
    "print(a.keys())"
   ]
  },
  {
   "cell_type": "code",
   "execution_count": 2,
   "metadata": {},
   "outputs": [
    {
     "name": "stdout",
     "output_type": "stream",
     "text": [
      "dict_values(['oppo', 'redmi', 'redmix'])\n"
     ]
    }
   ],
   "source": [
    "print(a.values())"
   ]
  },
  {
   "cell_type": "code",
   "execution_count": 3,
   "metadata": {},
   "outputs": [
    {
     "name": "stdout",
     "output_type": "stream",
     "text": [
      "dict_items([('pavan', 'oppo'), ('lahari', 'redmi'), ('thanu', 'redmix')])\n"
     ]
    }
   ],
   "source": [
    "print(a.items())"
   ]
  },
  {
   "cell_type": "code",
   "execution_count": 4,
   "metadata": {},
   "outputs": [
    {
     "name": "stdout",
     "output_type": "stream",
     "text": [
      "redmi\n"
     ]
    }
   ],
   "source": [
    "print(a['lahari'])"
   ]
  },
  {
   "cell_type": "code",
   "execution_count": 4,
   "metadata": {},
   "outputs": [
    {
     "name": "stdout",
     "output_type": "stream",
     "text": [
      "12\n"
     ]
    }
   ],
   "source": [
    "l=[1,2,3,4,5,6,7,8]\n",
    "n=len(l)\n",
    "x=14\n",
    "for i in range(n):\n",
    "    for j in range(i+1,n):\n",
    "        if l[i]+l[j]==x:\n",
    "            print(i+j)"
   ]
  },
  {
   "cell_type": "code",
   "execution_count": 7,
   "metadata": {},
   "outputs": [
    {
     "name": "stdout",
     "output_type": "stream",
     "text": [
      "31\n"
     ]
    }
   ],
   "source": [
    "a=1\n",
    "r=2\n",
    "n=5\n",
    "b=[]\n",
    "c=a\n",
    "for i in range(n):\n",
    "    b.append(c)\n",
    "    c=c*r\n",
    "return sum(b)"
   ]
  },
  {
   "cell_type": "code",
   "execution_count": 8,
   "metadata": {},
   "outputs": [
    {
     "name": "stdout",
     "output_type": "stream",
     "text": [
      "Slope = 1\n"
     ]
    }
   ],
   "source": [
    "def slopeOfNum(num, n):\n",
    "\tslope = 0\n",
    "\tfor i in range(1, n - 1) :\n",
    "\t\tif (num[i] > num[i - 1] and\n",
    "\t\t\tnum[i] > num[i + 1]):\n",
    "\t\t\tslope += 1\n",
    "\t\telif (num[i] < num[i - 1] and\n",
    "\t\t\tnum[i] < num[i + 1]):\n",
    "\t\t\tslope += 1\n",
    "\treturn slope\n",
    "if __name__ == \"__main__\":\n",
    "\tnum = \"1210\"\n",
    "\tn = len(num)\n",
    "\tprint(\"Slope =\", slopeOfNum(num, n))\n"
   ]
  },
  {
   "cell_type": "code",
   "execution_count": 2,
   "metadata": {},
   "outputs": [
    {
     "ename": "ModuleNotFoundError",
     "evalue": "No module named 'psyco'",
     "output_type": "error",
     "traceback": [
      "\u001b[1;31m---------------------------------------------------------------------------\u001b[0m",
      "\u001b[1;31mModuleNotFoundError\u001b[0m                       Traceback (most recent call last)",
      "\u001b[1;32m<ipython-input-2-fffbb3fb9e93>\u001b[0m in \u001b[0;36m<module>\u001b[1;34m\u001b[0m\n\u001b[0;32m      1\u001b[0m \u001b[1;32mfrom\u001b[0m \u001b[0mitertools\u001b[0m \u001b[1;32mimport\u001b[0m \u001b[0mpermutations\u001b[0m\u001b[1;33m\u001b[0m\u001b[1;33m\u001b[0m\u001b[0m\n\u001b[1;32m----> 2\u001b[1;33m \u001b[1;32mimport\u001b[0m \u001b[0mpsyco\u001b[0m\u001b[1;33m\u001b[0m\u001b[1;33m\u001b[0m\u001b[0m\n\u001b[0m\u001b[0;32m      3\u001b[0m \u001b[0mpsyco\u001b[0m\u001b[1;33m.\u001b[0m\u001b[0mfull\u001b[0m\u001b[1;33m(\u001b[0m\u001b[1;33m)\u001b[0m\u001b[1;33m\u001b[0m\u001b[1;33m\u001b[0m\u001b[0m\n\u001b[0;32m      4\u001b[0m \u001b[1;32mdef\u001b[0m \u001b[0mnextGreater\u001b[0m\u001b[1;33m(\u001b[0m\u001b[0minput1\u001b[0m\u001b[1;33m,\u001b[0m\u001b[0minput2\u001b[0m\u001b[1;33m)\u001b[0m\u001b[1;33m:\u001b[0m\u001b[1;33m\u001b[0m\u001b[1;33m\u001b[0m\u001b[0m\n\u001b[0;32m      5\u001b[0m         \u001b[0my\u001b[0m\u001b[1;33m=\u001b[0m\u001b[1;33m[\u001b[0m\u001b[1;34m''\u001b[0m\u001b[1;33m.\u001b[0m\u001b[0mjoin\u001b[0m\u001b[1;33m(\u001b[0m\u001b[0mp\u001b[0m\u001b[1;33m)\u001b[0m \u001b[1;32mfor\u001b[0m \u001b[0mp\u001b[0m \u001b[1;32min\u001b[0m \u001b[0mpermutations\u001b[0m\u001b[1;33m(\u001b[0m\u001b[0minput2\u001b[0m\u001b[1;33m)\u001b[0m\u001b[1;33m]\u001b[0m\u001b[1;33m\u001b[0m\u001b[1;33m\u001b[0m\u001b[0m\n",
      "\u001b[1;31mModuleNotFoundError\u001b[0m: No module named 'psyco'"
     ]
    }
   ],
   "source": [
    "from itertools import permutations\n",
    "import psyco\n",
    "psyco.full()\n",
    "def nextGreater(input1,input2):\n",
    "        y=[''.join(p) for p in permutations(input2)]\n",
    "        l=sorted(y)\n",
    "        for i in l:\n",
    "            if int(i)>int(input2):\n",
    "                print(i)\n",
    "                print(type(i))\n",
    "                break\n",
    "input2=input()\n",
    "input1=len(input2)\n",
    "nextGreater(input1,input2)"
   ]
  },
  {
   "cell_type": "code",
   "execution_count": 15,
   "metadata": {},
   "outputs": [
    {
     "name": "stdout",
     "output_type": "stream",
     "text": [
      "1 2\n",
      "3 4\n",
      "5 6\n",
      "['1 2', '3 4', '5 6']\n",
      "3\n",
      "5\n"
     ]
    }
   ],
   "source": [
    "def v(s):\n",
    "    x=[]\n",
    "    for i in s:\n",
    "        x.append(i.replace(' ',''))\n",
    "    b=[]\n",
    "    for i in s:\n",
    "        b.append(i.split())\n",
    "    s=[]\n",
    "    d=[]\n",
    "    for i in b:\n",
    "        s.append(i[0])\n",
    "        \n",
    "s=[]\n",
    "for i in range(3):\n",
    "    si=input()\n",
    "    s.append(si)\n",
    "print(s)\n",
    "print(len(s[1]))\n",
    "print(v(s))"
   ]
  },
  {
   "cell_type": "code",
   "execution_count": 22,
   "metadata": {},
   "outputs": [
    {
     "name": "stdout",
     "output_type": "stream",
     "text": [
      "10\n",
      "[20, 30, 10]\n"
     ]
    }
   ],
   "source": [
    "arr=[10,10,20,30,10]\n",
    "x=int(input())\n",
    "for i in arr:\n",
    "    if i==x:\n",
    "        arr.remove(i)\n",
    "print(arr)"
   ]
  },
  {
   "cell_type": "code",
   "execution_count": 23,
   "metadata": {},
   "outputs": [
    {
     "name": "stdout",
     "output_type": "stream",
     "text": [
      "10\n"
     ]
    },
    {
     "ename": "IndexError",
     "evalue": "list index out of range",
     "output_type": "error",
     "traceback": [
      "\u001b[1;31m---------------------------------------------------------------------------\u001b[0m",
      "\u001b[1;31mIndexError\u001b[0m                                Traceback (most recent call last)",
      "\u001b[1;32m<ipython-input-23-3b7f19932658>\u001b[0m in \u001b[0;36m<module>\u001b[1;34m\u001b[0m\n\u001b[0;32m      2\u001b[0m \u001b[0mx\u001b[0m\u001b[1;33m=\u001b[0m\u001b[0mint\u001b[0m\u001b[1;33m(\u001b[0m\u001b[0minput\u001b[0m\u001b[1;33m(\u001b[0m\u001b[1;33m)\u001b[0m\u001b[1;33m)\u001b[0m\u001b[1;33m\u001b[0m\u001b[1;33m\u001b[0m\u001b[0m\n\u001b[0;32m      3\u001b[0m \u001b[1;32mfor\u001b[0m \u001b[0mi\u001b[0m \u001b[1;32min\u001b[0m \u001b[0mrange\u001b[0m\u001b[1;33m(\u001b[0m\u001b[1;36m0\u001b[0m\u001b[1;33m,\u001b[0m\u001b[0mlen\u001b[0m\u001b[1;33m(\u001b[0m\u001b[0marr\u001b[0m\u001b[1;33m)\u001b[0m\u001b[1;33m)\u001b[0m\u001b[1;33m:\u001b[0m\u001b[1;33m\u001b[0m\u001b[1;33m\u001b[0m\u001b[0m\n\u001b[1;32m----> 4\u001b[1;33m     \u001b[1;32mif\u001b[0m \u001b[0marr\u001b[0m\u001b[1;33m[\u001b[0m\u001b[0mi\u001b[0m\u001b[1;33m]\u001b[0m\u001b[1;33m==\u001b[0m\u001b[0mx\u001b[0m\u001b[1;33m:\u001b[0m\u001b[1;33m\u001b[0m\u001b[1;33m\u001b[0m\u001b[0m\n\u001b[0m\u001b[0;32m      5\u001b[0m         \u001b[1;32mdel\u001b[0m \u001b[0marr\u001b[0m\u001b[1;33m[\u001b[0m\u001b[0mi\u001b[0m\u001b[1;33m]\u001b[0m\u001b[1;33m\u001b[0m\u001b[1;33m\u001b[0m\u001b[0m\n\u001b[0;32m      6\u001b[0m \u001b[0mprint\u001b[0m\u001b[1;33m(\u001b[0m\u001b[0marr\u001b[0m\u001b[1;33m)\u001b[0m\u001b[1;33m\u001b[0m\u001b[1;33m\u001b[0m\u001b[0m\n",
      "\u001b[1;31mIndexError\u001b[0m: list index out of range"
     ]
    }
   ],
   "source": [
    "arr=[10,10,20,30,10]\n",
    "x=int(input())\n",
    "for i in range(0,len(arr)):\n",
    "    if arr[i]==x:\n",
    "        del arr[i]\n",
    "print(arr)"
   ]
  },
  {
   "cell_type": "code",
   "execution_count": 28,
   "metadata": {},
   "outputs": [
    {
     "name": "stdout",
     "output_type": "stream",
     "text": [
      "5\n",
      "10 10 20 30 10\n",
      "10\n",
      "[20, 30]\n"
     ]
    }
   ],
   "source": [
    "n=int(input())\n",
    "arr=[int(i) for i in input().split()][:n] \n",
    "x=int(input())\n",
    "b=[]\n",
    "for i in arr:\n",
    "    if i!=x:\n",
    "        b.append(i)\n",
    "print(b)"
   ]
  },
  {
   "cell_type": "code",
   "execution_count": 20,
   "metadata": {},
   "outputs": [
    {
     "name": "stdout",
     "output_type": "stream",
     "text": [
      "[8, 4, 4, 2, 4]\n"
     ]
    }
   ],
   "source": [
    "arr=[9,8,5,4,4,2,4,1]\n",
    "x=5\n",
    "b=[]\n",
    "for i in arr:\n",
    "    if i%2==0:\n",
    "        b.append(i)\n",
    "    else:\n",
    "        continue\n",
    "print(b)"
   ]
  },
  {
   "cell_type": "code",
   "execution_count": 42,
   "metadata": {},
   "outputs": [
    {
     "name": "stdout",
     "output_type": "stream",
     "text": [
      "15\n",
      "SERIES:2,3,5,7,11,13\n",
      "SUM: 41\n"
     ]
    }
   ],
   "source": [
    "N=int(input())\n",
    "x=[]\n",
    "for i in range(N):\n",
    "    c=0\n",
    "    for j in range(1,i):\n",
    "        if i%j==0:\n",
    "            c+=1\n",
    "    if c==1:\n",
    "        x.append(i)\n",
    "print(\"SERIES:\",end=\"\")\n",
    "for i in range(0,len(x)-1):\n",
    "    print(x[i],end=\",\")\n",
    "print(x[-1])\n",
    "        \n",
    "s=0\n",
    "for i in x:\n",
    "    s+=i\n",
    "print(\"SUM:\",s)"
   ]
  },
  {
   "cell_type": "markdown",
   "metadata": {},
   "source": [
    "### "
   ]
  },
  {
   "cell_type": "code",
   "execution_count": 50,
   "metadata": {},
   "outputs": [
    {
     "name": "stdout",
     "output_type": "stream",
     "text": [
      "reverse the string\n",
      "string the reverse \n"
     ]
    }
   ],
   "source": [
    "i=input()\n",
    "x=list(i.split())\n",
    "x.reverse()\n",
    "p=''\n",
    "for i in x:\n",
    "    p+=i\n",
    "    p+=' '\n",
    "print(p)"
   ]
  },
  {
   "cell_type": "code",
   "execution_count": 5,
   "metadata": {},
   "outputs": [
    {
     "ename": "ImportError",
     "evalue": "cannot import name 'ImportDataGenerator' from 'tensorflow.keras.preprocessing.image' (C:\\Users\\lahari\\anaconda3\\lib\\site-packages\\keras\\api\\_v2\\keras\\preprocessing\\image\\__init__.py)",
     "output_type": "error",
     "traceback": [
      "\u001b[1;31m---------------------------------------------------------------------------\u001b[0m",
      "\u001b[1;31mImportError\u001b[0m                               Traceback (most recent call last)",
      "\u001b[1;32m<ipython-input-5-b06cf586a356>\u001b[0m in \u001b[0;36m<module>\u001b[1;34m\u001b[0m\n\u001b[1;32m----> 1\u001b[1;33m \u001b[1;32mfrom\u001b[0m \u001b[0mtensorflow\u001b[0m\u001b[1;33m.\u001b[0m\u001b[0mkeras\u001b[0m\u001b[1;33m.\u001b[0m\u001b[0mpreprocessing\u001b[0m\u001b[1;33m.\u001b[0m\u001b[0mimage\u001b[0m \u001b[1;32mimport\u001b[0m \u001b[0mImportDataGenerator\u001b[0m\u001b[1;33m\u001b[0m\u001b[1;33m\u001b[0m\u001b[0m\n\u001b[0m\u001b[0;32m      2\u001b[0m \u001b[1;32mfrom\u001b[0m \u001b[0mtensorflow\u001b[0m\u001b[1;33m.\u001b[0m\u001b[0mkeras\u001b[0m\u001b[1;33m.\u001b[0m\u001b[0mpreprocessing\u001b[0m \u001b[1;32mimport\u001b[0m \u001b[0mimage\u001b[0m\u001b[1;33m\u001b[0m\u001b[1;33m\u001b[0m\u001b[0m\n\u001b[0;32m      3\u001b[0m \u001b[1;32mimport\u001b[0m \u001b[0mtensorflow\u001b[0m \u001b[1;32mas\u001b[0m \u001b[0mtf\u001b[0m\u001b[1;33m\u001b[0m\u001b[1;33m\u001b[0m\u001b[0m\n\u001b[0;32m      4\u001b[0m \u001b[1;32mimport\u001b[0m \u001b[0mmatplotlib\u001b[0m\u001b[1;33m.\u001b[0m\u001b[0mpyplot\u001b[0m \u001b[1;32mas\u001b[0m \u001b[0mplt\u001b[0m\u001b[1;33m\u001b[0m\u001b[1;33m\u001b[0m\u001b[0m\n\u001b[0;32m      5\u001b[0m \u001b[1;32mimport\u001b[0m \u001b[0mos\u001b[0m\u001b[1;33m\u001b[0m\u001b[1;33m\u001b[0m\u001b[0m\n",
      "\u001b[1;31mImportError\u001b[0m: cannot import name 'ImportDataGenerator' from 'tensorflow.keras.preprocessing.image' (C:\\Users\\lahari\\anaconda3\\lib\\site-packages\\keras\\api\\_v2\\keras\\preprocessing\\image\\__init__.py)"
     ]
    }
   ],
   "source": [
    "from tensorflow.keras.preprocessing.image import ImportDataGenerator\n",
    "from tensorflow.keras.preprocessing import image\n",
    "import tensorflow as tf\n",
    "import matplotlib.pyplot as plt\n",
    "import os\n",
    "import numpy as np"
   ]
  },
  {
   "cell_type": "code",
   "execution_count": 3,
   "metadata": {},
   "outputs": [],
   "source": [
    "import keras as kr"
   ]
  },
  {
   "cell_type": "code",
   "execution_count": 4,
   "metadata": {},
   "outputs": [],
   "source": [
    "import tensorflow"
   ]
  },
  {
   "cell_type": "code",
   "execution_count": 3,
   "metadata": {},
   "outputs": [
    {
     "name": "stdout",
     "output_type": "stream",
     "text": [
      "9\n"
     ]
    }
   ],
   "source": [
    "def ad(a,b):\n",
    "    c=a+b\n",
    "    return c\n",
    "res=ad(4,5)\n",
    "print(res)"
   ]
  },
  {
   "cell_type": "code",
   "execution_count": 4,
   "metadata": {},
   "outputs": [
    {
     "name": "stdout",
     "output_type": "stream",
     "text": [
      "9\n"
     ]
    }
   ],
   "source": [
    "def ad(a,b):\n",
    "    c=a+b\n",
    "    print(c)\n",
    "ad(4,5)"
   ]
  },
  {
   "cell_type": "code",
   "execution_count": 5,
   "metadata": {},
   "outputs": [
    {
     "name": "stdout",
     "output_type": "stream",
     "text": [
      "9\n"
     ]
    }
   ],
   "source": [
    "def ad(a,b):\n",
    "    c=a+b\n",
    "    return c\n",
    "print(ad(4,5))"
   ]
  },
  {
   "cell_type": "code",
   "execution_count": 6,
   "metadata": {},
   "outputs": [
    {
     "data": {
      "text/plain": [
       "9"
      ]
     },
     "execution_count": 6,
     "metadata": {},
     "output_type": "execute_result"
    }
   ],
   "source": [
    "def ad(a,b):\n",
    "    c=a+b\n",
    "    return c\n",
    "ad(4,5)"
   ]
  },
  {
   "cell_type": "code",
   "execution_count": 1,
   "metadata": {},
   "outputs": [
    {
     "data": {
      "text/plain": [
       "3"
      ]
     },
     "execution_count": 1,
     "metadata": {},
     "output_type": "execute_result"
    }
   ],
   "source": [
    "def f(f,*args):\n",
    "    return f(*args)x"
   ]
  },
  {
   "cell_type": "code",
   "execution_count": 2,
   "metadata": {},
   "outputs": [
    {
     "ename": "SyntaxError",
     "evalue": "invalid syntax (<ipython-input-2-357fc6e44418>, line 2)",
     "output_type": "error",
     "traceback": [
      "\u001b[1;36m  File \u001b[1;32m\"<ipython-input-2-357fc6e44418>\"\u001b[1;36m, line \u001b[1;32m2\u001b[0m\n\u001b[1;33m    x:=1\u001b[0m\n\u001b[1;37m     ^\u001b[0m\n\u001b[1;31mSyntaxError\u001b[0m\u001b[1;31m:\u001b[0m invalid syntax\n"
     ]
    }
   ],
   "source": [
    "x=1\n",
    "x:=1"
   ]
  },
  {
   "cell_type": "code",
   "execution_count": 12,
   "metadata": {},
   "outputs": [
    {
     "name": "stdout",
     "output_type": "stream",
     "text": [
      "3\n",
      "1 2 3\n",
      "4 5 6\n",
      "7 8 9\n",
      "18\n"
     ]
    }
   ],
   "source": [
    "def octalWithoutOnes(mat,N):\n",
    "    l=[]\n",
    "    for i in range(N):\n",
    "        s=0\n",
    "        for j in range(N):\n",
    "            s=s+mat[j][i]\n",
    "        if '1' not in str(oct(s)):\n",
    "            l.append(s)\n",
    "    for i in sorted(l):\n",
    "        print(i)\n",
    "def main():\n",
    "    N=int(input())\n",
    "    mat=[]\n",
    "    for i in range(N):\n",
    "        s=list(map(int,input().split()))\n",
    "        mat.append(s)\n",
    "    octalWithoutOnes(mat,N)\n",
    "main()"
   ]
  },
  {
   "cell_type": "code",
   "execution_count": 2,
   "metadata": {},
   "outputs": [
    {
     "name": "stdout",
     "output_type": "stream",
     "text": [
      "4\n",
      "22 33 11 44\n",
      "55\n"
     ]
    }
   ],
   "source": [
    "s=[int(i) for i in input().split()][:int(sampleInput)]\n",
    "x=len(s)\n",
    "y=x//2\n",
    "a=0\n",
    "for i in range(y,x):\n",
    "    a=a+s[i]\n",
    "result=a\n",
    "    "
   ]
  },
  {
   "cell_type": "code",
   "execution_count": null,
   "metadata": {},
   "outputs": [],
   "source": [
    "n = int(input(\"Enter any number: \"))\n",
    "sum1 = 0\n",
    "for i in range(1, n):\n",
    "    if(n % i == 0):\n",
    "        sum1 = sum1 + i\n",
    "if (sum1 == n):\n",
    "    print(\"The number is a Perfect number!\")\n",
    "else:\n",
    "    print(\"The number is not a Perfect number!\")"
   ]
  },
  {
   "cell_type": "code",
   "execution_count": 3,
   "metadata": {},
   "outputs": [
    {
     "name": "stdout",
     "output_type": "stream",
     "text": [
      "E L\n"
     ]
    }
   ],
   "source": [
    "word='APPLE'\n",
    "print(word[-1]+\" \"+word[-2])"
   ]
  },
  {
   "cell_type": "code",
   "execution_count": 8,
   "metadata": {},
   "outputs": [
    {
     "name": "stdout",
     "output_type": "stream",
     "text": [
      "16\n"
     ]
    }
   ],
   "source": [
    "def doubnum(arr,n):\n",
    "    arr=sorted(arr)\n",
    "    for i in arr:\n",
    "        if i==b:\n",
    "            b=b*2\n",
    "    return b\n",
    "arr=[2,8,4,6,5]\n",
    "n=2\n",
    "print(doubnum(arr,n))"
   ]
  },
  {
   "cell_type": "code",
   "execution_count": 2,
   "metadata": {},
   "outputs": [
    {
     "name": "stdout",
     "output_type": "stream",
     "text": [
      "-1\n"
     ]
    }
   ],
   "source": [
    "def findMajority(arr, n):\n",
    "    maxCount = 0\n",
    "    index = -1 \n",
    "    for i in range(input1):\n",
    "        count = 0\n",
    "        for j in range(input1):\n",
    "            if(input2[i] == input2[j]):\n",
    "                count += 1\n",
    "        if(count > maxCount):\n",
    "            maxCount = count\n",
    "            index = i\n",
    "    if (maxCount > input1//2):\n",
    "        return input2[index]\n",
    "    else:\n",
    "        return -1\n",
    "arr=[1,2,1,2]\n",
    "n=len(arr)\n",
    "print(findMajority(arr,n))"
   ]
  },
  {
   "cell_type": "code",
   "execution_count": 1,
   "metadata": {},
   "outputs": [
    {
     "name": "stdout",
     "output_type": "stream",
     "text": [
      "20\n",
      "[2, 3, 5, 7, 11, 13, 17, 19]\n"
     ]
    }
   ],
   "source": [
    "l=int(input())\n",
    "x=[]\n",
    "for i in range(1,l):\n",
    "    c=0\n",
    "    for j in range(1,i):\n",
    "        if i%j==0:\n",
    "            c+=1\n",
    "    if c==1:\n",
    "        x.append(i)\n",
    "print(x)"
   ]
  },
  {
   "cell_type": "code",
   "execution_count": 2,
   "metadata": {},
   "outputs": [
    {
     "name": "stdout",
     "output_type": "stream",
     "text": [
      "0\n",
      "1\n",
      "1\n",
      "2\n",
      "3\n",
      "5\n"
     ]
    }
   ],
   "source": [
    "def f(n):\n",
    "    a=0\n",
    "    b=1\n",
    "    if n==1:\n",
    "        print(a)\n",
    "    else:\n",
    "        print(a)\n",
    "        print(b)\n",
    "        for i in range(2,n):\n",
    "            c=a+b\n",
    "            a=b\n",
    "            b=c\n",
    "            print(c)\n",
    "f(6)"
   ]
  },
  {
   "cell_type": "code",
   "execution_count": 3,
   "metadata": {},
   "outputs": [
    {
     "name": "stdout",
     "output_type": "stream",
     "text": [
      "5\n"
     ]
    },
    {
     "data": {
      "text/plain": [
       "120"
      ]
     },
     "execution_count": 3,
     "metadata": {},
     "output_type": "execute_result"
    }
   ],
   "source": [
    "def f(x):\n",
    "    if x==1:\n",
    "        return 1\n",
    "    return x*f(x-1)\n",
    "x=int(input())\n",
    "f(x)\n"
   ]
  },
  {
   "cell_type": "code",
   "execution_count": 1,
   "metadata": {},
   "outputs": [
    {
     "name": "stdout",
     "output_type": "stream",
     "text": [
      "10\n"
     ]
    }
   ],
   "source": [
    "x=lambda a:a+a\n",
    "b=x(5)\n",
    "print(b)"
   ]
  },
  {
   "cell_type": "code",
   "execution_count": 3,
   "metadata": {},
   "outputs": [
    {
     "name": "stdout",
     "output_type": "stream",
     "text": [
      "[2, 4, 6]\n"
     ]
    }
   ],
   "source": [
    "def x(n):\n",
    "    return n%2==0\n",
    "b=[1,2,3,4,5,6]\n",
    "x=list(filter(x,b))\n",
    "print(x)"
   ]
  },
  {
   "cell_type": "code",
   "execution_count": 8,
   "metadata": {},
   "outputs": [
    {
     "name": "stdout",
     "output_type": "stream",
     "text": [
      "[4, 8, 12]\n"
     ]
    }
   ],
   "source": [
    "def x(n):\n",
    "    return n%2==0\n",
    "b=[1,2,3,4,5,6]\n",
    "d=list(filter(x,b))\n",
    "c=list(map(lambda a:a*2,d))\n",
    "print(c)"
   ]
  },
  {
   "cell_type": "code",
   "execution_count": 9,
   "metadata": {},
   "outputs": [
    {
     "name": "stdout",
     "output_type": "stream",
     "text": [
      "[8, 45, 56, 443, 456, 32323]\n"
     ]
    }
   ],
   "source": [
    "r=[8,45,443,56,32323,456]\n",
    "for i in range(len(r)):\n",
    "    for j in range(i+1,len(r)):\n",
    "        if r[i]>r[j]:\n",
    "            r[i],r[j]=r[j],r[i]\n",
    "print(r)"
   ]
  },
  {
   "cell_type": "code",
   "execution_count": 11,
   "metadata": {},
   "outputs": [
    {
     "name": "stdout",
     "output_type": "stream",
     "text": [
      "1 14 50 59 69 "
     ]
    }
   ],
   "source": [
    "def x(a):\n",
    "    for i in range(len(a)):\n",
    "        s=i\n",
    "        for j in range(i+1,len(a)):\n",
    "            if a[s]>a[j]:\n",
    "                s=j\n",
    "        a[i],a[s]=a[s],a[i]\n",
    "def l(a):\n",
    "    for i in range(len(a)):\n",
    "        print(a[i],end=\" \")\n",
    "a=[69,14,1,50,59]\n",
    "x(a)\n",
    "l(a)"
   ]
  },
  {
   "cell_type": "code",
   "execution_count": 3,
   "metadata": {},
   "outputs": [
    {
     "name": "stdout",
     "output_type": "stream",
     "text": [
      "7\n",
      "2\n",
      "5\n",
      "World\n",
      "Asia\n",
      "Africa\n",
      "China\n",
      "India\n",
      "SouthAfrica\n",
      "Egypt\n",
      "1 China 9\n",
      "1 India 9\n",
      "3 Asia 9\n",
      "2 India 9\n",
      "2 Asia 9\n",
      "true true true false true "
     ]
    }
   ],
   "source": [
    "def lock(name):\n",
    "    ind = nodes.index(name)+1\n",
    "    c1 = ind * 2\n",
    "    c2 = ind * 2 + 1\n",
    "    if status[name] == 'lock' \\\n",
    "            or status[name] == 'fail':\n",
    "        return 'false'\n",
    "    else:\n",
    "        p = ind//2\n",
    "        status[nodes[p-1]] = 'fail'\n",
    "        status[name] = 'lock'\n",
    "        return 'true'\n",
    " \n",
    "# Unlocking function\n",
    "def unlock(name):\n",
    "    if status[name] == 'lock':\n",
    "        status[name] = 'unlock'\n",
    "        return 'true'\n",
    "    else:\n",
    "        return 'false'\n",
    " \n",
    "# Upgrade function\n",
    "def upgrade(name):\n",
    "    ind = nodes.index(name)+1\n",
    " \n",
    "    # left child of ind\n",
    "    c1 = ind * 2\n",
    " \n",
    "    # right child of ind\n",
    "    c2 = ind * 2 + 1\n",
    "    if c1 in range(1, n) and c2 in range(1, n):\n",
    "        if status[nodes[c1-1]] == 'lock' \\\n",
    "            and status[nodes[c2-1]] == 'lock':\n",
    "            status[nodes[c1-1]] = 'unlock'\n",
    "            status[nodes[c2-1]] = 'unlock'\n",
    "            status[nodes[ind-1]] = 'lock'\n",
    "            return 'true'\n",
    "        else:\n",
    "            return 'false'\n",
    " \n",
    "# Precomputation\n",
    "def precompute(queries):\n",
    "  d = []\n",
    "   \n",
    "  # Traversing the queries\n",
    "  for j in queries:\n",
    "      i = j.split()\n",
    "      d.append(i[1])\n",
    "      d.append(int(i[0]))\n",
    " \n",
    "  status = {}\n",
    "  for j in range(0, len(d)-1, 2):\n",
    "      status[d[j]] = 0\n",
    "  return status, d\n",
    " \n",
    "# Function to perform operations\n",
    "def operation(name, code):\n",
    "    result = 'false'\n",
    "     \n",
    "    # Choose operation to perform\n",
    "    if code == 1:\n",
    "        result = lock(name)\n",
    "    elif code == 2:\n",
    "        result = unlock(name)\n",
    "    elif code == 3:\n",
    "        result = upgrade(name)\n",
    "    return result\n",
    "   \n",
    "   \n",
    "# Driver Code\n",
    "if __name__ == '__main__':\n",
    "   \n",
    "      # Given Input\n",
    "    n = int(input());\n",
    "    m = int(input())\n",
    "    apis = int(input())\n",
    "    nodes = []\n",
    "    for i in range(n):\n",
    "        x=input()\n",
    "        nodes.append(x)\n",
    "    queries = []\n",
    "    for i in range(apis):\n",
    "        y=input()\n",
    "        queries.append(y)\n",
    "     \n",
    "    # Precomputation\n",
    "    status, d = precompute(queries)\n",
    " \n",
    "    # Function Call\n",
    "    for j in range(0, len(d) - 1, 2):\n",
    "        print(operation(d[j], d[j + 1]), end = ' ')"
   ]
  },
  {
   "cell_type": "code",
   "execution_count": null,
   "metadata": {},
   "outputs": [],
   "source": []
  }
 ],
 "metadata": {
  "kernelspec": {
   "display_name": "Python 3",
   "language": "python",
   "name": "python3"
  },
  "language_info": {
   "codemirror_mode": {
    "name": "ipython",
    "version": 3
   },
   "file_extension": ".py",
   "mimetype": "text/x-python",
   "name": "python",
   "nbconvert_exporter": "python",
   "pygments_lexer": "ipython3",
   "version": "3.8.5"
  }
 },
 "nbformat": 4,
 "nbformat_minor": 4
}
